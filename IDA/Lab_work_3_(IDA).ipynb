{
  "nbformat": 4,
  "nbformat_minor": 0,
  "metadata": {
    "colab": {
      "provenance": [],
      "collapsed_sections": [
        "Uajxt1XkpnRE",
        "zu5jNMkJk_wY"
      ],
      "include_colab_link": true
    },
    "kernelspec": {
      "name": "python3",
      "display_name": "Python 3"
    },
    "language_info": {
      "name": "python"
    }
  },
  "cells": [
    {
      "cell_type": "markdown",
      "metadata": {
        "id": "view-in-github",
        "colab_type": "text"
      },
      "source": [
        "<a href=\"https://colab.research.google.com/github/NicKostii/UniProjects/blob/main/IDA/Lab_work_3_(IDA).ipynb\" target=\"_parent\"><img src=\"https://colab.research.google.com/assets/colab-badge.svg\" alt=\"Open In Colab\"/></a>"
      ]
    },
    {
      "cell_type": "markdown",
      "source": [
        "# Лабороторна робота №3\n",
        "Варіант 1   \n",
        "Тюкалов Ніколай КА-13"
      ],
      "metadata": {
        "id": "fiEMuE7xmbFt"
      }
    },
    {
      "cell_type": "markdown",
      "source": [
        "# Завдання"
      ],
      "metadata": {
        "id": "LyImtuKHk-61"
      }
    },
    {
      "cell_type": "markdown",
      "source": [
        "**Хiд виконання роботи:**\n",
        "1. Представити початковi данi графiчно.\n",
        "2. Розбити данi на навчальний та валiдацiйний набори.\n",
        "\n",
        "3. Побудувати на навчальному наборi даних моделi класифiкацiї або регресiї заданi згiдно з варiантом.\n",
        "\n",
        "4. Представити моделi графiчно (наприклад вивести частину дерева рi-\n",
        "шень, побудувати лiнiю регресiї тощо).\n",
        "\n",
        "5. Виконати прогнози на основi побудованих моделей.\n",
        "6. Для кожної з моделей оцiнити, чи має мiсце перенавчання.\n",
        "\n",
        "7. Розрахувати додатковi результати моделей, наприклад, апостерiорнi iмо-\n",
        "вiрностi або iншi (згiдно з варiантом).\n",
        "\n",
        "8. В задачах класифiкацiї побудувати границi рiшень графiчно для кожної\n",
        "з моделей.\n",
        "\n",
        "9. В задачах класифiкацiї розрахувати для кожної моделi значення наступних критерiїв якостi, окремо на навчальнiй та валiдацiйнiй множинах:\n",
        "\n",
        "  • матрицю неточностей (confusion matrix),\n",
        "\n",
        "  • точнiсть (precision),\n",
        "\n",
        "  • повноту (recall),\n",
        "\n",
        "  • мiру F1 (F1 score),\n",
        "\n",
        "  • побудувати криву точностi-повноти (precision-recall (PR) curve), ROC-\n",
        "  криву, показник AUC.\n",
        "\n",
        "11. Спробувати виконати решiтчастий пошук (grid search) для пiдбору гiперпараметрiв моделей.\n",
        "\n",
        "12. Зробити висновки про якiсть роботи моделей на дослiджених даних. На\n",
        "основi критерiїв якостi спробувати обрати найкращу модель.\n",
        "13. Навчити моделi на пiдмножинах навчальних даних. Оцiнити, наскiльки\n",
        "розмiр навчальної множини впливає на якiсть моделi.\n",
        "14. Кожний варiант мiстить два набори даних. Дослiдити обидва набори за\n",
        "наведеними вище етапами. Можна обрати власний набiр даних (повiдо-\n",
        "мивши попередньо про це викладача), наприклад, з цiкавої вам практи-\n",
        "чної задачi. Для кожного набору спробувати пiдiбрати найкращу модель.\n",
        "\n",
        "Для отримання максимальної оцiнки потрiбно виконати ВСI етапи Ходу виконання роботи та оформити звiт. Звiтом може бути, наприклад, файл jupyter notebook з кодом програми i текстовими поясненнями вiдповiдно до\n",
        "Ходу виконання роботи та отриманих цифр.\n",
        "Звiт має мiстити:\n",
        "- ПIБ студента, номер групи,\n",
        "- умову завдання,\n",
        "- текст програми,\n",
        "\n",
        "- результати аналiзу кiлькох моделей, пiдбiр гiперпараметрiв, значення метрик якостi моделей, оцiнку впливу розмiру навчальної вибiрки на якiсть моделi.\n",
        "\n",
        "\n",
        "**2 Варiанти завдань**\n",
        "\n",
        "Побудувати моделi класифiкацiї на основi методу дерев рiшень, використовуючи sklearn.neural_network.MLPClassifier.\n",
        "Почати з одношарової моделі нейронної мережі і визначте чи достатньо буде одношарової моделі для опису даних. Реалізуйте динамічне додавання нейронів до скритого шару.\n",
        "Перевірте скільки нейронів в одношаровій моделі буде достатньо для задовільного розв'язання задачі.\n",
        "\n",
        "Початковi данi:\n",
        "\n",
        "**(а)**\n",
        "\n",
        "    import numpy as np\n",
        "    np.random.seed(0)\n",
        "    X = np.random.randn(300,2)\n",
        "    Y = np.logical_xor(X[:,0] > 0, X[:,1] > 0 )\n",
        "\n",
        "**(б)**\n",
        "\n",
        "     dataset_Malicious_and_Benign_Websites.csv"
      ],
      "metadata": {
        "id": "aY0pdglYmy1m"
      }
    },
    {
      "cell_type": "markdown",
      "source": [
        "# Необхідні бібліотеки"
      ],
      "metadata": {
        "id": "Uajxt1XkpnRE"
      }
    },
    {
      "cell_type": "code",
      "execution_count": null,
      "metadata": {
        "id": "NQIFWWYZzFjL"
      },
      "outputs": [],
      "source": [
        "import pandas as pd\n",
        "import numpy as np\n",
        "import matplotlib.pyplot as plt\n",
        "import seaborn as sns\n",
        "%matplotlib inline\n",
        "from google.colab import drive\n",
        "from sklearn.model_selection import train_test_split, GridSearchCV, RandomizedSearchCV\n",
        "from sklearn import tree\n",
        "from sklearn.metrics import classification_report, confusion_matrix, precision_recall_curve, roc_curve, auc, f1_score\n",
        "from sklearn.neural_network import MLPClassifier"
      ]
    },
    {
      "cell_type": "markdown",
      "source": [
        "# Перший dataset"
      ],
      "metadata": {
        "id": "zu5jNMkJk_wY"
      }
    },
    {
      "cell_type": "markdown",
      "source": [
        "**Препроцесінг**"
      ],
      "metadata": {
        "id": "NqzCwwXH4v1y"
      }
    },
    {
      "cell_type": "code",
      "source": [
        "np.random.seed(0)\n",
        "X = np.random.randn(300,2)\n",
        "Y = np.logical_xor(X[:,0] > 0, X[:,1] > 0 )"
      ],
      "metadata": {
        "id": "2bvQbt-0pb9G"
      },
      "execution_count": null,
      "outputs": []
    },
    {
      "cell_type": "code",
      "source": [
        "df = pd.DataFrame({'f1': X[:, 0], 'f2': X[:, 1], 'trgt': Y})\n",
        "df = pd.get_dummies(data= df, columns = ['trgt'], drop_first= True)\n",
        "df = df.rename(columns={'trgt_True': 'trgt'})\n",
        "df.head()"
      ],
      "metadata": {
        "colab": {
          "base_uri": "https://localhost:8080/",
          "height": 206
        },
        "id": "W0yPn_JowRlS",
        "outputId": "e0a0cee7-3a92-4319-b6ba-6978fb80a2ca"
      },
      "execution_count": null,
      "outputs": [
        {
          "output_type": "execute_result",
          "data": {
            "text/plain": [
              "         f1        f2  trgt\n",
              "0  1.764052  0.400157     0\n",
              "1  0.978738  2.240893     0\n",
              "2  1.867558 -0.977278     1\n",
              "3  0.950088 -0.151357     1\n",
              "4 -0.103219  0.410599     1"
            ],
            "text/html": [
              "\n",
              "  <div id=\"df-9e211e53-3476-4d72-97f1-4ebfc68ebbbd\" class=\"colab-df-container\">\n",
              "    <div>\n",
              "<style scoped>\n",
              "    .dataframe tbody tr th:only-of-type {\n",
              "        vertical-align: middle;\n",
              "    }\n",
              "\n",
              "    .dataframe tbody tr th {\n",
              "        vertical-align: top;\n",
              "    }\n",
              "\n",
              "    .dataframe thead th {\n",
              "        text-align: right;\n",
              "    }\n",
              "</style>\n",
              "<table border=\"1\" class=\"dataframe\">\n",
              "  <thead>\n",
              "    <tr style=\"text-align: right;\">\n",
              "      <th></th>\n",
              "      <th>f1</th>\n",
              "      <th>f2</th>\n",
              "      <th>trgt</th>\n",
              "    </tr>\n",
              "  </thead>\n",
              "  <tbody>\n",
              "    <tr>\n",
              "      <th>0</th>\n",
              "      <td>1.764052</td>\n",
              "      <td>0.400157</td>\n",
              "      <td>0</td>\n",
              "    </tr>\n",
              "    <tr>\n",
              "      <th>1</th>\n",
              "      <td>0.978738</td>\n",
              "      <td>2.240893</td>\n",
              "      <td>0</td>\n",
              "    </tr>\n",
              "    <tr>\n",
              "      <th>2</th>\n",
              "      <td>1.867558</td>\n",
              "      <td>-0.977278</td>\n",
              "      <td>1</td>\n",
              "    </tr>\n",
              "    <tr>\n",
              "      <th>3</th>\n",
              "      <td>0.950088</td>\n",
              "      <td>-0.151357</td>\n",
              "      <td>1</td>\n",
              "    </tr>\n",
              "    <tr>\n",
              "      <th>4</th>\n",
              "      <td>-0.103219</td>\n",
              "      <td>0.410599</td>\n",
              "      <td>1</td>\n",
              "    </tr>\n",
              "  </tbody>\n",
              "</table>\n",
              "</div>\n",
              "    <div class=\"colab-df-buttons\">\n",
              "\n",
              "  <div class=\"colab-df-container\">\n",
              "    <button class=\"colab-df-convert\" onclick=\"convertToInteractive('df-9e211e53-3476-4d72-97f1-4ebfc68ebbbd')\"\n",
              "            title=\"Convert this dataframe to an interactive table.\"\n",
              "            style=\"display:none;\">\n",
              "\n",
              "  <svg xmlns=\"http://www.w3.org/2000/svg\" height=\"24px\" viewBox=\"0 -960 960 960\">\n",
              "    <path d=\"M120-120v-720h720v720H120Zm60-500h600v-160H180v160Zm220 220h160v-160H400v160Zm0 220h160v-160H400v160ZM180-400h160v-160H180v160Zm440 0h160v-160H620v160ZM180-180h160v-160H180v160Zm440 0h160v-160H620v160Z\"/>\n",
              "  </svg>\n",
              "    </button>\n",
              "\n",
              "  <style>\n",
              "    .colab-df-container {\n",
              "      display:flex;\n",
              "      gap: 12px;\n",
              "    }\n",
              "\n",
              "    .colab-df-convert {\n",
              "      background-color: #E8F0FE;\n",
              "      border: none;\n",
              "      border-radius: 50%;\n",
              "      cursor: pointer;\n",
              "      display: none;\n",
              "      fill: #1967D2;\n",
              "      height: 32px;\n",
              "      padding: 0 0 0 0;\n",
              "      width: 32px;\n",
              "    }\n",
              "\n",
              "    .colab-df-convert:hover {\n",
              "      background-color: #E2EBFA;\n",
              "      box-shadow: 0px 1px 2px rgba(60, 64, 67, 0.3), 0px 1px 3px 1px rgba(60, 64, 67, 0.15);\n",
              "      fill: #174EA6;\n",
              "    }\n",
              "\n",
              "    .colab-df-buttons div {\n",
              "      margin-bottom: 4px;\n",
              "    }\n",
              "\n",
              "    [theme=dark] .colab-df-convert {\n",
              "      background-color: #3B4455;\n",
              "      fill: #D2E3FC;\n",
              "    }\n",
              "\n",
              "    [theme=dark] .colab-df-convert:hover {\n",
              "      background-color: #434B5C;\n",
              "      box-shadow: 0px 1px 3px 1px rgba(0, 0, 0, 0.15);\n",
              "      filter: drop-shadow(0px 1px 2px rgba(0, 0, 0, 0.3));\n",
              "      fill: #FFFFFF;\n",
              "    }\n",
              "  </style>\n",
              "\n",
              "    <script>\n",
              "      const buttonEl =\n",
              "        document.querySelector('#df-9e211e53-3476-4d72-97f1-4ebfc68ebbbd button.colab-df-convert');\n",
              "      buttonEl.style.display =\n",
              "        google.colab.kernel.accessAllowed ? 'block' : 'none';\n",
              "\n",
              "      async function convertToInteractive(key) {\n",
              "        const element = document.querySelector('#df-9e211e53-3476-4d72-97f1-4ebfc68ebbbd');\n",
              "        const dataTable =\n",
              "          await google.colab.kernel.invokeFunction('convertToInteractive',\n",
              "                                                    [key], {});\n",
              "        if (!dataTable) return;\n",
              "\n",
              "        const docLinkHtml = 'Like what you see? Visit the ' +\n",
              "          '<a target=\"_blank\" href=https://colab.research.google.com/notebooks/data_table.ipynb>data table notebook</a>'\n",
              "          + ' to learn more about interactive tables.';\n",
              "        element.innerHTML = '';\n",
              "        dataTable['output_type'] = 'display_data';\n",
              "        await google.colab.output.renderOutput(dataTable, element);\n",
              "        const docLink = document.createElement('div');\n",
              "        docLink.innerHTML = docLinkHtml;\n",
              "        element.appendChild(docLink);\n",
              "      }\n",
              "    </script>\n",
              "  </div>\n",
              "\n",
              "\n",
              "<div id=\"df-bb7476d4-3c1d-46f7-9a7d-ae4563667363\">\n",
              "  <button class=\"colab-df-quickchart\" onclick=\"quickchart('df-bb7476d4-3c1d-46f7-9a7d-ae4563667363')\"\n",
              "            title=\"Suggest charts.\"\n",
              "            style=\"display:none;\">\n",
              "\n",
              "<svg xmlns=\"http://www.w3.org/2000/svg\" height=\"24px\"viewBox=\"0 0 24 24\"\n",
              "     width=\"24px\">\n",
              "    <g>\n",
              "        <path d=\"M19 3H5c-1.1 0-2 .9-2 2v14c0 1.1.9 2 2 2h14c1.1 0 2-.9 2-2V5c0-1.1-.9-2-2-2zM9 17H7v-7h2v7zm4 0h-2V7h2v10zm4 0h-2v-4h2v4z\"/>\n",
              "    </g>\n",
              "</svg>\n",
              "  </button>\n",
              "\n",
              "<style>\n",
              "  .colab-df-quickchart {\n",
              "      --bg-color: #E8F0FE;\n",
              "      --fill-color: #1967D2;\n",
              "      --hover-bg-color: #E2EBFA;\n",
              "      --hover-fill-color: #174EA6;\n",
              "      --disabled-fill-color: #AAA;\n",
              "      --disabled-bg-color: #DDD;\n",
              "  }\n",
              "\n",
              "  [theme=dark] .colab-df-quickchart {\n",
              "      --bg-color: #3B4455;\n",
              "      --fill-color: #D2E3FC;\n",
              "      --hover-bg-color: #434B5C;\n",
              "      --hover-fill-color: #FFFFFF;\n",
              "      --disabled-bg-color: #3B4455;\n",
              "      --disabled-fill-color: #666;\n",
              "  }\n",
              "\n",
              "  .colab-df-quickchart {\n",
              "    background-color: var(--bg-color);\n",
              "    border: none;\n",
              "    border-radius: 50%;\n",
              "    cursor: pointer;\n",
              "    display: none;\n",
              "    fill: var(--fill-color);\n",
              "    height: 32px;\n",
              "    padding: 0;\n",
              "    width: 32px;\n",
              "  }\n",
              "\n",
              "  .colab-df-quickchart:hover {\n",
              "    background-color: var(--hover-bg-color);\n",
              "    box-shadow: 0 1px 2px rgba(60, 64, 67, 0.3), 0 1px 3px 1px rgba(60, 64, 67, 0.15);\n",
              "    fill: var(--button-hover-fill-color);\n",
              "  }\n",
              "\n",
              "  .colab-df-quickchart-complete:disabled,\n",
              "  .colab-df-quickchart-complete:disabled:hover {\n",
              "    background-color: var(--disabled-bg-color);\n",
              "    fill: var(--disabled-fill-color);\n",
              "    box-shadow: none;\n",
              "  }\n",
              "\n",
              "  .colab-df-spinner {\n",
              "    border: 2px solid var(--fill-color);\n",
              "    border-color: transparent;\n",
              "    border-bottom-color: var(--fill-color);\n",
              "    animation:\n",
              "      spin 1s steps(1) infinite;\n",
              "  }\n",
              "\n",
              "  @keyframes spin {\n",
              "    0% {\n",
              "      border-color: transparent;\n",
              "      border-bottom-color: var(--fill-color);\n",
              "      border-left-color: var(--fill-color);\n",
              "    }\n",
              "    20% {\n",
              "      border-color: transparent;\n",
              "      border-left-color: var(--fill-color);\n",
              "      border-top-color: var(--fill-color);\n",
              "    }\n",
              "    30% {\n",
              "      border-color: transparent;\n",
              "      border-left-color: var(--fill-color);\n",
              "      border-top-color: var(--fill-color);\n",
              "      border-right-color: var(--fill-color);\n",
              "    }\n",
              "    40% {\n",
              "      border-color: transparent;\n",
              "      border-right-color: var(--fill-color);\n",
              "      border-top-color: var(--fill-color);\n",
              "    }\n",
              "    60% {\n",
              "      border-color: transparent;\n",
              "      border-right-color: var(--fill-color);\n",
              "    }\n",
              "    80% {\n",
              "      border-color: transparent;\n",
              "      border-right-color: var(--fill-color);\n",
              "      border-bottom-color: var(--fill-color);\n",
              "    }\n",
              "    90% {\n",
              "      border-color: transparent;\n",
              "      border-bottom-color: var(--fill-color);\n",
              "    }\n",
              "  }\n",
              "</style>\n",
              "\n",
              "  <script>\n",
              "    async function quickchart(key) {\n",
              "      const quickchartButtonEl =\n",
              "        document.querySelector('#' + key + ' button');\n",
              "      quickchartButtonEl.disabled = true;  // To prevent multiple clicks.\n",
              "      quickchartButtonEl.classList.add('colab-df-spinner');\n",
              "      try {\n",
              "        const charts = await google.colab.kernel.invokeFunction(\n",
              "            'suggestCharts', [key], {});\n",
              "      } catch (error) {\n",
              "        console.error('Error during call to suggestCharts:', error);\n",
              "      }\n",
              "      quickchartButtonEl.classList.remove('colab-df-spinner');\n",
              "      quickchartButtonEl.classList.add('colab-df-quickchart-complete');\n",
              "    }\n",
              "    (() => {\n",
              "      let quickchartButtonEl =\n",
              "        document.querySelector('#df-bb7476d4-3c1d-46f7-9a7d-ae4563667363 button');\n",
              "      quickchartButtonEl.style.display =\n",
              "        google.colab.kernel.accessAllowed ? 'block' : 'none';\n",
              "    })();\n",
              "  </script>\n",
              "</div>\n",
              "    </div>\n",
              "  </div>\n"
            ]
          },
          "metadata": {},
          "execution_count": 3
        }
      ]
    },
    {
      "cell_type": "markdown",
      "source": [
        "***Візуалізація***"
      ],
      "metadata": {
        "id": "sU80C12b4y_8"
      }
    },
    {
      "cell_type": "code",
      "source": [
        "sns.scatterplot(data=df, x = 'f1', y ='f2', hue = 'trgt')"
      ],
      "metadata": {
        "colab": {
          "base_uri": "https://localhost:8080/",
          "height": 466
        },
        "id": "9BJlbQNAyf-a",
        "outputId": "437f8d00-de0f-4d4a-c239-14ac216c7654"
      },
      "execution_count": null,
      "outputs": [
        {
          "output_type": "execute_result",
          "data": {
            "text/plain": [
              "<Axes: xlabel='f1', ylabel='f2'>"
            ]
          },
          "metadata": {},
          "execution_count": 4
        },
        {
          "output_type": "display_data",
          "data": {
            "text/plain": [
              "<Figure size 640x480 with 1 Axes>"
            ],
            "image/png": "[encoded data removed]"
          },
          "metadata": {}
        }
      ]
    },
    {
      "cell_type": "markdown",
      "source": [
        "From plot we can clearly see that classes are separeted in the (0,0) point. NE, SW directions are filled with '0' and NW, SE directions are populated with '1'. So the tree must be really simple and solution boundaries vey distinct and simple too."
      ],
      "metadata": {
        "id": "0TjFp0RGy4wK"
      }
    },
    {
      "cell_type": "markdown",
      "source": [
        "**Розбиття на навчальний та валідаційний датасети**"
      ],
      "metadata": {
        "id": "GYJx5xiJ43DQ"
      }
    },
    {
      "cell_type": "code",
      "source": [
        "X_train, X_test, y_train, y_test = train_test_split(df[['f1','f2']], df['trgt'], test_size=0.30)"
      ],
      "metadata": {
        "id": "HPzX0LBU5HWQ"
      },
      "execution_count": null,
      "outputs": []
    },
    {
      "cell_type": "markdown",
      "source": [
        "**Побудова дерева**"
      ],
      "metadata": {
        "id": "cecOIrfmERNv"
      }
    },
    {
      "cell_type": "code",
      "source": [
        "mlp = MLPClassifier(hidden_layer_sizes=(100,), max_iter=10, solver = 'lbfgs')\n",
        "mlp.fit(X_train, y_train)\n",
        "predictions = mlp.predict(X_test)"
      ],
      "metadata": {
        "id": "chQi7gxeEQce",
        "colab": {
          "base_uri": "https://localhost:8080/"
        },
        "outputId": "26e318a1-5a79-45d0-fd0b-526afb6cef92"
      },
      "execution_count": null,
      "outputs": [
        {
          "output_type": "stream",
          "name": "stderr",
          "text": [
            "/usr/local/lib/python3.10/dist-packages/sklearn/neural_network/_multilayer_perceptron.py:541: ConvergenceWarning: lbfgs failed to converge (status=1):\n",
            "STOP: TOTAL NO. of ITERATIONS REACHED LIMIT.\n",
            "\n",
            "Increase the number of iterations (max_iter) or scale the data as shown in:\n",
            "    https://scikit-learn.org/stable/modules/preprocessing.html\n",
            "  self.n_iter_ = _check_optimize_result(\"lbfgs\", opt_res, self.max_iter)\n"
          ]
        }
      ]
    },
    {
      "cell_type": "code",
      "source": [
        "x_min, x_max = X[:, 0].min() - 1, X[:, 0].max() + 1\n",
        "y_min, y_max = X[:, 1].min() - 1, X[:, 1].max() + 1\n",
        "xx, yy = np.meshgrid(np.arange(x_min, x_max, 0.01), np.arange(y_min, y_max, 0.01))\n",
        "Z = mlp.predict(np.c_[xx.ravel(), yy.ravel()])\n",
        "Z = Z.reshape(xx.shape)\n",
        "plt.contourf(xx, yy, Z, alpha=0.3)\n",
        "plt.scatter(X[:, 0], X[:, 1], c=Y, cmap=plt.cm.coolwarm)\n",
        "plt.xlabel('Feature 1')\n",
        "plt.ylabel('Feature 2')\n",
        "plt.title('Decision Boundaries')\n",
        "plt.show()"
      ],
      "metadata": {
        "colab": {
          "base_uri": "https://localhost:8080/",
          "height": 507
        },
        "id": "xdapXkfIJmCm",
        "outputId": "d8e2b66c-6c7d-40a8-fa15-b2ec55eef3a6"
      },
      "execution_count": null,
      "outputs": [
        {
          "output_type": "stream",
          "name": "stderr",
          "text": [
            "/usr/local/lib/python3.10/dist-packages/sklearn/base.py:439: UserWarning: X does not have valid feature names, but MLPClassifier was fitted with feature names\n",
            "  warnings.warn(\n"
          ]
        },
        {
          "output_type": "display_data",
          "data": {
            "text/plain": [
              "<Figure size 640x480 with 1 Axes>"
            ],
            "image/png": "[encoded data removed]"
          },
          "metadata": {}
        }
      ]
    },
    {
      "cell_type": "code",
      "source": [
        "print(classification_report(y_test,predictions))"
      ],
      "metadata": {
        "colab": {
          "base_uri": "https://localhost:8080/"
        },
        "id": "k8PRShMZF13U",
        "outputId": "ce0e82eb-70b9-4ad5-b687-e718794e442f"
      },
      "execution_count": null,
      "outputs": [
        {
          "output_type": "stream",
          "name": "stdout",
          "text": [
            "              precision    recall  f1-score   support\n",
            "\n",
            "           0       0.98      0.96      0.97        48\n",
            "           1       0.95      0.98      0.96        42\n",
            "\n",
            "    accuracy                           0.97        90\n",
            "   macro avg       0.97      0.97      0.97        90\n",
            "weighted avg       0.97      0.97      0.97        90\n",
            "\n"
          ]
        }
      ]
    },
    {
      "cell_type": "code",
      "source": [
        "print(confusion_matrix(y_test,predictions))"
      ],
      "metadata": {
        "colab": {
          "base_uri": "https://localhost:8080/"
        },
        "id": "lKQGeACbHbZV",
        "outputId": "54ec0cb2-885c-4486-9f90-15b80c52b953"
      },
      "execution_count": null,
      "outputs": [
        {
          "output_type": "stream",
          "name": "stdout",
          "text": [
            "[[46  2]\n",
            " [ 1 41]]\n"
          ]
        }
      ]
    },
    {
      "cell_type": "markdown",
      "source": [
        "Як ми бачимо точність >= 0.95 для всіх метрік, тобто дуже висока, але потенційно може бути вишче, а дерево може бути простіше, враховуючи природу датасета. Конкретно для цієї моделі, якщо подивтись на границі рішень, то **незначне перенавчання присутнє**."
      ],
      "metadata": {
        "id": "YPYzcknaF8oN"
      }
    },
    {
      "cell_type": "markdown",
      "source": [
        "**PR Curve**"
      ],
      "metadata": {
        "id": "jPl0K01jhqXQ"
      }
    },
    {
      "cell_type": "code",
      "source": [
        "precision, recall, thresholds = precision_recall_curve(y_test, predictions)\n",
        "plt.plot(recall, precision, color='b', label='PR Curve')\n"
      ],
      "metadata": {
        "colab": {
          "base_uri": "https://localhost:8080/",
          "height": 447
        },
        "id": "xlKSnWYcRmBO",
        "outputId": "1cd5b76e-f804-46e5-8f94-9c6b740305d8"
      },
      "execution_count": null,
      "outputs": [
        {
          "output_type": "execute_result",
          "data": {
            "text/plain": [
              "[<matplotlib.lines.Line2D at 0x7a0960b09120>]"
            ]
          },
          "metadata": {},
          "execution_count": 11
        },
        {
          "output_type": "display_data",
          "data": {
            "text/plain": [
              "<Figure size 640x480 with 1 Axes>"
            ],
            "image/png": "[encoded data removed]"
          },
          "metadata": {}
        }
      ]
    },
    {
      "cell_type": "markdown",
      "source": [
        "**ROC Curve**"
      ],
      "metadata": {
        "id": "_WW4PA4vhtke"
      }
    },
    {
      "cell_type": "code",
      "source": [
        "fpr, tpr, thresholds = roc_curve(y_test, predictions)\n",
        "plt.plot(fpr, tpr, color='darkred',label='ROC curve')"
      ],
      "metadata": {
        "colab": {
          "base_uri": "https://localhost:8080/",
          "height": 447
        },
        "id": "bErgq4Ephs4f",
        "outputId": "99316874-a96f-432e-f890-34ed769e9ea2"
      },
      "execution_count": null,
      "outputs": [
        {
          "output_type": "execute_result",
          "data": {
            "text/plain": [
              "[<matplotlib.lines.Line2D at 0x7a0960981e70>]"
            ]
          },
          "metadata": {},
          "execution_count": 12
        },
        {
          "output_type": "display_data",
          "data": {
            "text/plain": [
              "<Figure size 640x480 with 1 Axes>"
            ],
            "image/png": "[encoded data removed]"
          },
          "metadata": {}
        }
      ]
    },
    {
      "cell_type": "markdown",
      "source": [
        "**AUC**"
      ],
      "metadata": {
        "id": "-HtQK1oahwfx"
      }
    },
    {
      "cell_type": "code",
      "source": [
        "roc_auc = auc(fpr, tpr)\n",
        "roc_auc"
      ],
      "metadata": {
        "colab": {
          "base_uri": "https://localhost:8080/"
        },
        "id": "2OYJqCoshwBl",
        "outputId": "60f395b5-d031-4daf-dfa2-d04f5d109520"
      },
      "execution_count": null,
      "outputs": [
        {
          "output_type": "execute_result",
          "data": {
            "text/plain": [
              "0.9672619047619049"
            ]
          },
          "metadata": {},
          "execution_count": 13
        }
      ]
    },
    {
      "cell_type": "markdown",
      "source": [
        "Як видно з графіків та значення AUC (близьке до 1), модель досить непогана."
      ],
      "metadata": {
        "id": "wYkltBxojhav"
      }
    },
    {
      "cell_type": "markdown",
      "source": [
        "**Grid Search**"
      ],
      "metadata": {
        "id": "BA4IrKeBhz1S"
      }
    },
    {
      "cell_type": "code",
      "source": [
        "params = {'hidden_layer_sizes' : [(20,), (30,), (40,), (50,), (60,), (70,), (80,), (90,), (100,), (110,), (120,), (130,), (140,)],\n",
        "             'solver' : ['lbfgs'],\n",
        "             'max_iter'   : range(5, 30, 5)}\n",
        "\n",
        "mlp2 = MLPClassifier()\n",
        "bmlp = GridSearchCV(mlp, params, scoring='f1_weighted')\n",
        "bmlp.fit(X_train, y_train)"
      ],
      "metadata": {
        "id": "tetAqfbxkZIs"
      },
      "execution_count": null,
      "outputs": []
    },
    {
      "cell_type": "code",
      "source": [
        "mlp2 = MLPClassifier()"
      ],
      "metadata": {
        "id": "qQdEvd1KEYqK"
      },
      "execution_count": null,
      "outputs": []
    },
    {
      "cell_type": "code",
      "source": [
        "bmlp.best_params_"
      ],
      "metadata": {
        "colab": {
          "base_uri": "https://localhost:8080/"
        },
        "id": "d_ufN3ibl4sd",
        "outputId": "76df7b23-6834-4c25-f4c5-774191de0319"
      },
      "execution_count": null,
      "outputs": [
        {
          "output_type": "execute_result",
          "data": {
            "text/plain": [
              "{'hidden_layer_sizes': (60,), 'max_iter': 20, 'solver': 'lbfgs'}"
            ]
          },
          "metadata": {},
          "execution_count": 16
        }
      ]
    },
    {
      "cell_type": "code",
      "source": [
        "bmlp = bmlp.best_estimator_"
      ],
      "metadata": {
        "id": "b9oGSoJ8p_1U"
      },
      "execution_count": null,
      "outputs": []
    },
    {
      "cell_type": "code",
      "source": [
        "predictions2 = bmlp.predict(X_test)\n",
        "print(classification_report(y_test,predictions2))"
      ],
      "metadata": {
        "colab": {
          "base_uri": "https://localhost:8080/"
        },
        "id": "DcM6WiH0qTdE",
        "outputId": "19c3404e-3da3-4be1-d394-e03fa7a6da4c"
      },
      "execution_count": null,
      "outputs": [
        {
          "output_type": "stream",
          "name": "stdout",
          "text": [
            "              precision    recall  f1-score   support\n",
            "\n",
            "           0       0.98      1.00      0.99        48\n",
            "           1       1.00      0.98      0.99        42\n",
            "\n",
            "    accuracy                           0.99        90\n",
            "   macro avg       0.99      0.99      0.99        90\n",
            "weighted avg       0.99      0.99      0.99        90\n",
            "\n"
          ]
        }
      ]
    },
    {
      "cell_type": "code",
      "source": [
        "x_min, x_max = X[:, 0].min() - 1, X[:, 0].max() + 1\n",
        "y_min, y_max = X[:, 1].min() - 1, X[:, 1].max() + 1\n",
        "xx, yy = np.meshgrid(np.arange(x_min, x_max, 0.01), np.arange(y_min, y_max, 0.01))\n",
        "Z = bmlp.predict(np.c_[xx.ravel(), yy.ravel()])\n",
        "Z = Z.reshape(xx.shape)\n",
        "plt.contourf(xx, yy, Z, alpha=0.3)\n",
        "plt.scatter(X[:, 0], X[:, 1], c=Y, cmap=plt.cm.coolwarm)\n",
        "plt.xlabel('Feature 1')\n",
        "plt.ylabel('Feature 2')\n",
        "plt.title('Decision Boundaries')\n",
        "plt.show()"
      ],
      "metadata": {
        "colab": {
          "base_uri": "https://localhost:8080/",
          "height": 507
        },
        "id": "RfNS_t2tDy3V",
        "outputId": "6e3815ad-d649-479b-d8d7-31b3869b3e42"
      },
      "execution_count": null,
      "outputs": [
        {
          "output_type": "stream",
          "name": "stderr",
          "text": [
            "/usr/local/lib/python3.10/dist-packages/sklearn/base.py:439: UserWarning: X does not have valid feature names, but MLPClassifier was fitted with feature names\n",
            "  warnings.warn(\n"
          ]
        },
        {
          "output_type": "display_data",
          "data": {
            "text/plain": [
              "<Figure size 640x480 with 1 Axes>"
            ],
            "image/png": "[encoded data removed]"
          },
          "metadata": {}
        }
      ]
    },
    {
      "cell_type": "markdown",
      "source": [
        "Конкретно в цьому випадку, схоже ми знайшли \" майже ідеальну модель\". Ми прибрали проблему перенавчання і наша condussion matrix майже ідеальна."
      ],
      "metadata": {
        "id": "L1Mvy-IVq2b-"
      }
    },
    {
      "cell_type": "markdown",
      "source": [
        "**Розмір навчального та тренувального наборів**"
      ],
      "metadata": {
        "id": "01z_4YTYisFj"
      }
    },
    {
      "cell_type": "code",
      "source": [
        "for i in range(1,10):\n",
        "\n",
        "    XX_train, XX_test, yy_train, yy_test = train_test_split(df[['f1','f2']], df['trgt'], test_size=(i / 10))\n",
        "    nbmlp = MLPClassifier(hidden_layer_sizes=(60,), max_iter=20, solver = 'lbfgs')\n",
        "    nbmlp.fit(XX_train,yy_train)\n",
        "    predictions3 = nbmlp.predict(XX_test)\n",
        "    print('iterration №', i)\n",
        "    print(f1_score( yy_test, predictions3))"
      ],
      "metadata": {
        "id": "iYM1t_EarCJS"
      },
      "execution_count": null,
      "outputs": []
    },
    {
      "cell_type": "markdown",
      "source": [
        "iterration № 1\n",
        "\n",
        "1.0\n",
        "\n",
        "iterration № 2\n",
        "\n",
        "0.983050847457627\n",
        "\n",
        "iterration № 3\n",
        "\n",
        "0.989247311827957\n",
        "\n",
        "iterration № 4\n",
        "\n",
        "0.9739130434782608\n",
        "\n",
        "iterration № 5\n",
        "\n",
        "1.0\n",
        "\n",
        "iterration № 6\n",
        "\n",
        "0.9878048780487805\n",
        "\n",
        "iterration № 7\n",
        "\n",
        "0.9902912621359222\n",
        "\n",
        "iterration № 8\n",
        "\n",
        "0.9465020576131686\n",
        "\n",
        "iterration № 9\n",
        "\n",
        "0.8663967611336033"
      ],
      "metadata": {
        "id": "pZdgGSwVFR3L"
      }
    },
    {
      "cell_type": "markdown",
      "source": [
        "Як можна побачити, розподіл та навчульний та валідаційний набори дуже впливає на результативну модель. Разом з використанням найкращих параметрів ми отримали \"ідеальну модель\"."
      ],
      "metadata": {
        "id": "qfGZ5DhuuC7n"
      }
    },
    {
      "cell_type": "markdown",
      "source": [
        "**Результати**"
      ],
      "metadata": {
        "id": "aUdFu7ZKi9Ps"
      }
    },
    {
      "cell_type": "markdown",
      "source": [
        "На датасеті (а) я виконав всі умови лабораторної. Через штучність датасету він є надпростим для алгоритму, тому навіть зі стандартнимим параметрами розв'язок дуже точний. Контроль розміру датасета показав себе дуже ефективним. В результаті я змог знайти \"ідеальну модель\". Перенавчання в фінальний моделі немає. З цим допомогли параметри розраховані методом Grid Search."
      ],
      "metadata": {
        "id": "KRryIy_tuWZj"
      }
    },
    {
      "cell_type": "markdown",
      "source": [
        "# Другий dataset"
      ],
      "metadata": {
        "id": "DeSh71BUlAiw"
      }
    },
    {
      "cell_type": "code",
      "source": [
        "df = pd.read_csv(\"/content/drive/MyDrive/Datasets/dataset_Malicious_and_Benign_Websites.csv\")"
      ],
      "metadata": {
        "id": "Du2J-45nJYJ5"
      },
      "execution_count": null,
      "outputs": []
    },
    {
      "cell_type": "markdown",
      "source": [
        "Data preprocesing"
      ],
      "metadata": {
        "id": "JG5eVFAcUc6h"
      }
    },
    {
      "cell_type": "code",
      "source": [
        "df.head()"
      ],
      "metadata": {
        "colab": {
          "base_uri": "https://localhost:8080/",
          "height": 325
        },
        "id": "u-UTShY3QzGJ",
        "outputId": "04456aaa-0d2b-4a0e-84b3-69ece67804ea"
      },
      "execution_count": null,
      "outputs": [
        {
          "output_type": "execute_result",
          "data": {
            "text/plain": [
              "       URL  URL_LENGTH  NUMBER_SPECIAL_CHARACTERS     CHARSET  \\\n",
              "0   M0_109          16                          7  iso-8859-1   \n",
              "1  B0_2314          16                          6       UTF-8   \n",
              "2   B0_911          16                          6    us-ascii   \n",
              "3   B0_113          17                          6  ISO-8859-1   \n",
              "4   B0_403          17                          6       UTF-8   \n",
              "\n",
              "                  SERVER  CONTENT_LENGTH WHOIS_COUNTRY WHOIS_STATEPRO  \\\n",
              "0                  nginx           263.0          None           None   \n",
              "1          Apache/2.4.10         15087.0          None           None   \n",
              "2  Microsoft-HTTPAPI/2.0           324.0          None           None   \n",
              "3                  nginx           162.0            US             AK   \n",
              "4                   None        124140.0            US             TX   \n",
              "\n",
              "      WHOIS_REGDATE WHOIS_UPDATED_DATE  ...  DIST_REMOTE_TCP_PORT  REMOTE_IPS  \\\n",
              "0  10/10/2015 18:21               None  ...                     0           2   \n",
              "1              None               None  ...                     7           4   \n",
              "2              None               None  ...                     0           0   \n",
              "3    7/10/1997 4:00    12/09/2013 0:45  ...                    22           3   \n",
              "4   12/05/1996 0:00    11/04/2017 0:00  ...                     2           5   \n",
              "\n",
              "   APP_BYTES  SOURCE_APP_PACKETS  REMOTE_APP_PACKETS  SOURCE_APP_BYTES  \\\n",
              "0        700                   9                  10              1153   \n",
              "1       1230                  17                  19              1265   \n",
              "2          0                   0                   0                 0   \n",
              "3       3812                  39                  37             18784   \n",
              "4       4278                  61                  62            129889   \n",
              "\n",
              "   REMOTE_APP_BYTES  APP_PACKETS  DNS_QUERY_TIMES  Type  \n",
              "0               832            9              2.0     1  \n",
              "1              1230           17              0.0     0  \n",
              "2                 0            0              0.0     0  \n",
              "3              4380           39              8.0     0  \n",
              "4              4586           61              4.0     0  \n",
              "\n",
              "[5 rows x 21 columns]"
            ],
            "text/html": [
              "\n",
              "  <div id=\"df-894a954e-2ad4-4dbb-b43b-9aa830c4911e\" class=\"colab-df-container\">\n",
              "    <div>\n",
              "<style scoped>\n",
              "    .dataframe tbody tr th:only-of-type {\n",
              "        vertical-align: middle;\n",
              "    }\n",
              "\n",
              "    .dataframe tbody tr th {\n",
              "        vertical-align: top;\n",
              "    }\n",
              "\n",
              "    .dataframe thead th {\n",
              "        text-align: right;\n",
              "    }\n",
              "</style>\n",
              "<table border=\"1\" class=\"dataframe\">\n",
              "  <thead>\n",
              "    <tr style=\"text-align: right;\">\n",
              "      <th></th>\n",
              "      <th>URL</th>\n",
              "      <th>URL_LENGTH</th>\n",
              "      <th>NUMBER_SPECIAL_CHARACTERS</th>\n",
              "      <th>CHARSET</th>\n",
              "      <th>SERVER</th>\n",
              "      <th>CONTENT_LENGTH</th>\n",
              "      <th>WHOIS_COUNTRY</th>\n",
              "      <th>WHOIS_STATEPRO</th>\n",
              "      <th>WHOIS_REGDATE</th>\n",
              "      <th>WHOIS_UPDATED_DATE</th>\n",
              "      <th>...</th>\n",
              "      <th>DIST_REMOTE_TCP_PORT</th>\n",
              "      <th>REMOTE_IPS</th>\n",
              "      <th>APP_BYTES</th>\n",
              "      <th>SOURCE_APP_PACKETS</th>\n",
              "      <th>REMOTE_APP_PACKETS</th>\n",
              "      <th>SOURCE_APP_BYTES</th>\n",
              "      <th>REMOTE_APP_BYTES</th>\n",
              "      <th>APP_PACKETS</th>\n",
              "      <th>DNS_QUERY_TIMES</th>\n",
              "      <th>Type</th>\n",
              "    </tr>\n",
              "  </thead>\n",
              "  <tbody>\n",
              "    <tr>\n",
              "      <th>0</th>\n",
              "      <td>M0_109</td>\n",
              "      <td>16</td>\n",
              "      <td>7</td>\n",
              "      <td>iso-8859-1</td>\n",
              "      <td>nginx</td>\n",
              "      <td>263.0</td>\n",
              "      <td>None</td>\n",
              "      <td>None</td>\n",
              "      <td>10/10/2015 18:21</td>\n",
              "      <td>None</td>\n",
              "      <td>...</td>\n",
              "      <td>0</td>\n",
              "      <td>2</td>\n",
              "      <td>700</td>\n",
              "      <td>9</td>\n",
              "      <td>10</td>\n",
              "      <td>1153</td>\n",
              "      <td>832</td>\n",
              "      <td>9</td>\n",
              "      <td>2.0</td>\n",
              "      <td>1</td>\n",
              "    </tr>\n",
              "    <tr>\n",
              "      <th>1</th>\n",
              "      <td>B0_2314</td>\n",
              "      <td>16</td>\n",
              "      <td>6</td>\n",
              "      <td>UTF-8</td>\n",
              "      <td>Apache/2.4.10</td>\n",
              "      <td>15087.0</td>\n",
              "      <td>None</td>\n",
              "      <td>None</td>\n",
              "      <td>None</td>\n",
              "      <td>None</td>\n",
              "      <td>...</td>\n",
              "      <td>7</td>\n",
              "      <td>4</td>\n",
              "      <td>1230</td>\n",
              "      <td>17</td>\n",
              "      <td>19</td>\n",
              "      <td>1265</td>\n",
              "      <td>1230</td>\n",
              "      <td>17</td>\n",
              "      <td>0.0</td>\n",
              "      <td>0</td>\n",
              "    </tr>\n",
              "    <tr>\n",
              "      <th>2</th>\n",
              "      <td>B0_911</td>\n",
              "      <td>16</td>\n",
              "      <td>6</td>\n",
              "      <td>us-ascii</td>\n",
              "      <td>Microsoft-HTTPAPI/2.0</td>\n",
              "      <td>324.0</td>\n",
              "      <td>None</td>\n",
              "      <td>None</td>\n",
              "      <td>None</td>\n",
              "      <td>None</td>\n",
              "      <td>...</td>\n",
              "      <td>0</td>\n",
              "      <td>0</td>\n",
              "      <td>0</td>\n",
              "      <td>0</td>\n",
              "      <td>0</td>\n",
              "      <td>0</td>\n",
              "      <td>0</td>\n",
              "      <td>0</td>\n",
              "      <td>0.0</td>\n",
              "      <td>0</td>\n",
              "    </tr>\n",
              "    <tr>\n",
              "      <th>3</th>\n",
              "      <td>B0_113</td>\n",
              "      <td>17</td>\n",
              "      <td>6</td>\n",
              "      <td>ISO-8859-1</td>\n",
              "      <td>nginx</td>\n",
              "      <td>162.0</td>\n",
              "      <td>US</td>\n",
              "      <td>AK</td>\n",
              "      <td>7/10/1997 4:00</td>\n",
              "      <td>12/09/2013 0:45</td>\n",
              "      <td>...</td>\n",
              "      <td>22</td>\n",
              "      <td>3</td>\n",
              "      <td>3812</td>\n",
              "      <td>39</td>\n",
              "      <td>37</td>\n",
              "      <td>18784</td>\n",
              "      <td>4380</td>\n",
              "      <td>39</td>\n",
              "      <td>8.0</td>\n",
              "      <td>0</td>\n",
              "    </tr>\n",
              "    <tr>\n",
              "      <th>4</th>\n",
              "      <td>B0_403</td>\n",
              "      <td>17</td>\n",
              "      <td>6</td>\n",
              "      <td>UTF-8</td>\n",
              "      <td>None</td>\n",
              "      <td>124140.0</td>\n",
              "      <td>US</td>\n",
              "      <td>TX</td>\n",
              "      <td>12/05/1996 0:00</td>\n",
              "      <td>11/04/2017 0:00</td>\n",
              "      <td>...</td>\n",
              "      <td>2</td>\n",
              "      <td>5</td>\n",
              "      <td>4278</td>\n",
              "      <td>61</td>\n",
              "      <td>62</td>\n",
              "      <td>129889</td>\n",
              "      <td>4586</td>\n",
              "      <td>61</td>\n",
              "      <td>4.0</td>\n",
              "      <td>0</td>\n",
              "    </tr>\n",
              "  </tbody>\n",
              "</table>\n",
              "<p>5 rows × 21 columns</p>\n",
              "</div>\n",
              "    <div class=\"colab-df-buttons\">\n",
              "\n",
              "  <div class=\"colab-df-container\">\n",
              "    <button class=\"colab-df-convert\" onclick=\"convertToInteractive('df-894a954e-2ad4-4dbb-b43b-9aa830c4911e')\"\n",
              "            title=\"Convert this dataframe to an interactive table.\"\n",
              "            style=\"display:none;\">\n",
              "\n",
              "  <svg xmlns=\"http://www.w3.org/2000/svg\" height=\"24px\" viewBox=\"0 -960 960 960\">\n",
              "    <path d=\"M120-120v-720h720v720H120Zm60-500h600v-160H180v160Zm220 220h160v-160H400v160Zm0 220h160v-160H400v160ZM180-400h160v-160H180v160Zm440 0h160v-160H620v160ZM180-180h160v-160H180v160Zm440 0h160v-160H620v160Z\"/>\n",
              "  </svg>\n",
              "    </button>\n",
              "\n",
              "  <style>\n",
              "    .colab-df-container {\n",
              "      display:flex;\n",
              "      gap: 12px;\n",
              "    }\n",
              "\n",
              "    .colab-df-convert {\n",
              "      background-color: #E8F0FE;\n",
              "      border: none;\n",
              "      border-radius: 50%;\n",
              "      cursor: pointer;\n",
              "      display: none;\n",
              "      fill: #1967D2;\n",
              "      height: 32px;\n",
              "      padding: 0 0 0 0;\n",
              "      width: 32px;\n",
              "    }\n",
              "\n",
              "    .colab-df-convert:hover {\n",
              "      background-color: #E2EBFA;\n",
              "      box-shadow: 0px 1px 2px rgba(60, 64, 67, 0.3), 0px 1px 3px 1px rgba(60, 64, 67, 0.15);\n",
              "      fill: #174EA6;\n",
              "    }\n",
              "\n",
              "    .colab-df-buttons div {\n",
              "      margin-bottom: 4px;\n",
              "    }\n",
              "\n",
              "    [theme=dark] .colab-df-convert {\n",
              "      background-color: #3B4455;\n",
              "      fill: #D2E3FC;\n",
              "    }\n",
              "\n",
              "    [theme=dark] .colab-df-convert:hover {\n",
              "      background-color: #434B5C;\n",
              "      box-shadow: 0px 1px 3px 1px rgba(0, 0, 0, 0.15);\n",
              "      filter: drop-shadow(0px 1px 2px rgba(0, 0, 0, 0.3));\n",
              "      fill: #FFFFFF;\n",
              "    }\n",
              "  </style>\n",
              "\n",
              "    <script>\n",
              "      const buttonEl =\n",
              "        document.querySelector('#df-894a954e-2ad4-4dbb-b43b-9aa830c4911e button.colab-df-convert');\n",
              "      buttonEl.style.display =\n",
              "        google.colab.kernel.accessAllowed ? 'block' : 'none';\n",
              "\n",
              "      async function convertToInteractive(key) {\n",
              "        const element = document.querySelector('#df-894a954e-2ad4-4dbb-b43b-9aa830c4911e');\n",
              "        const dataTable =\n",
              "          await google.colab.kernel.invokeFunction('convertToInteractive',\n",
              "                                                    [key], {});\n",
              "        if (!dataTable) return;\n",
              "\n",
              "        const docLinkHtml = 'Like what you see? Visit the ' +\n",
              "          '<a target=\"_blank\" href=https://colab.research.google.com/notebooks/data_table.ipynb>data table notebook</a>'\n",
              "          + ' to learn more about interactive tables.';\n",
              "        element.innerHTML = '';\n",
              "        dataTable['output_type'] = 'display_data';\n",
              "        await google.colab.output.renderOutput(dataTable, element);\n",
              "        const docLink = document.createElement('div');\n",
              "        docLink.innerHTML = docLinkHtml;\n",
              "        element.appendChild(docLink);\n",
              "      }\n",
              "    </script>\n",
              "  </div>\n",
              "\n",
              "\n",
              "<div id=\"df-ed9f7074-3a51-4029-9cbb-be0469b691f4\">\n",
              "  <button class=\"colab-df-quickchart\" onclick=\"quickchart('df-ed9f7074-3a51-4029-9cbb-be0469b691f4')\"\n",
              "            title=\"Suggest charts.\"\n",
              "            style=\"display:none;\">\n",
              "\n",
              "<svg xmlns=\"http://www.w3.org/2000/svg\" height=\"24px\"viewBox=\"0 0 24 24\"\n",
              "     width=\"24px\">\n",
              "    <g>\n",
              "        <path d=\"M19 3H5c-1.1 0-2 .9-2 2v14c0 1.1.9 2 2 2h14c1.1 0 2-.9 2-2V5c0-1.1-.9-2-2-2zM9 17H7v-7h2v7zm4 0h-2V7h2v10zm4 0h-2v-4h2v4z\"/>\n",
              "    </g>\n",
              "</svg>\n",
              "  </button>\n",
              "\n",
              "<style>\n",
              "  .colab-df-quickchart {\n",
              "      --bg-color: #E8F0FE;\n",
              "      --fill-color: #1967D2;\n",
              "      --hover-bg-color: #E2EBFA;\n",
              "      --hover-fill-color: #174EA6;\n",
              "      --disabled-fill-color: #AAA;\n",
              "      --disabled-bg-color: #DDD;\n",
              "  }\n",
              "\n",
              "  [theme=dark] .colab-df-quickchart {\n",
              "      --bg-color: #3B4455;\n",
              "      --fill-color: #D2E3FC;\n",
              "      --hover-bg-color: #434B5C;\n",
              "      --hover-fill-color: #FFFFFF;\n",
              "      --disabled-bg-color: #3B4455;\n",
              "      --disabled-fill-color: #666;\n",
              "  }\n",
              "\n",
              "  .colab-df-quickchart {\n",
              "    background-color: var(--bg-color);\n",
              "    border: none;\n",
              "    border-radius: 50%;\n",
              "    cursor: pointer;\n",
              "    display: none;\n",
              "    fill: var(--fill-color);\n",
              "    height: 32px;\n",
              "    padding: 0;\n",
              "    width: 32px;\n",
              "  }\n",
              "\n",
              "  .colab-df-quickchart:hover {\n",
              "    background-color: var(--hover-bg-color);\n",
              "    box-shadow: 0 1px 2px rgba(60, 64, 67, 0.3), 0 1px 3px 1px rgba(60, 64, 67, 0.15);\n",
              "    fill: var(--button-hover-fill-color);\n",
              "  }\n",
              "\n",
              "  .colab-df-quickchart-complete:disabled,\n",
              "  .colab-df-quickchart-complete:disabled:hover {\n",
              "    background-color: var(--disabled-bg-color);\n",
              "    fill: var(--disabled-fill-color);\n",
              "    box-shadow: none;\n",
              "  }\n",
              "\n",
              "  .colab-df-spinner {\n",
              "    border: 2px solid var(--fill-color);\n",
              "    border-color: transparent;\n",
              "    border-bottom-color: var(--fill-color);\n",
              "    animation:\n",
              "      spin 1s steps(1) infinite;\n",
              "  }\n",
              "\n",
              "  @keyframes spin {\n",
              "    0% {\n",
              "      border-color: transparent;\n",
              "      border-bottom-color: var(--fill-color);\n",
              "      border-left-color: var(--fill-color);\n",
              "    }\n",
              "    20% {\n",
              "      border-color: transparent;\n",
              "      border-left-color: var(--fill-color);\n",
              "      border-top-color: var(--fill-color);\n",
              "    }\n",
              "    30% {\n",
              "      border-color: transparent;\n",
              "      border-left-color: var(--fill-color);\n",
              "      border-top-color: var(--fill-color);\n",
              "      border-right-color: var(--fill-color);\n",
              "    }\n",
              "    40% {\n",
              "      border-color: transparent;\n",
              "      border-right-color: var(--fill-color);\n",
              "      border-top-color: var(--fill-color);\n",
              "    }\n",
              "    60% {\n",
              "      border-color: transparent;\n",
              "      border-right-color: var(--fill-color);\n",
              "    }\n",
              "    80% {\n",
              "      border-color: transparent;\n",
              "      border-right-color: var(--fill-color);\n",
              "      border-bottom-color: var(--fill-color);\n",
              "    }\n",
              "    90% {\n",
              "      border-color: transparent;\n",
              "      border-bottom-color: var(--fill-color);\n",
              "    }\n",
              "  }\n",
              "</style>\n",
              "\n",
              "  <script>\n",
              "    async function quickchart(key) {\n",
              "      const quickchartButtonEl =\n",
              "        document.querySelector('#' + key + ' button');\n",
              "      quickchartButtonEl.disabled = true;  // To prevent multiple clicks.\n",
              "      quickchartButtonEl.classList.add('colab-df-spinner');\n",
              "      try {\n",
              "        const charts = await google.colab.kernel.invokeFunction(\n",
              "            'suggestCharts', [key], {});\n",
              "      } catch (error) {\n",
              "        console.error('Error during call to suggestCharts:', error);\n",
              "      }\n",
              "      quickchartButtonEl.classList.remove('colab-df-spinner');\n",
              "      quickchartButtonEl.classList.add('colab-df-quickchart-complete');\n",
              "    }\n",
              "    (() => {\n",
              "      let quickchartButtonEl =\n",
              "        document.querySelector('#df-ed9f7074-3a51-4029-9cbb-be0469b691f4 button');\n",
              "      quickchartButtonEl.style.display =\n",
              "        google.colab.kernel.accessAllowed ? 'block' : 'none';\n",
              "    })();\n",
              "  </script>\n",
              "</div>\n",
              "    </div>\n",
              "  </div>\n"
            ]
          },
          "metadata": {},
          "execution_count": 24
        }
      ]
    },
    {
      "cell_type": "code",
      "source": [
        "df.info()"
      ],
      "metadata": {
        "colab": {
          "base_uri": "https://localhost:8080/"
        },
        "id": "i9MGScj3RjGJ",
        "outputId": "76ce608c-a0bc-4953-9c0a-0f08d5ff24a8"
      },
      "execution_count": null,
      "outputs": [
        {
          "output_type": "stream",
          "name": "stdout",
          "text": [
            "<class 'pandas.core.frame.DataFrame'>\n",
            "RangeIndex: 1781 entries, 0 to 1780\n",
            "Data columns (total 21 columns):\n",
            " #   Column                     Non-Null Count  Dtype  \n",
            "---  ------                     --------------  -----  \n",
            " 0   URL                        1781 non-null   object \n",
            " 1   URL_LENGTH                 1781 non-null   int64  \n",
            " 2   NUMBER_SPECIAL_CHARACTERS  1781 non-null   int64  \n",
            " 3   CHARSET                    1781 non-null   object \n",
            " 4   SERVER                     1780 non-null   object \n",
            " 5   CONTENT_LENGTH             969 non-null    float64\n",
            " 6   WHOIS_COUNTRY              1781 non-null   object \n",
            " 7   WHOIS_STATEPRO             1781 non-null   object \n",
            " 8   WHOIS_REGDATE              1781 non-null   object \n",
            " 9   WHOIS_UPDATED_DATE         1781 non-null   object \n",
            " 10  TCP_CONVERSATION_EXCHANGE  1781 non-null   int64  \n",
            " 11  DIST_REMOTE_TCP_PORT       1781 non-null   int64  \n",
            " 12  REMOTE_IPS                 1781 non-null   int64  \n",
            " 13  APP_BYTES                  1781 non-null   int64  \n",
            " 14  SOURCE_APP_PACKETS         1781 non-null   int64  \n",
            " 15  REMOTE_APP_PACKETS         1781 non-null   int64  \n",
            " 16  SOURCE_APP_BYTES           1781 non-null   int64  \n",
            " 17  REMOTE_APP_BYTES           1781 non-null   int64  \n",
            " 18  APP_PACKETS                1781 non-null   int64  \n",
            " 19  DNS_QUERY_TIMES            1780 non-null   float64\n",
            " 20  Type                       1781 non-null   int64  \n",
            "dtypes: float64(2), int64(12), object(7)\n",
            "memory usage: 292.3+ KB\n"
          ]
        }
      ]
    },
    {
      "cell_type": "code",
      "source": [
        "sns.heatmap(df.isnull(),yticklabels=False,cbar=False,cmap='viridis')"
      ],
      "metadata": {
        "colab": {
          "base_uri": "https://localhost:8080/",
          "height": 659
        },
        "id": "4CIwTZXMMidn",
        "outputId": "30b30305-73b7-4f3f-c63b-60261d357371"
      },
      "execution_count": null,
      "outputs": [
        {
          "output_type": "execute_result",
          "data": {
            "text/plain": [
              "<Axes: >"
            ]
          },
          "metadata": {},
          "execution_count": 26
        },
        {
          "output_type": "display_data",
          "data": {
            "text/plain": [
              "<Figure size 640x480 with 1 Axes>"
            ],
            "image/png": "[encoded data removed]"
          },
          "metadata": {}
        }
      ]
    },
    {
      "cell_type": "code",
      "source": [
        "df['CONTENT_LENGTH'] = df['CONTENT_LENGTH'].fillna(df['CONTENT_LENGTH'].median())"
      ],
      "metadata": {
        "id": "p0LB1dP0OE8M"
      },
      "execution_count": null,
      "outputs": []
    },
    {
      "cell_type": "code",
      "source": [
        "df.dropna(inplace=True)"
      ],
      "metadata": {
        "id": "2uHe26U9OVs_"
      },
      "execution_count": null,
      "outputs": []
    },
    {
      "cell_type": "code",
      "source": [
        "for i in df.columns:\n",
        "  print(i)\n",
        "  print(df[i].nunique())"
      ],
      "metadata": {
        "colab": {
          "base_uri": "https://localhost:8080/"
        },
        "id": "LmsP_X_FRnX6",
        "outputId": "5baa74f5-437f-4082-c22f-4ec0991c9849"
      },
      "execution_count": null,
      "outputs": [
        {
          "output_type": "stream",
          "name": "stdout",
          "text": [
            "URL\n",
            "1779\n",
            "URL_LENGTH\n",
            "142\n",
            "NUMBER_SPECIAL_CHARACTERS\n",
            "31\n",
            "CHARSET\n",
            "9\n",
            "SERVER\n",
            "239\n",
            "CONTENT_LENGTH\n",
            "635\n",
            "WHOIS_COUNTRY\n",
            "49\n",
            "WHOIS_STATEPRO\n",
            "181\n",
            "WHOIS_REGDATE\n",
            "889\n",
            "WHOIS_UPDATED_DATE\n",
            "593\n",
            "TCP_CONVERSATION_EXCHANGE\n",
            "103\n",
            "DIST_REMOTE_TCP_PORT\n",
            "66\n",
            "REMOTE_IPS\n",
            "18\n",
            "APP_BYTES\n",
            "825\n",
            "SOURCE_APP_PACKETS\n",
            "113\n",
            "REMOTE_APP_PACKETS\n",
            "116\n",
            "SOURCE_APP_BYTES\n",
            "885\n",
            "REMOTE_APP_BYTES\n",
            "822\n",
            "APP_PACKETS\n",
            "113\n",
            "DNS_QUERY_TIMES\n",
            "10\n",
            "Type\n",
            "2\n"
          ]
        }
      ]
    },
    {
      "cell_type": "code",
      "source": [
        "df['CHARSET'].value_counts()"
      ],
      "metadata": {
        "colab": {
          "base_uri": "https://localhost:8080/"
        },
        "id": "c8wF8CmfVTzH",
        "outputId": "00ed08c7-6726-4852-866d-cd8017b4ab5f"
      },
      "execution_count": null,
      "outputs": [
        {
          "output_type": "execute_result",
          "data": {
            "text/plain": [
              "UTF-8           674\n",
              "ISO-8859-1      427\n",
              "utf-8           379\n",
              "us-ascii        155\n",
              "iso-8859-1      134\n",
              "None              7\n",
              "windows-1251      1\n",
              "ISO-8859          1\n",
              "windows-1252      1\n",
              "Name: CHARSET, dtype: int64"
            ]
          },
          "metadata": {},
          "execution_count": 9
        }
      ]
    },
    {
      "cell_type": "code",
      "source": [
        "countries = df['CHARSET'].value_counts().head(5)\n",
        "df['CHARSET'] = df['CHARSET'].apply(lambda x: x if x in countries else 'Other')"
      ],
      "metadata": {
        "id": "MJQU26orRWHy"
      },
      "execution_count": null,
      "outputs": []
    },
    {
      "cell_type": "code",
      "source": [
        "df['WHOIS_STATEPRO'].value_counts().head(5)"
      ],
      "metadata": {
        "colab": {
          "base_uri": "https://localhost:8080/"
        },
        "id": "QSUrxw9SK8UM",
        "outputId": "ecac1892-9e1e-4091-d1ec-67c02540e322"
      },
      "execution_count": null,
      "outputs": [
        {
          "output_type": "execute_result",
          "data": {
            "text/plain": [
              "CA           372\n",
              "None         362\n",
              "NY            75\n",
              "WA            65\n",
              "Barcelona     62\n",
              "Name: WHOIS_STATEPRO, dtype: int64"
            ]
          },
          "metadata": {},
          "execution_count": 11
        }
      ]
    },
    {
      "cell_type": "code",
      "source": [
        "countries = df['WHOIS_STATEPRO'].value_counts().head(5)\n",
        "df['WHOIS_STATEPRO'] = df['WHOIS_STATEPRO'].apply(lambda x: x if x in countries else 'Other')"
      ],
      "metadata": {
        "id": "Zgw-IPTSRhXi"
      },
      "execution_count": null,
      "outputs": []
    },
    {
      "cell_type": "code",
      "source": [
        "df['WHOIS_COUNTRY'].value_counts().head(5)"
      ],
      "metadata": {
        "colab": {
          "base_uri": "https://localhost:8080/"
        },
        "id": "9iuBhAlIKE8f",
        "outputId": "eee5a393-9699-406b-efe6-81ad27dd7b93"
      },
      "execution_count": null,
      "outputs": [
        {
          "output_type": "execute_result",
          "data": {
            "text/plain": [
              "US      1102\n",
              "None     306\n",
              "CA        83\n",
              "ES        63\n",
              "AU        35\n",
              "Name: WHOIS_COUNTRY, dtype: int64"
            ]
          },
          "metadata": {},
          "execution_count": 13
        }
      ]
    },
    {
      "cell_type": "code",
      "source": [
        "df[(df['WHOIS_COUNTRY'] == \"[u'GB'; u'UK']\") |  (df['WHOIS_COUNTRY'] == 'UK') | (df['WHOIS_COUNTRY'] == 'United Kingdom')]['WHOIS_COUNTRY'] = 'GB'"
      ],
      "metadata": {
        "colab": {
          "base_uri": "https://localhost:8080/"
        },
        "id": "DeOMGkjwPJAW",
        "outputId": "74f28774-fcc4-446c-c07a-0ea42c5699d5"
      },
      "execution_count": null,
      "outputs": [
        {
          "output_type": "stream",
          "name": "stderr",
          "text": [
            "<ipython-input-33-aa2a9879b9ed>:1: SettingWithCopyWarning: \n",
            "A value is trying to be set on a copy of a slice from a DataFrame.\n",
            "Try using .loc[row_indexer,col_indexer] = value instead\n",
            "\n",
            "See the caveats in the documentation: https://pandas.pydata.org/pandas-docs/stable/user_guide/indexing.html#returning-a-view-versus-a-copy\n",
            "  df[(df['WHOIS_COUNTRY'] == \"[u'GB'; u'UK']\") |  (df['WHOIS_COUNTRY'] == 'UK') | (df['WHOIS_COUNTRY'] == 'United Kingdom')]['WHOIS_COUNTRY'] = 'GB'\n"
          ]
        }
      ]
    },
    {
      "cell_type": "code",
      "source": [
        "countries = df['WHOIS_COUNTRY'].value_counts().head(5)\n",
        "df['WHOIS_COUNTRY'] = df['WHOIS_COUNTRY'].apply(lambda x: x if x in countries else 'Other')"
      ],
      "metadata": {
        "id": "12L69f4wPysT"
      },
      "execution_count": null,
      "outputs": []
    },
    {
      "cell_type": "code",
      "source": [
        "df['WHOIS_COUNTRY'].value_counts()"
      ],
      "metadata": {
        "colab": {
          "base_uri": "https://localhost:8080/"
        },
        "id": "4aKSIpAJLUdt",
        "outputId": "567fad19-b387-44b0-b023-fa81652c23ea"
      },
      "execution_count": null,
      "outputs": [
        {
          "output_type": "execute_result",
          "data": {
            "text/plain": [
              "US       1102\n",
              "None      306\n",
              "Other     190\n",
              "CA         83\n",
              "ES         63\n",
              "AU         35\n",
              "Name: WHOIS_COUNTRY, dtype: int64"
            ]
          },
          "metadata": {},
          "execution_count": 16
        }
      ]
    },
    {
      "cell_type": "code",
      "source": [
        "df.columns"
      ],
      "metadata": {
        "colab": {
          "base_uri": "https://localhost:8080/"
        },
        "id": "bFUyfd8gR-Fz",
        "outputId": "febd1914-4716-477f-c489-9aa438895f84"
      },
      "execution_count": null,
      "outputs": [
        {
          "output_type": "execute_result",
          "data": {
            "text/plain": [
              "Index(['URL', 'URL_LENGTH', 'NUMBER_SPECIAL_CHARACTERS', 'CHARSET', 'SERVER',\n",
              "       'CONTENT_LENGTH', 'WHOIS_COUNTRY', 'WHOIS_STATEPRO', 'WHOIS_REGDATE',\n",
              "       'WHOIS_UPDATED_DATE', 'TCP_CONVERSATION_EXCHANGE',\n",
              "       'DIST_REMOTE_TCP_PORT', 'REMOTE_IPS', 'APP_BYTES', 'SOURCE_APP_PACKETS',\n",
              "       'REMOTE_APP_PACKETS', 'SOURCE_APP_BYTES', 'REMOTE_APP_BYTES',\n",
              "       'APP_PACKETS', 'DNS_QUERY_TIMES', 'Type'],\n",
              "      dtype='object')"
            ]
          },
          "metadata": {},
          "execution_count": 17
        }
      ]
    },
    {
      "cell_type": "code",
      "source": [
        "df.loc[df['SERVER'].apply(lambda x: \"apache\" in str(x).lower()),'SERVER'] = 'Apache'\n",
        "df.loc[df['SERVER'].apply(lambda x: \"nginx\" in str(x).lower()),'SERVER'] = 'nginx'\n",
        "df.loc[df['SERVER'].apply(lambda x: \"microsoft\" in str(x).lower()),'SERVER'] = 'Microsoft'"
      ],
      "metadata": {
        "id": "ywESwlOXRmej"
      },
      "execution_count": null,
      "outputs": []
    },
    {
      "cell_type": "code",
      "source": [
        "countries = df['SERVER'].value_counts().head(5)\n",
        "df['SERVER'] = df['SERVER'].apply(lambda x: x if x in countries else 'Other')"
      ],
      "metadata": {
        "id": "r7IQDwEwS_ub"
      },
      "execution_count": null,
      "outputs": []
    },
    {
      "cell_type": "code",
      "source": [
        "df['SERVER'].value_counts()"
      ],
      "metadata": {
        "colab": {
          "base_uri": "https://localhost:8080/"
        },
        "id": "48slBgVeTWkr",
        "outputId": "a0f12ec3-b393-4ccb-980a-72a36ce01f69"
      },
      "execution_count": null,
      "outputs": [
        {
          "output_type": "execute_result",
          "data": {
            "text/plain": [
              "Apache       642\n",
              "nginx        436\n",
              "Other        279\n",
              "Microsoft    198\n",
              "None         175\n",
              "GSE           49\n",
              "Name: SERVER, dtype: int64"
            ]
          },
          "metadata": {},
          "execution_count": 37
        }
      ]
    },
    {
      "cell_type": "code",
      "source": [
        "df = df.drop('URL', axis=1)"
      ],
      "metadata": {
        "id": "sDm_W7nvT0hq"
      },
      "execution_count": null,
      "outputs": []
    },
    {
      "cell_type": "code",
      "source": [
        "df = df.drop('WHOIS_REGDATE', axis=1)"
      ],
      "metadata": {
        "id": "yBf3jGIJV8nM"
      },
      "execution_count": null,
      "outputs": []
    },
    {
      "cell_type": "code",
      "source": [
        "df = df.drop('WHOIS_UPDATED_DATE', axis=1)"
      ],
      "metadata": {
        "id": "ze2lV6U_WA9r"
      },
      "execution_count": null,
      "outputs": []
    },
    {
      "cell_type": "code",
      "source": [
        "df.loc[df['CHARSET'].apply(lambda x: \"utf\" in str(x).lower()), 'CHARSET'] = 'UTF'\n",
        "df.loc[df['CHARSET'].apply(lambda x: \"iso\" in str(x).lower()), 'CHARSET'] = 'ISO'\n",
        "df.loc[df['CHARSET'].apply(lambda x: \"windows\" in str(x).lower()), 'CHARSET'] = 'Windows'"
      ],
      "metadata": {
        "id": "1m7rwLtMUARD"
      },
      "execution_count": null,
      "outputs": []
    },
    {
      "cell_type": "code",
      "source": [
        "df.head()"
      ],
      "metadata": {
        "colab": {
          "base_uri": "https://localhost:8080/",
          "height": 226
        },
        "id": "Xr9oGcHzVJ41",
        "outputId": "90855d3a-a6b0-4f3d-de14-8b93536ffe6c"
      },
      "execution_count": null,
      "outputs": [
        {
          "output_type": "execute_result",
          "data": {
            "text/plain": [
              "   URL_LENGTH  NUMBER_SPECIAL_CHARACTERS   CHARSET     SERVER  CONTENT_LENGTH  \\\n",
              "0          16                          7       ISO      nginx           263.0   \n",
              "1          16                          6       UTF     Apache         15087.0   \n",
              "2          16                          6  us-ascii  Microsoft           324.0   \n",
              "3          17                          6       ISO      nginx           162.0   \n",
              "4          17                          6       UTF       None        124140.0   \n",
              "\n",
              "  WHOIS_COUNTRY WHOIS_STATEPRO  TCP_CONVERSATION_EXCHANGE  \\\n",
              "0          None           None                          7   \n",
              "1          None           None                         17   \n",
              "2          None           None                          0   \n",
              "3            US          Other                         31   \n",
              "4            US          Other                         57   \n",
              "\n",
              "   DIST_REMOTE_TCP_PORT  REMOTE_IPS  APP_BYTES  SOURCE_APP_PACKETS  \\\n",
              "0                     0           2        700                   9   \n",
              "1                     7           4       1230                  17   \n",
              "2                     0           0          0                   0   \n",
              "3                    22           3       3812                  39   \n",
              "4                     2           5       4278                  61   \n",
              "\n",
              "   REMOTE_APP_PACKETS  SOURCE_APP_BYTES  REMOTE_APP_BYTES  APP_PACKETS  \\\n",
              "0                  10              1153               832            9   \n",
              "1                  19              1265              1230           17   \n",
              "2                   0                 0                 0            0   \n",
              "3                  37             18784              4380           39   \n",
              "4                  62            129889              4586           61   \n",
              "\n",
              "   DNS_QUERY_TIMES  Type  \n",
              "0              2.0     1  \n",
              "1              0.0     0  \n",
              "2              0.0     0  \n",
              "3              8.0     0  \n",
              "4              4.0     0  "
            ],
            "text/html": [
              "\n",
              "  <div id=\"df-f6675eeb-6ddd-48e7-aec5-7961b513ac4b\" class=\"colab-df-container\">\n",
              "    <div>\n",
              "<style scoped>\n",
              "    .dataframe tbody tr th:only-of-type {\n",
              "        vertical-align: middle;\n",
              "    }\n",
              "\n",
              "    .dataframe tbody tr th {\n",
              "        vertical-align: top;\n",
              "    }\n",
              "\n",
              "    .dataframe thead th {\n",
              "        text-align: right;\n",
              "    }\n",
              "</style>\n",
              "<table border=\"1\" class=\"dataframe\">\n",
              "  <thead>\n",
              "    <tr style=\"text-align: right;\">\n",
              "      <th></th>\n",
              "      <th>URL_LENGTH</th>\n",
              "      <th>NUMBER_SPECIAL_CHARACTERS</th>\n",
              "      <th>CHARSET</th>\n",
              "      <th>SERVER</th>\n",
              "      <th>CONTENT_LENGTH</th>\n",
              "      <th>WHOIS_COUNTRY</th>\n",
              "      <th>WHOIS_STATEPRO</th>\n",
              "      <th>TCP_CONVERSATION_EXCHANGE</th>\n",
              "      <th>DIST_REMOTE_TCP_PORT</th>\n",
              "      <th>REMOTE_IPS</th>\n",
              "      <th>APP_BYTES</th>\n",
              "      <th>SOURCE_APP_PACKETS</th>\n",
              "      <th>REMOTE_APP_PACKETS</th>\n",
              "      <th>SOURCE_APP_BYTES</th>\n",
              "      <th>REMOTE_APP_BYTES</th>\n",
              "      <th>APP_PACKETS</th>\n",
              "      <th>DNS_QUERY_TIMES</th>\n",
              "      <th>Type</th>\n",
              "    </tr>\n",
              "  </thead>\n",
              "  <tbody>\n",
              "    <tr>\n",
              "      <th>0</th>\n",
              "      <td>16</td>\n",
              "      <td>7</td>\n",
              "      <td>ISO</td>\n",
              "      <td>nginx</td>\n",
              "      <td>263.0</td>\n",
              "      <td>None</td>\n",
              "      <td>None</td>\n",
              "      <td>7</td>\n",
              "      <td>0</td>\n",
              "      <td>2</td>\n",
              "      <td>700</td>\n",
              "      <td>9</td>\n",
              "      <td>10</td>\n",
              "      <td>1153</td>\n",
              "      <td>832</td>\n",
              "      <td>9</td>\n",
              "      <td>2.0</td>\n",
              "      <td>1</td>\n",
              "    </tr>\n",
              "    <tr>\n",
              "      <th>1</th>\n",
              "      <td>16</td>\n",
              "      <td>6</td>\n",
              "      <td>UTF</td>\n",
              "      <td>Apache</td>\n",
              "      <td>15087.0</td>\n",
              "      <td>None</td>\n",
              "      <td>None</td>\n",
              "      <td>17</td>\n",
              "      <td>7</td>\n",
              "      <td>4</td>\n",
              "      <td>1230</td>\n",
              "      <td>17</td>\n",
              "      <td>19</td>\n",
              "      <td>1265</td>\n",
              "      <td>1230</td>\n",
              "      <td>17</td>\n",
              "      <td>0.0</td>\n",
              "      <td>0</td>\n",
              "    </tr>\n",
              "    <tr>\n",
              "      <th>2</th>\n",
              "      <td>16</td>\n",
              "      <td>6</td>\n",
              "      <td>us-ascii</td>\n",
              "      <td>Microsoft</td>\n",
              "      <td>324.0</td>\n",
              "      <td>None</td>\n",
              "      <td>None</td>\n",
              "      <td>0</td>\n",
              "      <td>0</td>\n",
              "      <td>0</td>\n",
              "      <td>0</td>\n",
              "      <td>0</td>\n",
              "      <td>0</td>\n",
              "      <td>0</td>\n",
              "      <td>0</td>\n",
              "      <td>0</td>\n",
              "      <td>0.0</td>\n",
              "      <td>0</td>\n",
              "    </tr>\n",
              "    <tr>\n",
              "      <th>3</th>\n",
              "      <td>17</td>\n",
              "      <td>6</td>\n",
              "      <td>ISO</td>\n",
              "      <td>nginx</td>\n",
              "      <td>162.0</td>\n",
              "      <td>US</td>\n",
              "      <td>Other</td>\n",
              "      <td>31</td>\n",
              "      <td>22</td>\n",
              "      <td>3</td>\n",
              "      <td>3812</td>\n",
              "      <td>39</td>\n",
              "      <td>37</td>\n",
              "      <td>18784</td>\n",
              "      <td>4380</td>\n",
              "      <td>39</td>\n",
              "      <td>8.0</td>\n",
              "      <td>0</td>\n",
              "    </tr>\n",
              "    <tr>\n",
              "      <th>4</th>\n",
              "      <td>17</td>\n",
              "      <td>6</td>\n",
              "      <td>UTF</td>\n",
              "      <td>None</td>\n",
              "      <td>124140.0</td>\n",
              "      <td>US</td>\n",
              "      <td>Other</td>\n",
              "      <td>57</td>\n",
              "      <td>2</td>\n",
              "      <td>5</td>\n",
              "      <td>4278</td>\n",
              "      <td>61</td>\n",
              "      <td>62</td>\n",
              "      <td>129889</td>\n",
              "      <td>4586</td>\n",
              "      <td>61</td>\n",
              "      <td>4.0</td>\n",
              "      <td>0</td>\n",
              "    </tr>\n",
              "  </tbody>\n",
              "</table>\n",
              "</div>\n",
              "    <div class=\"colab-df-buttons\">\n",
              "\n",
              "  <div class=\"colab-df-container\">\n",
              "    <button class=\"colab-df-convert\" onclick=\"convertToInteractive('df-f6675eeb-6ddd-48e7-aec5-7961b513ac4b')\"\n",
              "            title=\"Convert this dataframe to an interactive table.\"\n",
              "            style=\"display:none;\">\n",
              "\n",
              "  <svg xmlns=\"http://www.w3.org/2000/svg\" height=\"24px\" viewBox=\"0 -960 960 960\">\n",
              "    <path d=\"M120-120v-720h720v720H120Zm60-500h600v-160H180v160Zm220 220h160v-160H400v160Zm0 220h160v-160H400v160ZM180-400h160v-160H180v160Zm440 0h160v-160H620v160ZM180-180h160v-160H180v160Zm440 0h160v-160H620v160Z\"/>\n",
              "  </svg>\n",
              "    </button>\n",
              "\n",
              "  <style>\n",
              "    .colab-df-container {\n",
              "      display:flex;\n",
              "      gap: 12px;\n",
              "    }\n",
              "\n",
              "    .colab-df-convert {\n",
              "      background-color: #E8F0FE;\n",
              "      border: none;\n",
              "      border-radius: 50%;\n",
              "      cursor: pointer;\n",
              "      display: none;\n",
              "      fill: #1967D2;\n",
              "      height: 32px;\n",
              "      padding: 0 0 0 0;\n",
              "      width: 32px;\n",
              "    }\n",
              "\n",
              "    .colab-df-convert:hover {\n",
              "      background-color: #E2EBFA;\n",
              "      box-shadow: 0px 1px 2px rgba(60, 64, 67, 0.3), 0px 1px 3px 1px rgba(60, 64, 67, 0.15);\n",
              "      fill: #174EA6;\n",
              "    }\n",
              "\n",
              "    .colab-df-buttons div {\n",
              "      margin-bottom: 4px;\n",
              "    }\n",
              "\n",
              "    [theme=dark] .colab-df-convert {\n",
              "      background-color: #3B4455;\n",
              "      fill: #D2E3FC;\n",
              "    }\n",
              "\n",
              "    [theme=dark] .colab-df-convert:hover {\n",
              "      background-color: #434B5C;\n",
              "      box-shadow: 0px 1px 3px 1px rgba(0, 0, 0, 0.15);\n",
              "      filter: drop-shadow(0px 1px 2px rgba(0, 0, 0, 0.3));\n",
              "      fill: #FFFFFF;\n",
              "    }\n",
              "  </style>\n",
              "\n",
              "    <script>\n",
              "      const buttonEl =\n",
              "        document.querySelector('#df-f6675eeb-6ddd-48e7-aec5-7961b513ac4b button.colab-df-convert');\n",
              "      buttonEl.style.display =\n",
              "        google.colab.kernel.accessAllowed ? 'block' : 'none';\n",
              "\n",
              "      async function convertToInteractive(key) {\n",
              "        const element = document.querySelector('#df-f6675eeb-6ddd-48e7-aec5-7961b513ac4b');\n",
              "        const dataTable =\n",
              "          await google.colab.kernel.invokeFunction('convertToInteractive',\n",
              "                                                    [key], {});\n",
              "        if (!dataTable) return;\n",
              "\n",
              "        const docLinkHtml = 'Like what you see? Visit the ' +\n",
              "          '<a target=\"_blank\" href=https://colab.research.google.com/notebooks/data_table.ipynb>data table notebook</a>'\n",
              "          + ' to learn more about interactive tables.';\n",
              "        element.innerHTML = '';\n",
              "        dataTable['output_type'] = 'display_data';\n",
              "        await google.colab.output.renderOutput(dataTable, element);\n",
              "        const docLink = document.createElement('div');\n",
              "        docLink.innerHTML = docLinkHtml;\n",
              "        element.appendChild(docLink);\n",
              "      }\n",
              "    </script>\n",
              "  </div>\n",
              "\n",
              "\n",
              "<div id=\"df-6bd4f4dd-3309-4cc6-b7b8-898cdd471e02\">\n",
              "  <button class=\"colab-df-quickchart\" onclick=\"quickchart('df-6bd4f4dd-3309-4cc6-b7b8-898cdd471e02')\"\n",
              "            title=\"Suggest charts.\"\n",
              "            style=\"display:none;\">\n",
              "\n",
              "<svg xmlns=\"http://www.w3.org/2000/svg\" height=\"24px\"viewBox=\"0 0 24 24\"\n",
              "     width=\"24px\">\n",
              "    <g>\n",
              "        <path d=\"M19 3H5c-1.1 0-2 .9-2 2v14c0 1.1.9 2 2 2h14c1.1 0 2-.9 2-2V5c0-1.1-.9-2-2-2zM9 17H7v-7h2v7zm4 0h-2V7h2v10zm4 0h-2v-4h2v4z\"/>\n",
              "    </g>\n",
              "</svg>\n",
              "  </button>\n",
              "\n",
              "<style>\n",
              "  .colab-df-quickchart {\n",
              "      --bg-color: #E8F0FE;\n",
              "      --fill-color: #1967D2;\n",
              "      --hover-bg-color: #E2EBFA;\n",
              "      --hover-fill-color: #174EA6;\n",
              "      --disabled-fill-color: #AAA;\n",
              "      --disabled-bg-color: #DDD;\n",
              "  }\n",
              "\n",
              "  [theme=dark] .colab-df-quickchart {\n",
              "      --bg-color: #3B4455;\n",
              "      --fill-color: #D2E3FC;\n",
              "      --hover-bg-color: #434B5C;\n",
              "      --hover-fill-color: #FFFFFF;\n",
              "      --disabled-bg-color: #3B4455;\n",
              "      --disabled-fill-color: #666;\n",
              "  }\n",
              "\n",
              "  .colab-df-quickchart {\n",
              "    background-color: var(--bg-color);\n",
              "    border: none;\n",
              "    border-radius: 50%;\n",
              "    cursor: pointer;\n",
              "    display: none;\n",
              "    fill: var(--fill-color);\n",
              "    height: 32px;\n",
              "    padding: 0;\n",
              "    width: 32px;\n",
              "  }\n",
              "\n",
              "  .colab-df-quickchart:hover {\n",
              "    background-color: var(--hover-bg-color);\n",
              "    box-shadow: 0 1px 2px rgba(60, 64, 67, 0.3), 0 1px 3px 1px rgba(60, 64, 67, 0.15);\n",
              "    fill: var(--button-hover-fill-color);\n",
              "  }\n",
              "\n",
              "  .colab-df-quickchart-complete:disabled,\n",
              "  .colab-df-quickchart-complete:disabled:hover {\n",
              "    background-color: var(--disabled-bg-color);\n",
              "    fill: var(--disabled-fill-color);\n",
              "    box-shadow: none;\n",
              "  }\n",
              "\n",
              "  .colab-df-spinner {\n",
              "    border: 2px solid var(--fill-color);\n",
              "    border-color: transparent;\n",
              "    border-bottom-color: var(--fill-color);\n",
              "    animation:\n",
              "      spin 1s steps(1) infinite;\n",
              "  }\n",
              "\n",
              "  @keyframes spin {\n",
              "    0% {\n",
              "      border-color: transparent;\n",
              "      border-bottom-color: var(--fill-color);\n",
              "      border-left-color: var(--fill-color);\n",
              "    }\n",
              "    20% {\n",
              "      border-color: transparent;\n",
              "      border-left-color: var(--fill-color);\n",
              "      border-top-color: var(--fill-color);\n",
              "    }\n",
              "    30% {\n",
              "      border-color: transparent;\n",
              "      border-left-color: var(--fill-color);\n",
              "      border-top-color: var(--fill-color);\n",
              "      border-right-color: var(--fill-color);\n",
              "    }\n",
              "    40% {\n",
              "      border-color: transparent;\n",
              "      border-right-color: var(--fill-color);\n",
              "      border-top-color: var(--fill-color);\n",
              "    }\n",
              "    60% {\n",
              "      border-color: transparent;\n",
              "      border-right-color: var(--fill-color);\n",
              "    }\n",
              "    80% {\n",
              "      border-color: transparent;\n",
              "      border-right-color: var(--fill-color);\n",
              "      border-bottom-color: var(--fill-color);\n",
              "    }\n",
              "    90% {\n",
              "      border-color: transparent;\n",
              "      border-bottom-color: var(--fill-color);\n",
              "    }\n",
              "  }\n",
              "</style>\n",
              "\n",
              "  <script>\n",
              "    async function quickchart(key) {\n",
              "      const quickchartButtonEl =\n",
              "        document.querySelector('#' + key + ' button');\n",
              "      quickchartButtonEl.disabled = true;  // To prevent multiple clicks.\n",
              "      quickchartButtonEl.classList.add('colab-df-spinner');\n",
              "      try {\n",
              "        const charts = await google.colab.kernel.invokeFunction(\n",
              "            'suggestCharts', [key], {});\n",
              "      } catch (error) {\n",
              "        console.error('Error during call to suggestCharts:', error);\n",
              "      }\n",
              "      quickchartButtonEl.classList.remove('colab-df-spinner');\n",
              "      quickchartButtonEl.classList.add('colab-df-quickchart-complete');\n",
              "    }\n",
              "    (() => {\n",
              "      let quickchartButtonEl =\n",
              "        document.querySelector('#df-6bd4f4dd-3309-4cc6-b7b8-898cdd471e02 button');\n",
              "      quickchartButtonEl.style.display =\n",
              "        google.colab.kernel.accessAllowed ? 'block' : 'none';\n",
              "    })();\n",
              "  </script>\n",
              "</div>\n",
              "    </div>\n",
              "  </div>\n"
            ]
          },
          "metadata": {},
          "execution_count": 25
        }
      ]
    },
    {
      "cell_type": "code",
      "source": [
        "data = pd.get_dummies(data = df, columns = ['CHARSET','SERVER','WHOIS_COUNTRY','WHOIS_STATEPRO'], drop_first= True)"
      ],
      "metadata": {
        "id": "b9R1FURmWQRD"
      },
      "execution_count": null,
      "outputs": []
    },
    {
      "cell_type": "code",
      "source": [
        "data.info()"
      ],
      "metadata": {
        "colab": {
          "base_uri": "https://localhost:8080/"
        },
        "id": "jhaKdW_TWyci",
        "outputId": "bff6a4dc-2623-4f71-ab19-f049cedc0661"
      },
      "execution_count": null,
      "outputs": [
        {
          "output_type": "stream",
          "name": "stdout",
          "text": [
            "<class 'pandas.core.frame.DataFrame'>\n",
            "Int64Index: 1779 entries, 0 to 1780\n",
            "Data columns (total 32 columns):\n",
            " #   Column                     Non-Null Count  Dtype  \n",
            "---  ------                     --------------  -----  \n",
            " 0   URL_LENGTH                 1779 non-null   int64  \n",
            " 1   NUMBER_SPECIAL_CHARACTERS  1779 non-null   int64  \n",
            " 2   CONTENT_LENGTH             1779 non-null   float64\n",
            " 3   TCP_CONVERSATION_EXCHANGE  1779 non-null   int64  \n",
            " 4   DIST_REMOTE_TCP_PORT       1779 non-null   int64  \n",
            " 5   REMOTE_IPS                 1779 non-null   int64  \n",
            " 6   APP_BYTES                  1779 non-null   int64  \n",
            " 7   SOURCE_APP_PACKETS         1779 non-null   int64  \n",
            " 8   REMOTE_APP_PACKETS         1779 non-null   int64  \n",
            " 9   SOURCE_APP_BYTES           1779 non-null   int64  \n",
            " 10  REMOTE_APP_BYTES           1779 non-null   int64  \n",
            " 11  APP_PACKETS                1779 non-null   int64  \n",
            " 12  DNS_QUERY_TIMES            1779 non-null   float64\n",
            " 13  Type                       1779 non-null   int64  \n",
            " 14  CHARSET_Other              1779 non-null   uint8  \n",
            " 15  CHARSET_UTF                1779 non-null   uint8  \n",
            " 16  CHARSET_us-ascii           1779 non-null   uint8  \n",
            " 17  SERVER_GSE                 1779 non-null   uint8  \n",
            " 18  SERVER_Microsoft           1779 non-null   uint8  \n",
            " 19  SERVER_None                1779 non-null   uint8  \n",
            " 20  SERVER_Other               1779 non-null   uint8  \n",
            " 21  SERVER_nginx               1779 non-null   uint8  \n",
            " 22  WHOIS_COUNTRY_CA           1779 non-null   uint8  \n",
            " 23  WHOIS_COUNTRY_ES           1779 non-null   uint8  \n",
            " 24  WHOIS_COUNTRY_None         1779 non-null   uint8  \n",
            " 25  WHOIS_COUNTRY_Other        1779 non-null   uint8  \n",
            " 26  WHOIS_COUNTRY_US           1779 non-null   uint8  \n",
            " 27  WHOIS_STATEPRO_CA          1779 non-null   uint8  \n",
            " 28  WHOIS_STATEPRO_NY          1779 non-null   uint8  \n",
            " 29  WHOIS_STATEPRO_None        1779 non-null   uint8  \n",
            " 30  WHOIS_STATEPRO_Other       1779 non-null   uint8  \n",
            " 31  WHOIS_STATEPRO_WA          1779 non-null   uint8  \n",
            "dtypes: float64(2), int64(12), uint8(18)\n",
            "memory usage: 239.7 KB\n"
          ]
        }
      ]
    },
    {
      "cell_type": "markdown",
      "source": [
        "**Visualization**"
      ],
      "metadata": {
        "id": "vCspaOtVXu-Y"
      }
    },
    {
      "cell_type": "code",
      "source": [
        "df.info()"
      ],
      "metadata": {
        "colab": {
          "base_uri": "https://localhost:8080/"
        },
        "id": "Tup6_6uUXsgE",
        "outputId": "3937ab39-8bd6-4600-9996-ea7863b503a0"
      },
      "execution_count": null,
      "outputs": [
        {
          "output_type": "stream",
          "name": "stdout",
          "text": [
            "<class 'pandas.core.frame.DataFrame'>\n",
            "Int64Index: 1779 entries, 0 to 1780\n",
            "Data columns (total 18 columns):\n",
            " #   Column                     Non-Null Count  Dtype  \n",
            "---  ------                     --------------  -----  \n",
            " 0   URL_LENGTH                 1779 non-null   int64  \n",
            " 1   NUMBER_SPECIAL_CHARACTERS  1779 non-null   int64  \n",
            " 2   CHARSET                    1779 non-null   object \n",
            " 3   SERVER                     1779 non-null   object \n",
            " 4   CONTENT_LENGTH             1779 non-null   float64\n",
            " 5   WHOIS_COUNTRY              1779 non-null   object \n",
            " 6   WHOIS_STATEPRO             1779 non-null   object \n",
            " 7   TCP_CONVERSATION_EXCHANGE  1779 non-null   int64  \n",
            " 8   DIST_REMOTE_TCP_PORT       1779 non-null   int64  \n",
            " 9   REMOTE_IPS                 1779 non-null   int64  \n",
            " 10  APP_BYTES                  1779 non-null   int64  \n",
            " 11  SOURCE_APP_PACKETS         1779 non-null   int64  \n",
            " 12  REMOTE_APP_PACKETS         1779 non-null   int64  \n",
            " 13  SOURCE_APP_BYTES           1779 non-null   int64  \n",
            " 14  REMOTE_APP_BYTES           1779 non-null   int64  \n",
            " 15  APP_PACKETS                1779 non-null   int64  \n",
            " 16  DNS_QUERY_TIMES            1779 non-null   float64\n",
            " 17  Type                       1779 non-null   int64  \n",
            "dtypes: float64(2), int64(12), object(4)\n",
            "memory usage: 264.1+ KB\n"
          ]
        }
      ]
    },
    {
      "cell_type": "code",
      "source": [
        "sns.countplot(data = df, x = 'Type')"
      ],
      "metadata": {
        "colab": {
          "base_uri": "https://localhost:8080/",
          "height": 466
        },
        "id": "WTmOu2kIact_",
        "outputId": "4c86edfc-dfbc-4d32-df61-205218a5c628"
      },
      "execution_count": null,
      "outputs": [
        {
          "output_type": "execute_result",
          "data": {
            "text/plain": [
              "<Axes: xlabel='Type', ylabel='count'>"
            ]
          },
          "metadata": {},
          "execution_count": 29
        },
        {
          "output_type": "display_data",
          "data": {
            "text/plain": [
              "<Figure size 640x480 with 1 Axes>"
            ],
            "image/png": "[encoded data removed]"
          },
          "metadata": {}
        }
      ]
    },
    {
      "cell_type": "code",
      "source": [
        "sns.countplot(data = df, x = 'WHOIS_COUNTRY', hue = 'Type')"
      ],
      "metadata": {
        "colab": {
          "base_uri": "https://localhost:8080/",
          "height": 466
        },
        "id": "Jlrkry5IZLiv",
        "outputId": "eb18f5c8-a47b-4733-f0e2-e51951248f02"
      },
      "execution_count": null,
      "outputs": [
        {
          "output_type": "execute_result",
          "data": {
            "text/plain": [
              "<Axes: xlabel='WHOIS_COUNTRY', ylabel='count'>"
            ]
          },
          "metadata": {},
          "execution_count": 30
        },
        {
          "output_type": "display_data",
          "data": {
            "text/plain": [
              "<Figure size 640x480 with 1 Axes>"
            ],
            "image/png": "[encoded data removed]"
          },
          "metadata": {}
        }
      ]
    },
    {
      "cell_type": "code",
      "source": [
        "sns.countplot(data = df, x = 'SERVER', hue = 'Type')"
      ],
      "metadata": {
        "colab": {
          "base_uri": "https://localhost:8080/",
          "height": 466
        },
        "id": "lsQVYb9qZw5z",
        "outputId": "20a91430-fa02-4777-bfc5-5321a2029c05"
      },
      "execution_count": null,
      "outputs": [
        {
          "output_type": "execute_result",
          "data": {
            "text/plain": [
              "<Axes: xlabel='SERVER', ylabel='count'>"
            ]
          },
          "metadata": {},
          "execution_count": 31
        },
        {
          "output_type": "display_data",
          "data": {
            "text/plain": [
              "<Figure size 640x480 with 1 Axes>"
            ],
            "image/png": "[encoded data removed]"
          },
          "metadata": {}
        }
      ]
    },
    {
      "cell_type": "code",
      "source": [
        "sns.countplot(data = df, x = 'CHARSET', hue = 'Type')"
      ],
      "metadata": {
        "colab": {
          "base_uri": "https://localhost:8080/",
          "height": 466
        },
        "id": "CJejxmWbaQcZ",
        "outputId": "cc376bf3-cfd5-4367-bdb7-4969c59b1813"
      },
      "execution_count": null,
      "outputs": [
        {
          "output_type": "execute_result",
          "data": {
            "text/plain": [
              "<Axes: xlabel='CHARSET', ylabel='count'>"
            ]
          },
          "metadata": {},
          "execution_count": 32
        },
        {
          "output_type": "display_data",
          "data": {
            "text/plain": [
              "<Figure size 640x480 with 1 Axes>"
            ],
            "image/png": "[encoded data removed]"
          },
          "metadata": {}
        }
      ]
    },
    {
      "cell_type": "markdown",
      "source": [
        "**Розподіл даних**\n",
        "\n",
        "Використаємо досвід попереднього датасету та розіб'ємо з коеф. ~0.4"
      ],
      "metadata": {
        "id": "SbdMHk0RbRuc"
      }
    },
    {
      "cell_type": "code",
      "source": [
        "X_train, X_test, y_train, y_test = train_test_split(data.drop('Type', axis=1), data['Type'], test_size=0.4)"
      ],
      "metadata": {
        "id": "BqGOh-D2bLVu"
      },
      "execution_count": null,
      "outputs": []
    },
    {
      "cell_type": "markdown",
      "source": [
        "**Побудуємо дерево**"
      ],
      "metadata": {
        "id": "9jQMbblqdThe"
      }
    },
    {
      "cell_type": "code",
      "source": [
        "params = {'hidden_layer_sizes' : [(20,20,20,20), (30,30,30,30), (40,40,40,40), (50,50,50,50), (60,60,60,60), (70,70,70,70)],\n",
        "             'solver' : ['lbfgs','sgd', 'adam'],\n",
        "             'max_iter'   : range(10, 100, 10)}\n",
        "\n",
        "mlp = MLPClassifier()\n",
        "bmlp = GridSearchCV(mlp, params, scoring='f1_weighted')\n",
        "bmlp.fit(X_train, y_train)"
      ],
      "metadata": {
        "id": "L0Wuf5b5c4Vh"
      },
      "execution_count": null,
      "outputs": []
    },
    {
      "cell_type": "code",
      "source": [
        "bmlp.best_params_"
      ],
      "metadata": {
        "colab": {
          "base_uri": "https://localhost:8080/"
        },
        "id": "oS9uQj1eGmHd",
        "outputId": "e8abbe5c-f4f5-40e7-a8f6-315d4a56e089"
      },
      "execution_count": null,
      "outputs": [
        {
          "output_type": "execute_result",
          "data": {
            "text/plain": [
              "{'hidden_layer_sizes': (50, 50, 50, 50), 'max_iter': 60, 'solver': 'adam'}"
            ]
          },
          "metadata": {},
          "execution_count": 73
        }
      ]
    },
    {
      "cell_type": "code",
      "source": [
        "bmlp = bmlp.best_estimator_"
      ],
      "metadata": {
        "id": "pwCnewxeGnBr"
      },
      "execution_count": null,
      "outputs": []
    },
    {
      "cell_type": "code",
      "source": [
        "predictions = bmlp.predict(X_test)\n",
        "print(classification_report(y_test,predictions))"
      ],
      "metadata": {
        "colab": {
          "base_uri": "https://localhost:8080/"
        },
        "id": "rWTvXdKHeuCy",
        "outputId": "02376c1b-65ce-4b64-ad73-80474c553da9"
      },
      "execution_count": null,
      "outputs": [
        {
          "output_type": "stream",
          "name": "stdout",
          "text": [
            "              precision    recall  f1-score   support\n",
            "\n",
            "           0       0.93      0.86      0.89       628\n",
            "           1       0.33      0.52      0.41        84\n",
            "\n",
            "    accuracy                           0.82       712\n",
            "   macro avg       0.63      0.69      0.65       712\n",
            "weighted avg       0.86      0.82      0.84       712\n",
            "\n"
          ]
        }
      ]
    },
    {
      "cell_type": "markdown",
      "source": [
        " Можна помітити проблему з класифікацією класу \"1\", але це скоріше за все через те, що його не не вистачає в датасеті."
      ],
      "metadata": {
        "id": "mM0mYDH4l6Cr"
      }
    },
    {
      "cell_type": "markdown",
      "source": [
        "**PR Curve**"
      ],
      "metadata": {
        "id": "piX0VvCGpjf4"
      }
    },
    {
      "cell_type": "code",
      "source": [
        "precision, recall, thresholds = precision_recall_curve(y_test, predictions)\n",
        "plt.plot(recall, precision, color='b', label='PR Curve')"
      ],
      "metadata": {
        "colab": {
          "base_uri": "https://localhost:8080/",
          "height": 447
        },
        "id": "3yAZgYMNpzdo",
        "outputId": "1092bcc9-5bd7-415a-8b61-2a1dce48c93e"
      },
      "execution_count": null,
      "outputs": [
        {
          "output_type": "execute_result",
          "data": {
            "text/plain": [
              "[<matplotlib.lines.Line2D at 0x7a095c535ea0>]"
            ]
          },
          "metadata": {},
          "execution_count": 76
        },
        {
          "output_type": "display_data",
          "data": {
            "text/plain": [
              "<Figure size 640x480 with 1 Axes>"
            ],
            "image/png": "[encoded data removed]"
          },
          "metadata": {}
        }
      ]
    },
    {
      "cell_type": "markdown",
      "source": [
        "**ROC Curve**"
      ],
      "metadata": {
        "id": "crmArzYQpl8E"
      }
    },
    {
      "cell_type": "code",
      "source": [
        "fpr, tpr, thresholds = roc_curve(y_test, predictions)\n",
        "plt.plot(fpr, tpr, color='darkred',label='ROC curve')"
      ],
      "metadata": {
        "colab": {
          "base_uri": "https://localhost:8080/",
          "height": 447
        },
        "id": "ppfri1zLpz1R",
        "outputId": "bd76c4a8-b7f5-4fd1-c411-eb9683fde38f"
      },
      "execution_count": null,
      "outputs": [
        {
          "output_type": "execute_result",
          "data": {
            "text/plain": [
              "[<matplotlib.lines.Line2D at 0x7a095c1e5e70>]"
            ]
          },
          "metadata": {},
          "execution_count": 77
        },
        {
          "output_type": "display_data",
          "data": {
            "text/plain": [
              "<Figure size 640x480 with 1 Axes>"
            ],
            "image/png": "[encoded data removed]"
          },
          "metadata": {}
        }
      ]
    },
    {
      "cell_type": "markdown",
      "source": [
        "**AUC**"
      ],
      "metadata": {
        "id": "P35m5DXdpoqT"
      }
    },
    {
      "cell_type": "markdown",
      "source": [
        "Показник чотиришарової моделі."
      ],
      "metadata": {
        "id": "Ie8iTwKLSn4U"
      }
    },
    {
      "cell_type": "code",
      "source": [
        "roc_auc = auc(fpr, tpr)\n",
        "roc_auc"
      ],
      "metadata": {
        "colab": {
          "base_uri": "https://localhost:8080/"
        },
        "id": "fAACBVrtSl-V",
        "outputId": "759447e1-c5e6-4cc0-f169-3c6718c753d9"
      },
      "execution_count": null,
      "outputs": [
        {
          "output_type": "execute_result",
          "data": {
            "text/plain": [
              "0.691841067637246"
            ]
          },
          "metadata": {},
          "execution_count": 78
        }
      ]
    },
    {
      "cell_type": "markdown",
      "source": [
        "Нижче тришарова."
      ],
      "metadata": {
        "id": "Z0NgxnbISjl2"
      }
    },
    {
      "cell_type": "code",
      "source": [
        "roc_auc = auc(fpr, tpr)\n",
        "roc_auc"
      ],
      "metadata": {
        "colab": {
          "base_uri": "https://localhost:8080/"
        },
        "id": "75Uw_JZBQeR7",
        "outputId": "85458fea-2687-4127-d4be-fce1ae271408"
      },
      "execution_count": null,
      "outputs": [
        {
          "output_type": "execute_result",
          "data": {
            "text/plain": [
              "0.6511601455868972"
            ]
          },
          "metadata": {},
          "execution_count": 71
        }
      ]
    },
    {
      "cell_type": "markdown",
      "source": [
        "Нижче показник двошарової моделі. Не супер гарно."
      ],
      "metadata": {
        "id": "kPHOr0aGMTxX"
      }
    },
    {
      "cell_type": "code",
      "source": [
        "roc_auc = auc(fpr, tpr)\n",
        "roc_auc"
      ],
      "metadata": {
        "colab": {
          "base_uri": "https://localhost:8080/"
        },
        "id": "fodxA1fQKpqc",
        "outputId": "9087a102-5ec6-48fa-b856-346a5e1eb06b"
      },
      "execution_count": null,
      "outputs": [
        {
          "output_type": "execute_result",
          "data": {
            "text/plain": [
              "0.6590081892629662"
            ]
          },
          "metadata": {},
          "execution_count": 64
        }
      ]
    },
    {
      "cell_type": "markdown",
      "source": [
        "Нижче залтшок спроби зробити одношарову модель. Вона була не сильно краща за вгадування."
      ],
      "metadata": {
        "id": "1VBehbOQKcO0"
      }
    },
    {
      "cell_type": "code",
      "source": [
        "roc_auc = auc(fpr, tpr)\n",
        "roc_auc"
      ],
      "metadata": {
        "colab": {
          "base_uri": "https://localhost:8080/"
        },
        "id": "4J8u6jkxp0Il",
        "outputId": "2e9710d5-07a4-4df7-d1c3-ec9c73757232"
      },
      "execution_count": null,
      "outputs": [
        {
          "output_type": "execute_result",
          "data": {
            "text/plain": [
              "0.5212765957446809"
            ]
          },
          "metadata": {},
          "execution_count": 56
        }
      ]
    },
    {
      "cell_type": "markdown",
      "source": [
        "**Результати**\n",
        "\n",
        "Ми отримали не зовім погану модель. Можна помітити що площа під RoC кривою збільшується з збільшенням кількості шарів, але досить повільно. На мою думку більш суттєвим покращенням для моделі буде якісна обробка датасету."
      ],
      "metadata": {
        "id": "GWzOIVD5ptqn"
      }
    },
    {
      "cell_type": "markdown",
      "source": [
        "# Висновки\n",
        "В цій роботі я опанував на початковому рівні дерева рішень. Я також обробляв та підготавлював датасет перед обробкою, що є кроком можливо важливішим за сам етап побудови моделі. Перший датасет був штучним і для еього вийшло побудувати \"ідеальну модель\". Для другого датасету модель вийшла гірше. Точність виявлення \"шкідливих сатйів\" треба суттєво покращити для реального використання моделі. Частково на мою думку проблема в низький кількості екземплярів \"шкідливих сайтів\" в датасеті."
      ],
      "metadata": {
        "id": "oNmKQb-FlALv"
      }
    },
    {
      "cell_type": "code",
      "source": [],
      "metadata": {
        "id": "VVvVbpsprUKH"
      },
      "execution_count": null,
      "outputs": []
    }
  ]
}