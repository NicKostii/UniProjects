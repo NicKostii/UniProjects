{
  "nbformat": 4,
  "nbformat_minor": 0,
  "metadata": {
    "colab": {
      "provenance": [],
      "collapsed_sections": [
        "Uajxt1XkpnRE",
        "zu5jNMkJk_wY"
      ],
      "include_colab_link": true
    },
    "kernelspec": {
      "name": "python3",
      "display_name": "Python 3"
    },
    "language_info": {
      "name": "python"
    }
  },
  "cells": [
    {
      "cell_type": "markdown",
      "metadata": {
        "id": "view-in-github",
        "colab_type": "text"
      },
      "source": [
        "<a href=\"https://colab.research.google.com/github/NicKostii/UniProjects/blob/main/IDA/Lab_work_2_(IDA).ipynb\" target=\"_parent\"><img src=\"https://colab.research.google.com/assets/colab-badge.svg\" alt=\"Open In Colab\"/></a>"
      ]
    },
    {
      "cell_type": "markdown",
      "source": [
        "# Лабороторна робота №2\n",
        "Варіант 1   \n",
        "Тюкалов Ніколай КА-13"
      ],
      "metadata": {
        "id": "fiEMuE7xmbFt"
      }
    },
    {
      "cell_type": "markdown",
      "source": [
        "# Завдання"
      ],
      "metadata": {
        "id": "LyImtuKHk-61"
      }
    },
    {
      "cell_type": "markdown",
      "source": [
        "Метою роботи є побудова та оцiнювання якостi моделей:\n",
        "- дерев рiшень,\n",
        "- опорних векторiв,\n",
        "- логiстичної регресiї,\n",
        "- наївної баєсiвської моделi\n",
        "для класифiкацiї та регресiї засобами бiблiотеки Scikit-Learn Python.\n",
        "\n",
        "**Хiд виконання роботи:**\n",
        "1. Представити початковi данi графiчно.\n",
        "2. Розбити данi на навчальний та валiдацiйний набори.\n",
        "\n",
        "3. Побудувати на навчальному наборi даних моделi класифiкацiї або регресiї заданi згiдно з варiантом.\n",
        "\n",
        "4. Представити моделi графiчно (наприклад вивести частину дерева рi-\n",
        "шень, побудувати лiнiю регресiї тощо).\n",
        "\n",
        "5. Виконати прогнози на основi побудованих моделей.\n",
        "6. Для кожної з моделей оцiнити, чи має мiсце перенавчання.\n",
        "\n",
        "7. Розрахувати додатковi результати моделей, наприклад, апостерiорнi iмо-\n",
        "вiрностi або iншi (згiдно з варiантом).\n",
        "\n",
        "8. В задачах класифiкацiї побудувати границi рiшень графiчно для кожної\n",
        "з моделей.\n",
        "\n",
        "9. В задачах класифiкацiї розрахувати для кожної моделi значення наступних критерiїв якостi, окремо на навчальнiй та валiдацiйнiй множинах:\n",
        "\n",
        "  • матрицю неточностей (confusion matrix),\n",
        "\n",
        "  • точнiсть (precision),\n",
        "\n",
        "  • повноту (recall),\n",
        "\n",
        "  • мiру F1 (F1 score),\n",
        "\n",
        "  • побудувати криву точностi-повноти (precision-recall (PR) curve), ROC-\n",
        "  криву, показник AUC.\n",
        "\n",
        "11. Спробувати виконати решiтчастий пошук (grid search) для пiдбору гiперпараметрiв моделей.\n",
        "\n",
        "12. Зробити висновки про якiсть роботи моделей на дослiджених даних. На\n",
        "основi критерiїв якостi спробувати обрати найкращу модель.\n",
        "13. Навчити моделi на пiдмножинах навчальних даних. Оцiнити, наскiльки\n",
        "розмiр навчальної множини впливає на якiсть моделi.\n",
        "14. Кожний варiант мiстить два набори даних. Дослiдити обидва набори за\n",
        "наведеними вище етапами. Можна обрати власний набiр даних (повiдо-\n",
        "мивши попередньо про це викладача), наприклад, з цiкавої вам практи-\n",
        "чної задачi. Для кожного набору спробувати пiдiбрати найкращу модель.\n",
        "\n",
        "Для отримання максимальної оцiнки потрiбно виконати ВСI етапи Ходу виконання роботи та оформити звiт. Звiтом може бути, наприклад, файл jupyter notebook з кодом програми i текстовими поясненнями вiдповiдно до\n",
        "Ходу виконання роботи та отриманих цифр.\n",
        "Звiт має мiстити:\n",
        "- ПIБ студента, номер групи,\n",
        "- умову завдання,\n",
        "- текст програми,\n",
        "\n",
        "- результати аналiзу кiлькох моделей, пiдбiр гiперпараметрiв, значення метрик якостi моделей, оцiнку впливу розмiру навчальної вибiрки на якiсть моделi.\n",
        "\n",
        "\n",
        "**2 Варiанти завдань**\n",
        "\n",
        "Побудувати моделi класифiкацiї на основi методу дерев рiшень, використовуючи sklearn.tree.DecisionTreeClassifier з рiзними значеннями гiперпараметрiв:\n",
        "\n",
        "• max_depth – максимальна глибина дерева,\n",
        "\n",
        "• min_samples_split – мiнiмальна кiлькiсть прикладiв, якi мають бути у вузлi, перш нiж його можна буде розщепити,\n",
        "\n",
        "• min_samples_leaf – мiнiмальна кiлькiсть прикладiв у листовому\n",
        "вузлi,\n",
        "\n",
        "• max_leaf_nodes – максимальна кiлькiсть листових вузлiв,\n",
        "\n",
        "• max_features – максимальна кiлькiсть ознак, якi оцiнюються при\n",
        "розщепленнi кожного вузла.\n",
        "\n",
        "Початковi данi:\n",
        "\n",
        "**(а)**\n",
        "\n",
        "    import numpy as np\n",
        "    np.random.seed(0)\n",
        "    X = np.random.randn(300,2)\n",
        "    Y = np.logical_xor(X[:,0] > 0, X[:,1] > 0 )\n",
        "\n",
        "**(б)**\n",
        "\n",
        "     dataset_Malicious_and_Benign_Websites.csv"
      ],
      "metadata": {
        "id": "aY0pdglYmy1m"
      }
    },
    {
      "cell_type": "markdown",
      "source": [
        "# Необхідні бібліотеки"
      ],
      "metadata": {
        "id": "Uajxt1XkpnRE"
      }
    },
    {
      "cell_type": "code",
      "execution_count": null,
      "metadata": {
        "id": "NQIFWWYZzFjL"
      },
      "outputs": [],
      "source": [
        "import pandas as pd\n",
        "import numpy as np\n",
        "import matplotlib.pyplot as plt\n",
        "import seaborn as sns\n",
        "%matplotlib inline\n",
        "from google.colab import drive\n",
        "from sklearn.model_selection import train_test_split, GridSearchCV, RandomizedSearchCV\n",
        "from sklearn import tree\n",
        "from sklearn.metrics import classification_report, confusion_matrix, precision_recall_curve, roc_curve, auc, f1_score"
      ]
    },
    {
      "cell_type": "markdown",
      "source": [
        "# Перший dataset"
      ],
      "metadata": {
        "id": "zu5jNMkJk_wY"
      }
    },
    {
      "cell_type": "markdown",
      "source": [
        "**Препроцесінг**"
      ],
      "metadata": {
        "id": "NqzCwwXH4v1y"
      }
    },
    {
      "cell_type": "code",
      "source": [
        "np.random.seed(0)\n",
        "X = np.random.randn(300,2)\n",
        "Y = np.logical_xor(X[:,0] > 0, X[:,1] > 0 )"
      ],
      "metadata": {
        "id": "2bvQbt-0pb9G"
      },
      "execution_count": null,
      "outputs": []
    },
    {
      "cell_type": "code",
      "source": [
        "df = pd.DataFrame({'f1': X[:, 0], 'f2': X[:, 1], 'trgt': Y})\n",
        "df = pd.get_dummies(data= df, columns = ['trgt'], drop_first= True)\n",
        "df = df.rename(columns={'trgt_True': 'trgt'})\n",
        "df.head()"
      ],
      "metadata": {
        "colab": {
          "base_uri": "https://localhost:8080/",
          "height": 206
        },
        "id": "W0yPn_JowRlS",
        "outputId": "b08bd390-18d2-49d3-f443-fd7039adcd72"
      },
      "execution_count": null,
      "outputs": [
        {
          "output_type": "execute_result",
          "data": {
            "text/plain": [
              "         f1        f2  trgt\n",
              "0  1.764052  0.400157     0\n",
              "1  0.978738  2.240893     0\n",
              "2  1.867558 -0.977278     1\n",
              "3  0.950088 -0.151357     1\n",
              "4 -0.103219  0.410599     1"
            ],
            "text/html": [
              "\n",
              "  <div id=\"df-3497b95f-c6c1-401e-b0ed-544f104ff71d\" class=\"colab-df-container\">\n",
              "    <div>\n",
              "<style scoped>\n",
              "    .dataframe tbody tr th:only-of-type {\n",
              "        vertical-align: middle;\n",
              "    }\n",
              "\n",
              "    .dataframe tbody tr th {\n",
              "        vertical-align: top;\n",
              "    }\n",
              "\n",
              "    .dataframe thead th {\n",
              "        text-align: right;\n",
              "    }\n",
              "</style>\n",
              "<table border=\"1\" class=\"dataframe\">\n",
              "  <thead>\n",
              "    <tr style=\"text-align: right;\">\n",
              "      <th></th>\n",
              "      <th>f1</th>\n",
              "      <th>f2</th>\n",
              "      <th>trgt</th>\n",
              "    </tr>\n",
              "  </thead>\n",
              "  <tbody>\n",
              "    <tr>\n",
              "      <th>0</th>\n",
              "      <td>1.764052</td>\n",
              "      <td>0.400157</td>\n",
              "      <td>0</td>\n",
              "    </tr>\n",
              "    <tr>\n",
              "      <th>1</th>\n",
              "      <td>0.978738</td>\n",
              "      <td>2.240893</td>\n",
              "      <td>0</td>\n",
              "    </tr>\n",
              "    <tr>\n",
              "      <th>2</th>\n",
              "      <td>1.867558</td>\n",
              "      <td>-0.977278</td>\n",
              "      <td>1</td>\n",
              "    </tr>\n",
              "    <tr>\n",
              "      <th>3</th>\n",
              "      <td>0.950088</td>\n",
              "      <td>-0.151357</td>\n",
              "      <td>1</td>\n",
              "    </tr>\n",
              "    <tr>\n",
              "      <th>4</th>\n",
              "      <td>-0.103219</td>\n",
              "      <td>0.410599</td>\n",
              "      <td>1</td>\n",
              "    </tr>\n",
              "  </tbody>\n",
              "</table>\n",
              "</div>\n",
              "    <div class=\"colab-df-buttons\">\n",
              "\n",
              "  <div class=\"colab-df-container\">\n",
              "    <button class=\"colab-df-convert\" onclick=\"convertToInteractive('df-3497b95f-c6c1-401e-b0ed-544f104ff71d')\"\n",
              "            title=\"Convert this dataframe to an interactive table.\"\n",
              "            style=\"display:none;\">\n",
              "\n",
              "  <svg xmlns=\"http://www.w3.org/2000/svg\" height=\"24px\" viewBox=\"0 -960 960 960\">\n",
              "    <path d=\"M120-120v-720h720v720H120Zm60-500h600v-160H180v160Zm220 220h160v-160H400v160Zm0 220h160v-160H400v160ZM180-400h160v-160H180v160Zm440 0h160v-160H620v160ZM180-180h160v-160H180v160Zm440 0h160v-160H620v160Z\"/>\n",
              "  </svg>\n",
              "    </button>\n",
              "\n",
              "  <style>\n",
              "    .colab-df-container {\n",
              "      display:flex;\n",
              "      gap: 12px;\n",
              "    }\n",
              "\n",
              "    .colab-df-convert {\n",
              "      background-color: #E8F0FE;\n",
              "      border: none;\n",
              "      border-radius: 50%;\n",
              "      cursor: pointer;\n",
              "      display: none;\n",
              "      fill: #1967D2;\n",
              "      height: 32px;\n",
              "      padding: 0 0 0 0;\n",
              "      width: 32px;\n",
              "    }\n",
              "\n",
              "    .colab-df-convert:hover {\n",
              "      background-color: #E2EBFA;\n",
              "      box-shadow: 0px 1px 2px rgba(60, 64, 67, 0.3), 0px 1px 3px 1px rgba(60, 64, 67, 0.15);\n",
              "      fill: #174EA6;\n",
              "    }\n",
              "\n",
              "    .colab-df-buttons div {\n",
              "      margin-bottom: 4px;\n",
              "    }\n",
              "\n",
              "    [theme=dark] .colab-df-convert {\n",
              "      background-color: #3B4455;\n",
              "      fill: #D2E3FC;\n",
              "    }\n",
              "\n",
              "    [theme=dark] .colab-df-convert:hover {\n",
              "      background-color: #434B5C;\n",
              "      box-shadow: 0px 1px 3px 1px rgba(0, 0, 0, 0.15);\n",
              "      filter: drop-shadow(0px 1px 2px rgba(0, 0, 0, 0.3));\n",
              "      fill: #FFFFFF;\n",
              "    }\n",
              "  </style>\n",
              "\n",
              "    <script>\n",
              "      const buttonEl =\n",
              "        document.querySelector('#df-3497b95f-c6c1-401e-b0ed-544f104ff71d button.colab-df-convert');\n",
              "      buttonEl.style.display =\n",
              "        google.colab.kernel.accessAllowed ? 'block' : 'none';\n",
              "\n",
              "      async function convertToInteractive(key) {\n",
              "        const element = document.querySelector('#df-3497b95f-c6c1-401e-b0ed-544f104ff71d');\n",
              "        const dataTable =\n",
              "          await google.colab.kernel.invokeFunction('convertToInteractive',\n",
              "                                                    [key], {});\n",
              "        if (!dataTable) return;\n",
              "\n",
              "        const docLinkHtml = 'Like what you see? Visit the ' +\n",
              "          '<a target=\"_blank\" href=https://colab.research.google.com/notebooks/data_table.ipynb>data table notebook</a>'\n",
              "          + ' to learn more about interactive tables.';\n",
              "        element.innerHTML = '';\n",
              "        dataTable['output_type'] = 'display_data';\n",
              "        await google.colab.output.renderOutput(dataTable, element);\n",
              "        const docLink = document.createElement('div');\n",
              "        docLink.innerHTML = docLinkHtml;\n",
              "        element.appendChild(docLink);\n",
              "      }\n",
              "    </script>\n",
              "  </div>\n",
              "\n",
              "\n",
              "<div id=\"df-cbd587f1-736d-4f9a-a746-f8b2e87d4468\">\n",
              "  <button class=\"colab-df-quickchart\" onclick=\"quickchart('df-cbd587f1-736d-4f9a-a746-f8b2e87d4468')\"\n",
              "            title=\"Suggest charts.\"\n",
              "            style=\"display:none;\">\n",
              "\n",
              "<svg xmlns=\"http://www.w3.org/2000/svg\" height=\"24px\"viewBox=\"0 0 24 24\"\n",
              "     width=\"24px\">\n",
              "    <g>\n",
              "        <path d=\"M19 3H5c-1.1 0-2 .9-2 2v14c0 1.1.9 2 2 2h14c1.1 0 2-.9 2-2V5c0-1.1-.9-2-2-2zM9 17H7v-7h2v7zm4 0h-2V7h2v10zm4 0h-2v-4h2v4z\"/>\n",
              "    </g>\n",
              "</svg>\n",
              "  </button>\n",
              "\n",
              "<style>\n",
              "  .colab-df-quickchart {\n",
              "      --bg-color: #E8F0FE;\n",
              "      --fill-color: #1967D2;\n",
              "      --hover-bg-color: #E2EBFA;\n",
              "      --hover-fill-color: #174EA6;\n",
              "      --disabled-fill-color: #AAA;\n",
              "      --disabled-bg-color: #DDD;\n",
              "  }\n",
              "\n",
              "  [theme=dark] .colab-df-quickchart {\n",
              "      --bg-color: #3B4455;\n",
              "      --fill-color: #D2E3FC;\n",
              "      --hover-bg-color: #434B5C;\n",
              "      --hover-fill-color: #FFFFFF;\n",
              "      --disabled-bg-color: #3B4455;\n",
              "      --disabled-fill-color: #666;\n",
              "  }\n",
              "\n",
              "  .colab-df-quickchart {\n",
              "    background-color: var(--bg-color);\n",
              "    border: none;\n",
              "    border-radius: 50%;\n",
              "    cursor: pointer;\n",
              "    display: none;\n",
              "    fill: var(--fill-color);\n",
              "    height: 32px;\n",
              "    padding: 0;\n",
              "    width: 32px;\n",
              "  }\n",
              "\n",
              "  .colab-df-quickchart:hover {\n",
              "    background-color: var(--hover-bg-color);\n",
              "    box-shadow: 0 1px 2px rgba(60, 64, 67, 0.3), 0 1px 3px 1px rgba(60, 64, 67, 0.15);\n",
              "    fill: var(--button-hover-fill-color);\n",
              "  }\n",
              "\n",
              "  .colab-df-quickchart-complete:disabled,\n",
              "  .colab-df-quickchart-complete:disabled:hover {\n",
              "    background-color: var(--disabled-bg-color);\n",
              "    fill: var(--disabled-fill-color);\n",
              "    box-shadow: none;\n",
              "  }\n",
              "\n",
              "  .colab-df-spinner {\n",
              "    border: 2px solid var(--fill-color);\n",
              "    border-color: transparent;\n",
              "    border-bottom-color: var(--fill-color);\n",
              "    animation:\n",
              "      spin 1s steps(1) infinite;\n",
              "  }\n",
              "\n",
              "  @keyframes spin {\n",
              "    0% {\n",
              "      border-color: transparent;\n",
              "      border-bottom-color: var(--fill-color);\n",
              "      border-left-color: var(--fill-color);\n",
              "    }\n",
              "    20% {\n",
              "      border-color: transparent;\n",
              "      border-left-color: var(--fill-color);\n",
              "      border-top-color: var(--fill-color);\n",
              "    }\n",
              "    30% {\n",
              "      border-color: transparent;\n",
              "      border-left-color: var(--fill-color);\n",
              "      border-top-color: var(--fill-color);\n",
              "      border-right-color: var(--fill-color);\n",
              "    }\n",
              "    40% {\n",
              "      border-color: transparent;\n",
              "      border-right-color: var(--fill-color);\n",
              "      border-top-color: var(--fill-color);\n",
              "    }\n",
              "    60% {\n",
              "      border-color: transparent;\n",
              "      border-right-color: var(--fill-color);\n",
              "    }\n",
              "    80% {\n",
              "      border-color: transparent;\n",
              "      border-right-color: var(--fill-color);\n",
              "      border-bottom-color: var(--fill-color);\n",
              "    }\n",
              "    90% {\n",
              "      border-color: transparent;\n",
              "      border-bottom-color: var(--fill-color);\n",
              "    }\n",
              "  }\n",
              "</style>\n",
              "\n",
              "  <script>\n",
              "    async function quickchart(key) {\n",
              "      const quickchartButtonEl =\n",
              "        document.querySelector('#' + key + ' button');\n",
              "      quickchartButtonEl.disabled = true;  // To prevent multiple clicks.\n",
              "      quickchartButtonEl.classList.add('colab-df-spinner');\n",
              "      try {\n",
              "        const charts = await google.colab.kernel.invokeFunction(\n",
              "            'suggestCharts', [key], {});\n",
              "      } catch (error) {\n",
              "        console.error('Error during call to suggestCharts:', error);\n",
              "      }\n",
              "      quickchartButtonEl.classList.remove('colab-df-spinner');\n",
              "      quickchartButtonEl.classList.add('colab-df-quickchart-complete');\n",
              "    }\n",
              "    (() => {\n",
              "      let quickchartButtonEl =\n",
              "        document.querySelector('#df-cbd587f1-736d-4f9a-a746-f8b2e87d4468 button');\n",
              "      quickchartButtonEl.style.display =\n",
              "        google.colab.kernel.accessAllowed ? 'block' : 'none';\n",
              "    })();\n",
              "  </script>\n",
              "</div>\n",
              "    </div>\n",
              "  </div>\n"
            ]
          },
          "metadata": {},
          "execution_count": 12
        }
      ]
    },
    {
      "cell_type": "markdown",
      "source": [
        "***Візуалізація***"
      ],
      "metadata": {
        "id": "sU80C12b4y_8"
      }
    },
    {
      "cell_type": "code",
      "source": [
        "sns.scatterplot(data=df, x = 'f1', y ='f2', hue = 'trgt')"
      ],
      "metadata": {
        "colab": {
          "base_uri": "https://localhost:8080/",
          "height": 466
        },
        "id": "9BJlbQNAyf-a",
        "outputId": "922fc15e-6586-490c-a508-0b22fe3dc639"
      },
      "execution_count": null,
      "outputs": [
        {
          "output_type": "execute_result",
          "data": {
            "text/plain": [
              "<Axes: xlabel='f1', ylabel='f2'>"
            ]
          },
          "metadata": {},
          "execution_count": 23
        },
        {
          "output_type": "display_data",
          "data": {
            "text/plain": [
              "<Figure size 640x480 with 1 Axes>"
            ],
            "image/png": "[encoded data removed]"
          },
          "metadata": {}
        }
      ]
    },
    {
      "cell_type": "markdown",
      "source": [
        "From plot we can clearly see that classes are separeted in the (0,0) point. NE, SW directions are filled with '0' and NW, SE directions are populated with '1'. So the tree must be really simple and solution boundaries vey distinct and simple too."
      ],
      "metadata": {
        "id": "0TjFp0RGy4wK"
      }
    },
    {
      "cell_type": "markdown",
      "source": [
        "**Розбиття на навчальний та валідаційний датасети**"
      ],
      "metadata": {
        "id": "GYJx5xiJ43DQ"
      }
    },
    {
      "cell_type": "code",
      "source": [
        "X_train, X_test, y_train, y_test = train_test_split(df[['f1','f2']], df['trgt'], test_size=0.30)"
      ],
      "metadata": {
        "id": "HPzX0LBU5HWQ"
      },
      "execution_count": null,
      "outputs": []
    },
    {
      "cell_type": "markdown",
      "source": [
        "**Побудова дерева**"
      ],
      "metadata": {
        "id": "cecOIrfmERNv"
      }
    },
    {
      "cell_type": "code",
      "source": [
        "dtree = tree.DecisionTreeClassifier()\n",
        "dtree.fit(X_train,y_train)\n",
        "predictions = dtree.predict(X_test)"
      ],
      "metadata": {
        "id": "chQi7gxeEQce"
      },
      "execution_count": null,
      "outputs": []
    },
    {
      "cell_type": "code",
      "source": [
        "tree.plot_tree(dtree, filled = True)"
      ],
      "metadata": {
        "colab": {
          "base_uri": "https://localhost:8080/",
          "height": 597
        },
        "id": "bOrxWj7SFDZO",
        "outputId": "84a7b2ca-549b-4587-a0b9-fcf6cf99b32d"
      },
      "execution_count": null,
      "outputs": [
        {
          "output_type": "execute_result",
          "data": {
            "text/plain": [
              "[Text(0.4090909090909091, 0.875, 'x[1] <= -0.236\\ngini = 0.499\\nsamples = 210\\nvalue = [110, 100]'),\n",
              " Text(0.18181818181818182, 0.625, 'x[0] <= 0.059\\ngini = 0.467\\nsamples = 86\\nvalue = [54, 32]'),\n",
              " Text(0.09090909090909091, 0.375, 'gini = 0.0\\nsamples = 54\\nvalue = [54, 0]'),\n",
              " Text(0.2727272727272727, 0.375, 'gini = 0.0\\nsamples = 32\\nvalue = [0, 32]'),\n",
              " Text(0.6363636363636364, 0.625, 'x[0] <= -0.004\\ngini = 0.495\\nsamples = 124\\nvalue = [56, 68]'),\n",
              " Text(0.45454545454545453, 0.375, 'x[1] <= -0.016\\ngini = 0.206\\nsamples = 60\\nvalue = [7, 53]'),\n",
              " Text(0.36363636363636365, 0.125, 'gini = 0.0\\nsamples = 7\\nvalue = [7, 0]'),\n",
              " Text(0.5454545454545454, 0.125, 'gini = 0.0\\nsamples = 53\\nvalue = [0, 53]'),\n",
              " Text(0.8181818181818182, 0.375, 'x[1] <= 0.012\\ngini = 0.359\\nsamples = 64\\nvalue = [49, 15]'),\n",
              " Text(0.7272727272727273, 0.125, 'gini = 0.0\\nsamples = 15\\nvalue = [0, 15]'),\n",
              " Text(0.9090909090909091, 0.125, 'gini = 0.0\\nsamples = 49\\nvalue = [49, 0]')]"
            ]
          },
          "metadata": {},
          "execution_count": 27
        },
        {
          "output_type": "display_data",
          "data": {
            "text/plain": [
              "<Figure size 640x480 with 1 Axes>"
            ],
            "image/png": "[encoded data removed]"
          },
          "metadata": {}
        }
      ]
    },
    {
      "cell_type": "code",
      "source": [
        "x_min, x_max = X[:, 0].min() - 1, X[:, 0].max() + 1\n",
        "y_min, y_max = X[:, 1].min() - 1, X[:, 1].max() + 1\n",
        "xx, yy = np.meshgrid(np.arange(x_min, x_max, 0.01), np.arange(y_min, y_max, 0.01))\n",
        "Z = dtree.predict(np.c_[xx.ravel(), yy.ravel()])\n",
        "Z = Z.reshape(xx.shape)\n",
        "plt.contourf(xx, yy, Z, alpha=0.3)\n",
        "plt.scatter(X[:, 0], X[:, 1], c=Y, cmap=plt.cm.coolwarm)\n",
        "plt.xlabel('Feature 1')\n",
        "plt.ylabel('Feature 2')\n",
        "plt.title('Decision Boundaries')\n",
        "plt.show()"
      ],
      "metadata": {
        "colab": {
          "base_uri": "https://localhost:8080/",
          "height": 527
        },
        "id": "xdapXkfIJmCm",
        "outputId": "e2538a0b-ed1f-4ef1-d7fc-4e86c0fa79af"
      },
      "execution_count": null,
      "outputs": [
        {
          "output_type": "stream",
          "name": "stderr",
          "text": [
            "/usr/local/lib/python3.10/dist-packages/sklearn/base.py:439: UserWarning: X does not have valid feature names, but DecisionTreeClassifier was fitted with feature names\n",
            "  warnings.warn(\n"
          ]
        },
        {
          "output_type": "display_data",
          "data": {
            "text/plain": [
              "<Figure size 640x480 with 1 Axes>"
            ],
            "image/png": "[encoded data removed]"
          },
          "metadata": {}
        }
      ]
    },
    {
      "cell_type": "code",
      "source": [
        "plt.contourf(xx, yy, Z, alpha=0.3)"
      ],
      "metadata": {
        "colab": {
          "base_uri": "https://localhost:8080/",
          "height": 447
        },
        "id": "HfANtJWtKxGY",
        "outputId": "348daa74-2bb0-462c-8751-5d916794fafc"
      },
      "execution_count": null,
      "outputs": [
        {
          "output_type": "execute_result",
          "data": {
            "text/plain": [
              "<matplotlib.contour.QuadContourSet at 0x785083164f70>"
            ]
          },
          "metadata": {},
          "execution_count": 35
        },
        {
          "output_type": "display_data",
          "data": {
            "text/plain": [
              "<Figure size 640x480 with 1 Axes>"
            ],
            "image/png": "[encoded data removed]"
          },
          "metadata": {}
        }
      ]
    },
    {
      "cell_type": "code",
      "source": [
        "print(classification_report(y_test,predictions))"
      ],
      "metadata": {
        "colab": {
          "base_uri": "https://localhost:8080/"
        },
        "id": "k8PRShMZF13U",
        "outputId": "b9b92f79-a749-4f44-cf19-a5245127fe2a"
      },
      "execution_count": null,
      "outputs": [
        {
          "output_type": "stream",
          "name": "stdout",
          "text": [
            "              precision    recall  f1-score   support\n",
            "\n",
            "           0       0.98      0.96      0.97        48\n",
            "           1       0.95      0.98      0.96        42\n",
            "\n",
            "    accuracy                           0.97        90\n",
            "   macro avg       0.97      0.97      0.97        90\n",
            "weighted avg       0.97      0.97      0.97        90\n",
            "\n"
          ]
        }
      ]
    },
    {
      "cell_type": "code",
      "source": [
        "print(confusion_matrix(y_test,predictions))"
      ],
      "metadata": {
        "colab": {
          "base_uri": "https://localhost:8080/"
        },
        "id": "lKQGeACbHbZV",
        "outputId": "7b2f3cb5-ad41-450a-cf7f-da97a81a9f23"
      },
      "execution_count": null,
      "outputs": [
        {
          "output_type": "stream",
          "name": "stdout",
          "text": [
            "[[46  2]\n",
            " [ 1 41]]\n"
          ]
        }
      ]
    },
    {
      "cell_type": "markdown",
      "source": [
        "Як ми бачимо точність >= 0.95 для всіх метрік, тобто дуже висока, але потенційно може бути вишче, а дерево може бути простіше, враховуючи природу датасета. Конкретно для цієї моделі, якщо подивтись на границі рішень, то **незначне перенавчання присутнє**."
      ],
      "metadata": {
        "id": "YPYzcknaF8oN"
      }
    },
    {
      "cell_type": "markdown",
      "source": [
        "**PR Curve**"
      ],
      "metadata": {
        "id": "jPl0K01jhqXQ"
      }
    },
    {
      "cell_type": "code",
      "source": [
        "precision, recall, thresholds = precision_recall_curve(y_test, predictions)\n",
        "plt.plot(recall, precision, color='b', label='PR Curve')\n"
      ],
      "metadata": {
        "colab": {
          "base_uri": "https://localhost:8080/",
          "height": 447
        },
        "id": "xlKSnWYcRmBO",
        "outputId": "e9034df7-346f-4455-df13-3d7b2b73d04d"
      },
      "execution_count": null,
      "outputs": [
        {
          "output_type": "execute_result",
          "data": {
            "text/plain": [
              "[<matplotlib.lines.Line2D at 0x7850831c7880>]"
            ]
          },
          "metadata": {},
          "execution_count": 37
        },
        {
          "output_type": "display_data",
          "data": {
            "text/plain": [
              "<Figure size 640x480 with 1 Axes>"
            ],
            "image/png": "[encoded data removed]"
          },
          "metadata": {}
        }
      ]
    },
    {
      "cell_type": "markdown",
      "source": [
        "**ROC Curve**"
      ],
      "metadata": {
        "id": "_WW4PA4vhtke"
      }
    },
    {
      "cell_type": "code",
      "source": [
        "fpr, tpr, thresholds = roc_curve(y_test, predictions)\n",
        "plt.plot(fpr, tpr, color='darkred',label='ROC curve')"
      ],
      "metadata": {
        "colab": {
          "base_uri": "https://localhost:8080/",
          "height": 447
        },
        "id": "bErgq4Ephs4f",
        "outputId": "e1222ebc-2f82-4631-f3aa-2d2c61c1c490"
      },
      "execution_count": null,
      "outputs": [
        {
          "output_type": "execute_result",
          "data": {
            "text/plain": [
              "[<matplotlib.lines.Line2D at 0x785083508eb0>]"
            ]
          },
          "metadata": {},
          "execution_count": 43
        },
        {
          "output_type": "display_data",
          "data": {
            "text/plain": [
              "<Figure size 640x480 with 1 Axes>"
            ],
            "image/png": "[encoded data removed]"
          },
          "metadata": {}
        }
      ]
    },
    {
      "cell_type": "markdown",
      "source": [
        "**AUC**"
      ],
      "metadata": {
        "id": "-HtQK1oahwfx"
      }
    },
    {
      "cell_type": "code",
      "source": [
        "roc_auc = auc(fpr, tpr)\n",
        "roc_auc"
      ],
      "metadata": {
        "colab": {
          "base_uri": "https://localhost:8080/"
        },
        "id": "2OYJqCoshwBl",
        "outputId": "a875645f-c68d-4941-a774-71b3774d35f5"
      },
      "execution_count": null,
      "outputs": [
        {
          "output_type": "execute_result",
          "data": {
            "text/plain": [
              "0.9672619047619049"
            ]
          },
          "metadata": {},
          "execution_count": 45
        }
      ]
    },
    {
      "cell_type": "markdown",
      "source": [
        "Як видно з графіків та значення AUC (близьке до 1), модель досить непогана."
      ],
      "metadata": {
        "id": "wYkltBxojhav"
      }
    },
    {
      "cell_type": "markdown",
      "source": [
        "**Grid Search**"
      ],
      "metadata": {
        "id": "BA4IrKeBhz1S"
      }
    },
    {
      "cell_type": "code",
      "source": [
        "params = {'max_depth'       : range(2, 10),\n",
        "             'min_samples_split': range(2, 10),\n",
        "             'min_samples_leaf' : range(1, 10),\n",
        "             'max_leaf_nodes'   : range(1, 50)}\n",
        "\n",
        "dtree2 = tree.DecisionTreeClassifier()\n",
        "best_dtree2 = GridSearchCV(dtree2, params, scoring='f1_weighted')\n",
        "best_dtree2.fit(X_train, y_train)"
      ],
      "metadata": {
        "id": "tetAqfbxkZIs"
      },
      "execution_count": null,
      "outputs": []
    },
    {
      "cell_type": "code",
      "source": [
        "best_dtree2.best_params_"
      ],
      "metadata": {
        "colab": {
          "base_uri": "https://localhost:8080/"
        },
        "id": "d_ufN3ibl4sd",
        "outputId": "2b637aea-cc1f-49cb-a125-725642e5974f"
      },
      "execution_count": null,
      "outputs": [
        {
          "output_type": "execute_result",
          "data": {
            "text/plain": [
              "{'max_depth': 5,\n",
              " 'max_leaf_nodes': 10,\n",
              " 'min_samples_leaf': 2,\n",
              " 'min_samples_split': 2}"
            ]
          },
          "metadata": {},
          "execution_count": 47
        }
      ]
    },
    {
      "cell_type": "code",
      "source": [
        "best_dtree2 = best_dtree2.best_estimator_"
      ],
      "metadata": {
        "id": "b9oGSoJ8p_1U"
      },
      "execution_count": null,
      "outputs": []
    },
    {
      "cell_type": "code",
      "source": [
        "tree.plot_tree(best_dtree2, filled = True)"
      ],
      "metadata": {
        "colab": {
          "base_uri": "https://localhost:8080/",
          "height": 597
        },
        "id": "NEy2qMnjpvtl",
        "outputId": "a69ed372-a956-4cea-a496-f769f86daa88"
      },
      "execution_count": null,
      "outputs": [
        {
          "output_type": "execute_result",
          "data": {
            "text/plain": [
              "[Text(0.4090909090909091, 0.875, 'x[1] <= -0.236\\ngini = 0.499\\nsamples = 210\\nvalue = [110, 100]'),\n",
              " Text(0.18181818181818182, 0.625, 'x[0] <= 0.059\\ngini = 0.467\\nsamples = 86\\nvalue = [54, 32]'),\n",
              " Text(0.09090909090909091, 0.375, 'gini = 0.0\\nsamples = 54\\nvalue = [54, 0]'),\n",
              " Text(0.2727272727272727, 0.375, 'gini = 0.0\\nsamples = 32\\nvalue = [0, 32]'),\n",
              " Text(0.6363636363636364, 0.625, 'x[0] <= -0.004\\ngini = 0.495\\nsamples = 124\\nvalue = [56, 68]'),\n",
              " Text(0.45454545454545453, 0.375, 'x[1] <= -0.016\\ngini = 0.206\\nsamples = 60\\nvalue = [7, 53]'),\n",
              " Text(0.36363636363636365, 0.125, 'gini = 0.0\\nsamples = 7\\nvalue = [7, 0]'),\n",
              " Text(0.5454545454545454, 0.125, 'gini = 0.0\\nsamples = 53\\nvalue = [0, 53]'),\n",
              " Text(0.8181818181818182, 0.375, 'x[1] <= 0.012\\ngini = 0.359\\nsamples = 64\\nvalue = [49, 15]'),\n",
              " Text(0.7272727272727273, 0.125, 'gini = 0.0\\nsamples = 15\\nvalue = [0, 15]'),\n",
              " Text(0.9090909090909091, 0.125, 'gini = 0.0\\nsamples = 49\\nvalue = [49, 0]')]"
            ]
          },
          "metadata": {},
          "execution_count": 50
        },
        {
          "output_type": "display_data",
          "data": {
            "text/plain": [
              "<Figure size 640x480 with 1 Axes>"
            ],
            "image/png": "[encoded data removed]"
          },
          "metadata": {}
        }
      ]
    },
    {
      "cell_type": "code",
      "source": [
        "predictions2 = best_dtree2.predict(X_test)\n",
        "print(classification_report(y_test,predictions2))"
      ],
      "metadata": {
        "colab": {
          "base_uri": "https://localhost:8080/"
        },
        "id": "DcM6WiH0qTdE",
        "outputId": "9e188684-f8e6-41ec-9077-1721c5d70284"
      },
      "execution_count": null,
      "outputs": [
        {
          "output_type": "stream",
          "name": "stdout",
          "text": [
            "              precision    recall  f1-score   support\n",
            "\n",
            "           0       0.98      0.96      0.97        48\n",
            "           1       0.95      0.98      0.96        42\n",
            "\n",
            "    accuracy                           0.97        90\n",
            "   macro avg       0.97      0.97      0.97        90\n",
            "weighted avg       0.97      0.97      0.97        90\n",
            "\n"
          ]
        }
      ]
    },
    {
      "cell_type": "markdown",
      "source": [
        "Конкретно в цьому випадку, схоже що стандартні параметри були достатньо оптимальні, отже Grid Search не покращив результати."
      ],
      "metadata": {
        "id": "L1Mvy-IVq2b-"
      }
    },
    {
      "cell_type": "markdown",
      "source": [
        "**Розмір навчального та тренувального наборів**"
      ],
      "metadata": {
        "id": "01z_4YTYisFj"
      }
    },
    {
      "cell_type": "code",
      "source": [
        "for i in range(1,10):\n",
        "\n",
        "    XX_train, XX_test, yy_train, yy_test = train_test_split(df[['f1','f2']], df['trgt'], test_size=(i / 10))\n",
        "    dtree3 = tree.DecisionTreeClassifier(random_state = 14)\n",
        "    dtree3.fit(XX_train,yy_train)\n",
        "    predictions3 = dtree3.predict(XX_test)\n",
        "    print(i)\n",
        "    print(f1_score( yy_test, predictions3))"
      ],
      "metadata": {
        "colab": {
          "base_uri": "https://localhost:8080/"
        },
        "id": "iYM1t_EarCJS",
        "outputId": "505dd17a-441d-4bcf-85d5-8f143f0b4bac"
      },
      "execution_count": null,
      "outputs": [
        {
          "output_type": "stream",
          "name": "stdout",
          "text": [
            "1\n",
            "1.0\n",
            "2\n",
            "1.0\n",
            "3\n",
            "0.9879518072289156\n",
            "4\n",
            "1.0\n",
            "5\n",
            "0.9402985074626866\n",
            "6\n",
            "0.9775280898876404\n",
            "7\n",
            "0.9732620320855615\n",
            "8\n",
            "0.9863013698630138\n",
            "9\n",
            "0.6533864541832669\n"
          ]
        }
      ]
    },
    {
      "cell_type": "code",
      "source": [
        "XX_train, XX_test, yy_train, yy_test = train_test_split(df[['f1','f2']], df['trgt'], test_size=0.2)\n",
        "dtree3 = tree.DecisionTreeClassifier(random_state = 14, max_depth= 5,max_leaf_nodes = 10,min_samples_leaf = 2,min_samples_split = 2)\n",
        "dtree3.fit(XX_train,yy_train)\n",
        "predictions3 = dtree3.predict(XX_test)\n",
        "\n",
        "f1_score( yy_test, predictions3)"
      ],
      "metadata": {
        "colab": {
          "base_uri": "https://localhost:8080/"
        },
        "id": "geoLPHCJwpIV",
        "outputId": "de31a49c-3085-40cf-a10c-9e45d09fb7b3"
      },
      "execution_count": null,
      "outputs": [
        {
          "output_type": "execute_result",
          "data": {
            "text/plain": [
              "1.0"
            ]
          },
          "metadata": {},
          "execution_count": 74
        }
      ]
    },
    {
      "cell_type": "code",
      "source": [
        "print(classification_report(yy_test,predictions3))"
      ],
      "metadata": {
        "colab": {
          "base_uri": "https://localhost:8080/"
        },
        "id": "OhSEJsJUu6em",
        "outputId": "0709ad73-405c-419f-ba45-07cf025a4c65"
      },
      "execution_count": null,
      "outputs": [
        {
          "output_type": "stream",
          "name": "stdout",
          "text": [
            "              precision    recall  f1-score   support\n",
            "\n",
            "           0       1.00      1.00      1.00        33\n",
            "           1       1.00      1.00      1.00        27\n",
            "\n",
            "    accuracy                           1.00        60\n",
            "   macro avg       1.00      1.00      1.00        60\n",
            "weighted avg       1.00      1.00      1.00        60\n",
            "\n"
          ]
        }
      ]
    },
    {
      "cell_type": "code",
      "source": [
        "x_min, x_max = X[:, 0].min() - 1, X[:, 0].max() + 1\n",
        "y_min, y_max = X[:, 1].min() - 1, X[:, 1].max() + 1\n",
        "xx, yy = np.meshgrid(np.arange(x_min, x_max, 0.01), np.arange(y_min, y_max, 0.01))\n",
        "Z = dtree3.predict(np.c_[xx.ravel(), yy.ravel()])\n",
        "Z = Z.reshape(xx.shape)\n",
        "plt.contourf(xx, yy, Z, alpha=0.3)\n",
        "plt.scatter(X[:, 0], X[:, 1], c=Y, cmap=plt.cm.coolwarm)\n",
        "plt.xlabel('Feature 1')\n",
        "plt.ylabel('Feature 2')\n",
        "plt.title('Decision Boundaries')\n",
        "plt.show()"
      ],
      "metadata": {
        "colab": {
          "base_uri": "https://localhost:8080/",
          "height": 527
        },
        "id": "dwY7tfKSvp5m",
        "outputId": "cd8ecebb-5331-4cec-f195-cd96d81ead2f"
      },
      "execution_count": null,
      "outputs": [
        {
          "output_type": "stream",
          "name": "stderr",
          "text": [
            "/usr/local/lib/python3.10/dist-packages/sklearn/base.py:439: UserWarning: X does not have valid feature names, but DecisionTreeClassifier was fitted with feature names\n",
            "  warnings.warn(\n"
          ]
        },
        {
          "output_type": "display_data",
          "data": {
            "text/plain": [
              "<Figure size 640x480 with 1 Axes>"
            ],
            "image/png": "[encoded data removed]"
          },
          "metadata": {}
        }
      ]
    },
    {
      "cell_type": "markdown",
      "source": [
        "Як можна побачити, розподіл та навчульний та валідаційний набори дуже впливає на результативну модель. Разом з використанням найкращих параметрів ми отримали \"ідеальну модель\"."
      ],
      "metadata": {
        "id": "qfGZ5DhuuC7n"
      }
    },
    {
      "cell_type": "markdown",
      "source": [
        "**Результати**"
      ],
      "metadata": {
        "id": "aUdFu7ZKi9Ps"
      }
    },
    {
      "cell_type": "markdown",
      "source": [
        "На датасеті (а) я виконав всі умови лабораторної. Через штучність датасету він є надпростим для алгоритму, тому навіть зі стандартнимим параметрами розв'язок дуже точний. Контроль розміру датасета показав себе дуже ефективним. В результаті я змог знайти \"ідеальну модель\". Перенавчання в фінальний моделі немає. З цим допомогли параметри розраховані методом Grid Search."
      ],
      "metadata": {
        "id": "KRryIy_tuWZj"
      }
    },
    {
      "cell_type": "markdown",
      "source": [
        "# Другий dataset"
      ],
      "metadata": {
        "id": "DeSh71BUlAiw"
      }
    },
    {
      "cell_type": "code",
      "source": [
        "df = pd.read_csv(\"/content/drive/MyDrive/Datasets/dataset_Malicious_and_Benign_Websites.csv\")"
      ],
      "metadata": {
        "id": "Du2J-45nJYJ5"
      },
      "execution_count": null,
      "outputs": []
    },
    {
      "cell_type": "markdown",
      "source": [
        "Data preprocesing"
      ],
      "metadata": {
        "id": "JG5eVFAcUc6h"
      }
    },
    {
      "cell_type": "code",
      "source": [
        "df.head()"
      ],
      "metadata": {
        "colab": {
          "base_uri": "https://localhost:8080/",
          "height": 325
        },
        "id": "u-UTShY3QzGJ",
        "outputId": "3bdef9f7-4b71-4ef1-d97d-bc056841b49e"
      },
      "execution_count": null,
      "outputs": [
        {
          "output_type": "execute_result",
          "data": {
            "text/plain": [
              "       URL  URL_LENGTH  NUMBER_SPECIAL_CHARACTERS     CHARSET  \\\n",
              "0   M0_109          16                          7  iso-8859-1   \n",
              "1  B0_2314          16                          6       UTF-8   \n",
              "2   B0_911          16                          6    us-ascii   \n",
              "3   B0_113          17                          6  ISO-8859-1   \n",
              "4   B0_403          17                          6       UTF-8   \n",
              "\n",
              "                  SERVER  CONTENT_LENGTH WHOIS_COUNTRY WHOIS_STATEPRO  \\\n",
              "0                  nginx           263.0          None           None   \n",
              "1          Apache/2.4.10         15087.0          None           None   \n",
              "2  Microsoft-HTTPAPI/2.0           324.0          None           None   \n",
              "3                  nginx           162.0            US             AK   \n",
              "4                   None        124140.0            US             TX   \n",
              "\n",
              "      WHOIS_REGDATE WHOIS_UPDATED_DATE  ...  DIST_REMOTE_TCP_PORT  REMOTE_IPS  \\\n",
              "0  10/10/2015 18:21               None  ...                     0           2   \n",
              "1              None               None  ...                     7           4   \n",
              "2              None               None  ...                     0           0   \n",
              "3    7/10/1997 4:00    12/09/2013 0:45  ...                    22           3   \n",
              "4   12/05/1996 0:00    11/04/2017 0:00  ...                     2           5   \n",
              "\n",
              "   APP_BYTES  SOURCE_APP_PACKETS  REMOTE_APP_PACKETS  SOURCE_APP_BYTES  \\\n",
              "0        700                   9                  10              1153   \n",
              "1       1230                  17                  19              1265   \n",
              "2          0                   0                   0                 0   \n",
              "3       3812                  39                  37             18784   \n",
              "4       4278                  61                  62            129889   \n",
              "\n",
              "   REMOTE_APP_BYTES  APP_PACKETS  DNS_QUERY_TIMES  Type  \n",
              "0               832            9              2.0     1  \n",
              "1              1230           17              0.0     0  \n",
              "2                 0            0              0.0     0  \n",
              "3              4380           39              8.0     0  \n",
              "4              4586           61              4.0     0  \n",
              "\n",
              "[5 rows x 21 columns]"
            ],
            "text/html": [
              "\n",
              "  <div id=\"df-eecccd0e-b275-4d5a-a49a-1fc79328d2fa\" class=\"colab-df-container\">\n",
              "    <div>\n",
              "<style scoped>\n",
              "    .dataframe tbody tr th:only-of-type {\n",
              "        vertical-align: middle;\n",
              "    }\n",
              "\n",
              "    .dataframe tbody tr th {\n",
              "        vertical-align: top;\n",
              "    }\n",
              "\n",
              "    .dataframe thead th {\n",
              "        text-align: right;\n",
              "    }\n",
              "</style>\n",
              "<table border=\"1\" class=\"dataframe\">\n",
              "  <thead>\n",
              "    <tr style=\"text-align: right;\">\n",
              "      <th></th>\n",
              "      <th>URL</th>\n",
              "      <th>URL_LENGTH</th>\n",
              "      <th>NUMBER_SPECIAL_CHARACTERS</th>\n",
              "      <th>CHARSET</th>\n",
              "      <th>SERVER</th>\n",
              "      <th>CONTENT_LENGTH</th>\n",
              "      <th>WHOIS_COUNTRY</th>\n",
              "      <th>WHOIS_STATEPRO</th>\n",
              "      <th>WHOIS_REGDATE</th>\n",
              "      <th>WHOIS_UPDATED_DATE</th>\n",
              "      <th>...</th>\n",
              "      <th>DIST_REMOTE_TCP_PORT</th>\n",
              "      <th>REMOTE_IPS</th>\n",
              "      <th>APP_BYTES</th>\n",
              "      <th>SOURCE_APP_PACKETS</th>\n",
              "      <th>REMOTE_APP_PACKETS</th>\n",
              "      <th>SOURCE_APP_BYTES</th>\n",
              "      <th>REMOTE_APP_BYTES</th>\n",
              "      <th>APP_PACKETS</th>\n",
              "      <th>DNS_QUERY_TIMES</th>\n",
              "      <th>Type</th>\n",
              "    </tr>\n",
              "  </thead>\n",
              "  <tbody>\n",
              "    <tr>\n",
              "      <th>0</th>\n",
              "      <td>M0_109</td>\n",
              "      <td>16</td>\n",
              "      <td>7</td>\n",
              "      <td>iso-8859-1</td>\n",
              "      <td>nginx</td>\n",
              "      <td>263.0</td>\n",
              "      <td>None</td>\n",
              "      <td>None</td>\n",
              "      <td>10/10/2015 18:21</td>\n",
              "      <td>None</td>\n",
              "      <td>...</td>\n",
              "      <td>0</td>\n",
              "      <td>2</td>\n",
              "      <td>700</td>\n",
              "      <td>9</td>\n",
              "      <td>10</td>\n",
              "      <td>1153</td>\n",
              "      <td>832</td>\n",
              "      <td>9</td>\n",
              "      <td>2.0</td>\n",
              "      <td>1</td>\n",
              "    </tr>\n",
              "    <tr>\n",
              "      <th>1</th>\n",
              "      <td>B0_2314</td>\n",
              "      <td>16</td>\n",
              "      <td>6</td>\n",
              "      <td>UTF-8</td>\n",
              "      <td>Apache/2.4.10</td>\n",
              "      <td>15087.0</td>\n",
              "      <td>None</td>\n",
              "      <td>None</td>\n",
              "      <td>None</td>\n",
              "      <td>None</td>\n",
              "      <td>...</td>\n",
              "      <td>7</td>\n",
              "      <td>4</td>\n",
              "      <td>1230</td>\n",
              "      <td>17</td>\n",
              "      <td>19</td>\n",
              "      <td>1265</td>\n",
              "      <td>1230</td>\n",
              "      <td>17</td>\n",
              "      <td>0.0</td>\n",
              "      <td>0</td>\n",
              "    </tr>\n",
              "    <tr>\n",
              "      <th>2</th>\n",
              "      <td>B0_911</td>\n",
              "      <td>16</td>\n",
              "      <td>6</td>\n",
              "      <td>us-ascii</td>\n",
              "      <td>Microsoft-HTTPAPI/2.0</td>\n",
              "      <td>324.0</td>\n",
              "      <td>None</td>\n",
              "      <td>None</td>\n",
              "      <td>None</td>\n",
              "      <td>None</td>\n",
              "      <td>...</td>\n",
              "      <td>0</td>\n",
              "      <td>0</td>\n",
              "      <td>0</td>\n",
              "      <td>0</td>\n",
              "      <td>0</td>\n",
              "      <td>0</td>\n",
              "      <td>0</td>\n",
              "      <td>0</td>\n",
              "      <td>0.0</td>\n",
              "      <td>0</td>\n",
              "    </tr>\n",
              "    <tr>\n",
              "      <th>3</th>\n",
              "      <td>B0_113</td>\n",
              "      <td>17</td>\n",
              "      <td>6</td>\n",
              "      <td>ISO-8859-1</td>\n",
              "      <td>nginx</td>\n",
              "      <td>162.0</td>\n",
              "      <td>US</td>\n",
              "      <td>AK</td>\n",
              "      <td>7/10/1997 4:00</td>\n",
              "      <td>12/09/2013 0:45</td>\n",
              "      <td>...</td>\n",
              "      <td>22</td>\n",
              "      <td>3</td>\n",
              "      <td>3812</td>\n",
              "      <td>39</td>\n",
              "      <td>37</td>\n",
              "      <td>18784</td>\n",
              "      <td>4380</td>\n",
              "      <td>39</td>\n",
              "      <td>8.0</td>\n",
              "      <td>0</td>\n",
              "    </tr>\n",
              "    <tr>\n",
              "      <th>4</th>\n",
              "      <td>B0_403</td>\n",
              "      <td>17</td>\n",
              "      <td>6</td>\n",
              "      <td>UTF-8</td>\n",
              "      <td>None</td>\n",
              "      <td>124140.0</td>\n",
              "      <td>US</td>\n",
              "      <td>TX</td>\n",
              "      <td>12/05/1996 0:00</td>\n",
              "      <td>11/04/2017 0:00</td>\n",
              "      <td>...</td>\n",
              "      <td>2</td>\n",
              "      <td>5</td>\n",
              "      <td>4278</td>\n",
              "      <td>61</td>\n",
              "      <td>62</td>\n",
              "      <td>129889</td>\n",
              "      <td>4586</td>\n",
              "      <td>61</td>\n",
              "      <td>4.0</td>\n",
              "      <td>0</td>\n",
              "    </tr>\n",
              "  </tbody>\n",
              "</table>\n",
              "<p>5 rows × 21 columns</p>\n",
              "</div>\n",
              "    <div class=\"colab-df-buttons\">\n",
              "\n",
              "  <div class=\"colab-df-container\">\n",
              "    <button class=\"colab-df-convert\" onclick=\"convertToInteractive('df-eecccd0e-b275-4d5a-a49a-1fc79328d2fa')\"\n",
              "            title=\"Convert this dataframe to an interactive table.\"\n",
              "            style=\"display:none;\">\n",
              "\n",
              "  <svg xmlns=\"http://www.w3.org/2000/svg\" height=\"24px\" viewBox=\"0 -960 960 960\">\n",
              "    <path d=\"M120-120v-720h720v720H120Zm60-500h600v-160H180v160Zm220 220h160v-160H400v160Zm0 220h160v-160H400v160ZM180-400h160v-160H180v160Zm440 0h160v-160H620v160ZM180-180h160v-160H180v160Zm440 0h160v-160H620v160Z\"/>\n",
              "  </svg>\n",
              "    </button>\n",
              "\n",
              "  <style>\n",
              "    .colab-df-container {\n",
              "      display:flex;\n",
              "      gap: 12px;\n",
              "    }\n",
              "\n",
              "    .colab-df-convert {\n",
              "      background-color: #E8F0FE;\n",
              "      border: none;\n",
              "      border-radius: 50%;\n",
              "      cursor: pointer;\n",
              "      display: none;\n",
              "      fill: #1967D2;\n",
              "      height: 32px;\n",
              "      padding: 0 0 0 0;\n",
              "      width: 32px;\n",
              "    }\n",
              "\n",
              "    .colab-df-convert:hover {\n",
              "      background-color: #E2EBFA;\n",
              "      box-shadow: 0px 1px 2px rgba(60, 64, 67, 0.3), 0px 1px 3px 1px rgba(60, 64, 67, 0.15);\n",
              "      fill: #174EA6;\n",
              "    }\n",
              "\n",
              "    .colab-df-buttons div {\n",
              "      margin-bottom: 4px;\n",
              "    }\n",
              "\n",
              "    [theme=dark] .colab-df-convert {\n",
              "      background-color: #3B4455;\n",
              "      fill: #D2E3FC;\n",
              "    }\n",
              "\n",
              "    [theme=dark] .colab-df-convert:hover {\n",
              "      background-color: #434B5C;\n",
              "      box-shadow: 0px 1px 3px 1px rgba(0, 0, 0, 0.15);\n",
              "      filter: drop-shadow(0px 1px 2px rgba(0, 0, 0, 0.3));\n",
              "      fill: #FFFFFF;\n",
              "    }\n",
              "  </style>\n",
              "\n",
              "    <script>\n",
              "      const buttonEl =\n",
              "        document.querySelector('#df-eecccd0e-b275-4d5a-a49a-1fc79328d2fa button.colab-df-convert');\n",
              "      buttonEl.style.display =\n",
              "        google.colab.kernel.accessAllowed ? 'block' : 'none';\n",
              "\n",
              "      async function convertToInteractive(key) {\n",
              "        const element = document.querySelector('#df-eecccd0e-b275-4d5a-a49a-1fc79328d2fa');\n",
              "        const dataTable =\n",
              "          await google.colab.kernel.invokeFunction('convertToInteractive',\n",
              "                                                    [key], {});\n",
              "        if (!dataTable) return;\n",
              "\n",
              "        const docLinkHtml = 'Like what you see? Visit the ' +\n",
              "          '<a target=\"_blank\" href=https://colab.research.google.com/notebooks/data_table.ipynb>data table notebook</a>'\n",
              "          + ' to learn more about interactive tables.';\n",
              "        element.innerHTML = '';\n",
              "        dataTable['output_type'] = 'display_data';\n",
              "        await google.colab.output.renderOutput(dataTable, element);\n",
              "        const docLink = document.createElement('div');\n",
              "        docLink.innerHTML = docLinkHtml;\n",
              "        element.appendChild(docLink);\n",
              "      }\n",
              "    </script>\n",
              "  </div>\n",
              "\n",
              "\n",
              "<div id=\"df-c90162a6-ccfe-4ace-b704-6cab435b1579\">\n",
              "  <button class=\"colab-df-quickchart\" onclick=\"quickchart('df-c90162a6-ccfe-4ace-b704-6cab435b1579')\"\n",
              "            title=\"Suggest charts.\"\n",
              "            style=\"display:none;\">\n",
              "\n",
              "<svg xmlns=\"http://www.w3.org/2000/svg\" height=\"24px\"viewBox=\"0 0 24 24\"\n",
              "     width=\"24px\">\n",
              "    <g>\n",
              "        <path d=\"M19 3H5c-1.1 0-2 .9-2 2v14c0 1.1.9 2 2 2h14c1.1 0 2-.9 2-2V5c0-1.1-.9-2-2-2zM9 17H7v-7h2v7zm4 0h-2V7h2v10zm4 0h-2v-4h2v4z\"/>\n",
              "    </g>\n",
              "</svg>\n",
              "  </button>\n",
              "\n",
              "<style>\n",
              "  .colab-df-quickchart {\n",
              "      --bg-color: #E8F0FE;\n",
              "      --fill-color: #1967D2;\n",
              "      --hover-bg-color: #E2EBFA;\n",
              "      --hover-fill-color: #174EA6;\n",
              "      --disabled-fill-color: #AAA;\n",
              "      --disabled-bg-color: #DDD;\n",
              "  }\n",
              "\n",
              "  [theme=dark] .colab-df-quickchart {\n",
              "      --bg-color: #3B4455;\n",
              "      --fill-color: #D2E3FC;\n",
              "      --hover-bg-color: #434B5C;\n",
              "      --hover-fill-color: #FFFFFF;\n",
              "      --disabled-bg-color: #3B4455;\n",
              "      --disabled-fill-color: #666;\n",
              "  }\n",
              "\n",
              "  .colab-df-quickchart {\n",
              "    background-color: var(--bg-color);\n",
              "    border: none;\n",
              "    border-radius: 50%;\n",
              "    cursor: pointer;\n",
              "    display: none;\n",
              "    fill: var(--fill-color);\n",
              "    height: 32px;\n",
              "    padding: 0;\n",
              "    width: 32px;\n",
              "  }\n",
              "\n",
              "  .colab-df-quickchart:hover {\n",
              "    background-color: var(--hover-bg-color);\n",
              "    box-shadow: 0 1px 2px rgba(60, 64, 67, 0.3), 0 1px 3px 1px rgba(60, 64, 67, 0.15);\n",
              "    fill: var(--button-hover-fill-color);\n",
              "  }\n",
              "\n",
              "  .colab-df-quickchart-complete:disabled,\n",
              "  .colab-df-quickchart-complete:disabled:hover {\n",
              "    background-color: var(--disabled-bg-color);\n",
              "    fill: var(--disabled-fill-color);\n",
              "    box-shadow: none;\n",
              "  }\n",
              "\n",
              "  .colab-df-spinner {\n",
              "    border: 2px solid var(--fill-color);\n",
              "    border-color: transparent;\n",
              "    border-bottom-color: var(--fill-color);\n",
              "    animation:\n",
              "      spin 1s steps(1) infinite;\n",
              "  }\n",
              "\n",
              "  @keyframes spin {\n",
              "    0% {\n",
              "      border-color: transparent;\n",
              "      border-bottom-color: var(--fill-color);\n",
              "      border-left-color: var(--fill-color);\n",
              "    }\n",
              "    20% {\n",
              "      border-color: transparent;\n",
              "      border-left-color: var(--fill-color);\n",
              "      border-top-color: var(--fill-color);\n",
              "    }\n",
              "    30% {\n",
              "      border-color: transparent;\n",
              "      border-left-color: var(--fill-color);\n",
              "      border-top-color: var(--fill-color);\n",
              "      border-right-color: var(--fill-color);\n",
              "    }\n",
              "    40% {\n",
              "      border-color: transparent;\n",
              "      border-right-color: var(--fill-color);\n",
              "      border-top-color: var(--fill-color);\n",
              "    }\n",
              "    60% {\n",
              "      border-color: transparent;\n",
              "      border-right-color: var(--fill-color);\n",
              "    }\n",
              "    80% {\n",
              "      border-color: transparent;\n",
              "      border-right-color: var(--fill-color);\n",
              "      border-bottom-color: var(--fill-color);\n",
              "    }\n",
              "    90% {\n",
              "      border-color: transparent;\n",
              "      border-bottom-color: var(--fill-color);\n",
              "    }\n",
              "  }\n",
              "</style>\n",
              "\n",
              "  <script>\n",
              "    async function quickchart(key) {\n",
              "      const quickchartButtonEl =\n",
              "        document.querySelector('#' + key + ' button');\n",
              "      quickchartButtonEl.disabled = true;  // To prevent multiple clicks.\n",
              "      quickchartButtonEl.classList.add('colab-df-spinner');\n",
              "      try {\n",
              "        const charts = await google.colab.kernel.invokeFunction(\n",
              "            'suggestCharts', [key], {});\n",
              "      } catch (error) {\n",
              "        console.error('Error during call to suggestCharts:', error);\n",
              "      }\n",
              "      quickchartButtonEl.classList.remove('colab-df-spinner');\n",
              "      quickchartButtonEl.classList.add('colab-df-quickchart-complete');\n",
              "    }\n",
              "    (() => {\n",
              "      let quickchartButtonEl =\n",
              "        document.querySelector('#df-c90162a6-ccfe-4ace-b704-6cab435b1579 button');\n",
              "      quickchartButtonEl.style.display =\n",
              "        google.colab.kernel.accessAllowed ? 'block' : 'none';\n",
              "    })();\n",
              "  </script>\n",
              "</div>\n",
              "    </div>\n",
              "  </div>\n"
            ]
          },
          "metadata": {},
          "execution_count": 3
        }
      ]
    },
    {
      "cell_type": "code",
      "source": [
        "df.info()"
      ],
      "metadata": {
        "colab": {
          "base_uri": "https://localhost:8080/"
        },
        "id": "i9MGScj3RjGJ",
        "outputId": "5ef1f82c-c580-4992-cdcd-6b4e6bdc8742"
      },
      "execution_count": null,
      "outputs": [
        {
          "output_type": "stream",
          "name": "stdout",
          "text": [
            "<class 'pandas.core.frame.DataFrame'>\n",
            "RangeIndex: 1781 entries, 0 to 1780\n",
            "Data columns (total 21 columns):\n",
            " #   Column                     Non-Null Count  Dtype  \n",
            "---  ------                     --------------  -----  \n",
            " 0   URL                        1781 non-null   object \n",
            " 1   URL_LENGTH                 1781 non-null   int64  \n",
            " 2   NUMBER_SPECIAL_CHARACTERS  1781 non-null   int64  \n",
            " 3   CHARSET                    1781 non-null   object \n",
            " 4   SERVER                     1780 non-null   object \n",
            " 5   CONTENT_LENGTH             969 non-null    float64\n",
            " 6   WHOIS_COUNTRY              1781 non-null   object \n",
            " 7   WHOIS_STATEPRO             1781 non-null   object \n",
            " 8   WHOIS_REGDATE              1781 non-null   object \n",
            " 9   WHOIS_UPDATED_DATE         1781 non-null   object \n",
            " 10  TCP_CONVERSATION_EXCHANGE  1781 non-null   int64  \n",
            " 11  DIST_REMOTE_TCP_PORT       1781 non-null   int64  \n",
            " 12  REMOTE_IPS                 1781 non-null   int64  \n",
            " 13  APP_BYTES                  1781 non-null   int64  \n",
            " 14  SOURCE_APP_PACKETS         1781 non-null   int64  \n",
            " 15  REMOTE_APP_PACKETS         1781 non-null   int64  \n",
            " 16  SOURCE_APP_BYTES           1781 non-null   int64  \n",
            " 17  REMOTE_APP_BYTES           1781 non-null   int64  \n",
            " 18  APP_PACKETS                1781 non-null   int64  \n",
            " 19  DNS_QUERY_TIMES            1780 non-null   float64\n",
            " 20  Type                       1781 non-null   int64  \n",
            "dtypes: float64(2), int64(12), object(7)\n",
            "memory usage: 292.3+ KB\n"
          ]
        }
      ]
    },
    {
      "cell_type": "code",
      "source": [
        "sns.heatmap(df.isnull(),yticklabels=False,cbar=False,cmap='viridis')"
      ],
      "metadata": {
        "colab": {
          "base_uri": "https://localhost:8080/",
          "height": 659
        },
        "id": "4CIwTZXMMidn",
        "outputId": "589e382a-8361-4a6e-969f-02c9e55a9d6d"
      },
      "execution_count": null,
      "outputs": [
        {
          "output_type": "execute_result",
          "data": {
            "text/plain": [
              "<Axes: >"
            ]
          },
          "metadata": {},
          "execution_count": 5
        },
        {
          "output_type": "display_data",
          "data": {
            "text/plain": [
              "<Figure size 640x480 with 1 Axes>"
            ],
            "image/png": "[encoded data removed]"
          },
          "metadata": {}
        }
      ]
    },
    {
      "cell_type": "code",
      "source": [
        "df['CONTENT_LENGTH'] = df['CONTENT_LENGTH'].fillna(df['CONTENT_LENGTH'].median())"
      ],
      "metadata": {
        "id": "p0LB1dP0OE8M"
      },
      "execution_count": null,
      "outputs": []
    },
    {
      "cell_type": "code",
      "source": [
        "df.dropna(inplace=True)"
      ],
      "metadata": {
        "id": "2uHe26U9OVs_"
      },
      "execution_count": null,
      "outputs": []
    },
    {
      "cell_type": "code",
      "source": [
        "for i in df.columns:\n",
        "  print(i)\n",
        "  print(df[i].nunique())"
      ],
      "metadata": {
        "colab": {
          "base_uri": "https://localhost:8080/"
        },
        "id": "LmsP_X_FRnX6",
        "outputId": "5baa74f5-437f-4082-c22f-4ec0991c9849"
      },
      "execution_count": null,
      "outputs": [
        {
          "output_type": "stream",
          "name": "stdout",
          "text": [
            "URL\n",
            "1779\n",
            "URL_LENGTH\n",
            "142\n",
            "NUMBER_SPECIAL_CHARACTERS\n",
            "31\n",
            "CHARSET\n",
            "9\n",
            "SERVER\n",
            "239\n",
            "CONTENT_LENGTH\n",
            "635\n",
            "WHOIS_COUNTRY\n",
            "49\n",
            "WHOIS_STATEPRO\n",
            "181\n",
            "WHOIS_REGDATE\n",
            "889\n",
            "WHOIS_UPDATED_DATE\n",
            "593\n",
            "TCP_CONVERSATION_EXCHANGE\n",
            "103\n",
            "DIST_REMOTE_TCP_PORT\n",
            "66\n",
            "REMOTE_IPS\n",
            "18\n",
            "APP_BYTES\n",
            "825\n",
            "SOURCE_APP_PACKETS\n",
            "113\n",
            "REMOTE_APP_PACKETS\n",
            "116\n",
            "SOURCE_APP_BYTES\n",
            "885\n",
            "REMOTE_APP_BYTES\n",
            "822\n",
            "APP_PACKETS\n",
            "113\n",
            "DNS_QUERY_TIMES\n",
            "10\n",
            "Type\n",
            "2\n"
          ]
        }
      ]
    },
    {
      "cell_type": "code",
      "source": [
        "df['CHARSET'].value_counts()"
      ],
      "metadata": {
        "colab": {
          "base_uri": "https://localhost:8080/"
        },
        "id": "c8wF8CmfVTzH",
        "outputId": "00ed08c7-6726-4852-866d-cd8017b4ab5f"
      },
      "execution_count": null,
      "outputs": [
        {
          "output_type": "execute_result",
          "data": {
            "text/plain": [
              "UTF-8           674\n",
              "ISO-8859-1      427\n",
              "utf-8           379\n",
              "us-ascii        155\n",
              "iso-8859-1      134\n",
              "None              7\n",
              "windows-1251      1\n",
              "ISO-8859          1\n",
              "windows-1252      1\n",
              "Name: CHARSET, dtype: int64"
            ]
          },
          "metadata": {},
          "execution_count": 9
        }
      ]
    },
    {
      "cell_type": "code",
      "source": [
        "countries = df['CHARSET'].value_counts().head(5)\n",
        "df['CHARSET'] = df['CHARSET'].apply(lambda x: x if x in countries else 'Other')"
      ],
      "metadata": {
        "id": "MJQU26orRWHy"
      },
      "execution_count": null,
      "outputs": []
    },
    {
      "cell_type": "code",
      "source": [
        "df['WHOIS_STATEPRO'].value_counts().head(5)"
      ],
      "metadata": {
        "colab": {
          "base_uri": "https://localhost:8080/"
        },
        "id": "QSUrxw9SK8UM",
        "outputId": "ecac1892-9e1e-4091-d1ec-67c02540e322"
      },
      "execution_count": null,
      "outputs": [
        {
          "output_type": "execute_result",
          "data": {
            "text/plain": [
              "CA           372\n",
              "None         362\n",
              "NY            75\n",
              "WA            65\n",
              "Barcelona     62\n",
              "Name: WHOIS_STATEPRO, dtype: int64"
            ]
          },
          "metadata": {},
          "execution_count": 11
        }
      ]
    },
    {
      "cell_type": "code",
      "source": [
        "countries = df['WHOIS_STATEPRO'].value_counts().head(5)\n",
        "df['WHOIS_STATEPRO'] = df['WHOIS_STATEPRO'].apply(lambda x: x if x in countries else 'Other')"
      ],
      "metadata": {
        "id": "Zgw-IPTSRhXi"
      },
      "execution_count": null,
      "outputs": []
    },
    {
      "cell_type": "code",
      "source": [
        "df['WHOIS_COUNTRY'].value_counts().head(5)"
      ],
      "metadata": {
        "colab": {
          "base_uri": "https://localhost:8080/"
        },
        "id": "9iuBhAlIKE8f",
        "outputId": "eee5a393-9699-406b-efe6-81ad27dd7b93"
      },
      "execution_count": null,
      "outputs": [
        {
          "output_type": "execute_result",
          "data": {
            "text/plain": [
              "US      1102\n",
              "None     306\n",
              "CA        83\n",
              "ES        63\n",
              "AU        35\n",
              "Name: WHOIS_COUNTRY, dtype: int64"
            ]
          },
          "metadata": {},
          "execution_count": 13
        }
      ]
    },
    {
      "cell_type": "code",
      "source": [
        "df[(df['WHOIS_COUNTRY'] == \"[u'GB'; u'UK']\") |  (df['WHOIS_COUNTRY'] == 'UK') | (df['WHOIS_COUNTRY'] == 'United Kingdom')]['WHOIS_COUNTRY'] = 'GB'"
      ],
      "metadata": {
        "colab": {
          "base_uri": "https://localhost:8080/"
        },
        "id": "DeOMGkjwPJAW",
        "outputId": "c65b459a-ebf2-4eec-dd83-24e6677eea88"
      },
      "execution_count": null,
      "outputs": [
        {
          "output_type": "stream",
          "name": "stderr",
          "text": [
            "<ipython-input-14-aa2a9879b9ed>:1: SettingWithCopyWarning: \n",
            "A value is trying to be set on a copy of a slice from a DataFrame.\n",
            "Try using .loc[row_indexer,col_indexer] = value instead\n",
            "\n",
            "See the caveats in the documentation: https://pandas.pydata.org/pandas-docs/stable/user_guide/indexing.html#returning-a-view-versus-a-copy\n",
            "  df[(df['WHOIS_COUNTRY'] == \"[u'GB'; u'UK']\") |  (df['WHOIS_COUNTRY'] == 'UK') | (df['WHOIS_COUNTRY'] == 'United Kingdom')]['WHOIS_COUNTRY'] = 'GB'\n"
          ]
        }
      ]
    },
    {
      "cell_type": "code",
      "source": [
        "countries = df['WHOIS_COUNTRY'].value_counts().head(5)\n",
        "df['WHOIS_COUNTRY'] = df['WHOIS_COUNTRY'].apply(lambda x: x if x in countries else 'Other')"
      ],
      "metadata": {
        "id": "12L69f4wPysT"
      },
      "execution_count": null,
      "outputs": []
    },
    {
      "cell_type": "code",
      "source": [
        "df['WHOIS_COUNTRY'].value_counts()"
      ],
      "metadata": {
        "colab": {
          "base_uri": "https://localhost:8080/"
        },
        "id": "4aKSIpAJLUdt",
        "outputId": "567fad19-b387-44b0-b023-fa81652c23ea"
      },
      "execution_count": null,
      "outputs": [
        {
          "output_type": "execute_result",
          "data": {
            "text/plain": [
              "US       1102\n",
              "None      306\n",
              "Other     190\n",
              "CA         83\n",
              "ES         63\n",
              "AU         35\n",
              "Name: WHOIS_COUNTRY, dtype: int64"
            ]
          },
          "metadata": {},
          "execution_count": 16
        }
      ]
    },
    {
      "cell_type": "code",
      "source": [
        "df.columns"
      ],
      "metadata": {
        "colab": {
          "base_uri": "https://localhost:8080/"
        },
        "id": "bFUyfd8gR-Fz",
        "outputId": "febd1914-4716-477f-c489-9aa438895f84"
      },
      "execution_count": null,
      "outputs": [
        {
          "output_type": "execute_result",
          "data": {
            "text/plain": [
              "Index(['URL', 'URL_LENGTH', 'NUMBER_SPECIAL_CHARACTERS', 'CHARSET', 'SERVER',\n",
              "       'CONTENT_LENGTH', 'WHOIS_COUNTRY', 'WHOIS_STATEPRO', 'WHOIS_REGDATE',\n",
              "       'WHOIS_UPDATED_DATE', 'TCP_CONVERSATION_EXCHANGE',\n",
              "       'DIST_REMOTE_TCP_PORT', 'REMOTE_IPS', 'APP_BYTES', 'SOURCE_APP_PACKETS',\n",
              "       'REMOTE_APP_PACKETS', 'SOURCE_APP_BYTES', 'REMOTE_APP_BYTES',\n",
              "       'APP_PACKETS', 'DNS_QUERY_TIMES', 'Type'],\n",
              "      dtype='object')"
            ]
          },
          "metadata": {},
          "execution_count": 17
        }
      ]
    },
    {
      "cell_type": "code",
      "source": [
        "df.loc[df['SERVER'].apply(lambda x: \"apache\" in str(x).lower()),'SERVER'] = 'Apache'\n",
        "df.loc[df['SERVER'].apply(lambda x: \"nginx\" in str(x).lower()),'SERVER'] = 'nginx'\n",
        "df.loc[df['SERVER'].apply(lambda x: \"microsoft\" in str(x).lower()),'SERVER'] = 'Microsoft'"
      ],
      "metadata": {
        "id": "ywESwlOXRmej"
      },
      "execution_count": null,
      "outputs": []
    },
    {
      "cell_type": "code",
      "source": [
        "countries = df['SERVER'].value_counts().head(5)\n",
        "df['SERVER'] = df['SERVER'].apply(lambda x: x if x in countries else 'Other')"
      ],
      "metadata": {
        "id": "r7IQDwEwS_ub"
      },
      "execution_count": null,
      "outputs": []
    },
    {
      "cell_type": "code",
      "source": [
        "df['SERVER'].value_counts()"
      ],
      "metadata": {
        "colab": {
          "base_uri": "https://localhost:8080/"
        },
        "id": "48slBgVeTWkr",
        "outputId": "ba6303e4-ba09-442b-ec0e-a23cab052e4f"
      },
      "execution_count": null,
      "outputs": [
        {
          "output_type": "execute_result",
          "data": {
            "text/plain": [
              "Apache       642\n",
              "nginx        436\n",
              "Other        279\n",
              "Microsoft    198\n",
              "None         175\n",
              "GSE           49\n",
              "Name: SERVER, dtype: int64"
            ]
          },
          "metadata": {},
          "execution_count": 20
        }
      ]
    },
    {
      "cell_type": "code",
      "source": [
        "df = df.drop('URL', axis=1)"
      ],
      "metadata": {
        "id": "sDm_W7nvT0hq"
      },
      "execution_count": null,
      "outputs": []
    },
    {
      "cell_type": "code",
      "source": [
        "df = df.drop('WHOIS_REGDATE', axis=1)"
      ],
      "metadata": {
        "id": "yBf3jGIJV8nM"
      },
      "execution_count": null,
      "outputs": []
    },
    {
      "cell_type": "code",
      "source": [
        "df = df.drop('WHOIS_UPDATED_DATE', axis=1)"
      ],
      "metadata": {
        "id": "ze2lV6U_WA9r"
      },
      "execution_count": null,
      "outputs": []
    },
    {
      "cell_type": "code",
      "source": [
        "df.loc[df['CHARSET'].apply(lambda x: \"utf\" in str(x).lower()), 'CHARSET'] = 'UTF'\n",
        "df.loc[df['CHARSET'].apply(lambda x: \"iso\" in str(x).lower()), 'CHARSET'] = 'ISO'\n",
        "df.loc[df['CHARSET'].apply(lambda x: \"windows\" in str(x).lower()), 'CHARSET'] = 'Windows'"
      ],
      "metadata": {
        "id": "1m7rwLtMUARD"
      },
      "execution_count": null,
      "outputs": []
    },
    {
      "cell_type": "code",
      "source": [
        "df.head()"
      ],
      "metadata": {
        "colab": {
          "base_uri": "https://localhost:8080/",
          "height": 226
        },
        "id": "Xr9oGcHzVJ41",
        "outputId": "90855d3a-a6b0-4f3d-de14-8b93536ffe6c"
      },
      "execution_count": null,
      "outputs": [
        {
          "output_type": "execute_result",
          "data": {
            "text/plain": [
              "   URL_LENGTH  NUMBER_SPECIAL_CHARACTERS   CHARSET     SERVER  CONTENT_LENGTH  \\\n",
              "0          16                          7       ISO      nginx           263.0   \n",
              "1          16                          6       UTF     Apache         15087.0   \n",
              "2          16                          6  us-ascii  Microsoft           324.0   \n",
              "3          17                          6       ISO      nginx           162.0   \n",
              "4          17                          6       UTF       None        124140.0   \n",
              "\n",
              "  WHOIS_COUNTRY WHOIS_STATEPRO  TCP_CONVERSATION_EXCHANGE  \\\n",
              "0          None           None                          7   \n",
              "1          None           None                         17   \n",
              "2          None           None                          0   \n",
              "3            US          Other                         31   \n",
              "4            US          Other                         57   \n",
              "\n",
              "   DIST_REMOTE_TCP_PORT  REMOTE_IPS  APP_BYTES  SOURCE_APP_PACKETS  \\\n",
              "0                     0           2        700                   9   \n",
              "1                     7           4       1230                  17   \n",
              "2                     0           0          0                   0   \n",
              "3                    22           3       3812                  39   \n",
              "4                     2           5       4278                  61   \n",
              "\n",
              "   REMOTE_APP_PACKETS  SOURCE_APP_BYTES  REMOTE_APP_BYTES  APP_PACKETS  \\\n",
              "0                  10              1153               832            9   \n",
              "1                  19              1265              1230           17   \n",
              "2                   0                 0                 0            0   \n",
              "3                  37             18784              4380           39   \n",
              "4                  62            129889              4586           61   \n",
              "\n",
              "   DNS_QUERY_TIMES  Type  \n",
              "0              2.0     1  \n",
              "1              0.0     0  \n",
              "2              0.0     0  \n",
              "3              8.0     0  \n",
              "4              4.0     0  "
            ],
            "text/html": [
              "\n",
              "  <div id=\"df-f6675eeb-6ddd-48e7-aec5-7961b513ac4b\" class=\"colab-df-container\">\n",
              "    <div>\n",
              "<style scoped>\n",
              "    .dataframe tbody tr th:only-of-type {\n",
              "        vertical-align: middle;\n",
              "    }\n",
              "\n",
              "    .dataframe tbody tr th {\n",
              "        vertical-align: top;\n",
              "    }\n",
              "\n",
              "    .dataframe thead th {\n",
              "        text-align: right;\n",
              "    }\n",
              "</style>\n",
              "<table border=\"1\" class=\"dataframe\">\n",
              "  <thead>\n",
              "    <tr style=\"text-align: right;\">\n",
              "      <th></th>\n",
              "      <th>URL_LENGTH</th>\n",
              "      <th>NUMBER_SPECIAL_CHARACTERS</th>\n",
              "      <th>CHARSET</th>\n",
              "      <th>SERVER</th>\n",
              "      <th>CONTENT_LENGTH</th>\n",
              "      <th>WHOIS_COUNTRY</th>\n",
              "      <th>WHOIS_STATEPRO</th>\n",
              "      <th>TCP_CONVERSATION_EXCHANGE</th>\n",
              "      <th>DIST_REMOTE_TCP_PORT</th>\n",
              "      <th>REMOTE_IPS</th>\n",
              "      <th>APP_BYTES</th>\n",
              "      <th>SOURCE_APP_PACKETS</th>\n",
              "      <th>REMOTE_APP_PACKETS</th>\n",
              "      <th>SOURCE_APP_BYTES</th>\n",
              "      <th>REMOTE_APP_BYTES</th>\n",
              "      <th>APP_PACKETS</th>\n",
              "      <th>DNS_QUERY_TIMES</th>\n",
              "      <th>Type</th>\n",
              "    </tr>\n",
              "  </thead>\n",
              "  <tbody>\n",
              "    <tr>\n",
              "      <th>0</th>\n",
              "      <td>16</td>\n",
              "      <td>7</td>\n",
              "      <td>ISO</td>\n",
              "      <td>nginx</td>\n",
              "      <td>263.0</td>\n",
              "      <td>None</td>\n",
              "      <td>None</td>\n",
              "      <td>7</td>\n",
              "      <td>0</td>\n",
              "      <td>2</td>\n",
              "      <td>700</td>\n",
              "      <td>9</td>\n",
              "      <td>10</td>\n",
              "      <td>1153</td>\n",
              "      <td>832</td>\n",
              "      <td>9</td>\n",
              "      <td>2.0</td>\n",
              "      <td>1</td>\n",
              "    </tr>\n",
              "    <tr>\n",
              "      <th>1</th>\n",
              "      <td>16</td>\n",
              "      <td>6</td>\n",
              "      <td>UTF</td>\n",
              "      <td>Apache</td>\n",
              "      <td>15087.0</td>\n",
              "      <td>None</td>\n",
              "      <td>None</td>\n",
              "      <td>17</td>\n",
              "      <td>7</td>\n",
              "      <td>4</td>\n",
              "      <td>1230</td>\n",
              "      <td>17</td>\n",
              "      <td>19</td>\n",
              "      <td>1265</td>\n",
              "      <td>1230</td>\n",
              "      <td>17</td>\n",
              "      <td>0.0</td>\n",
              "      <td>0</td>\n",
              "    </tr>\n",
              "    <tr>\n",
              "      <th>2</th>\n",
              "      <td>16</td>\n",
              "      <td>6</td>\n",
              "      <td>us-ascii</td>\n",
              "      <td>Microsoft</td>\n",
              "      <td>324.0</td>\n",
              "      <td>None</td>\n",
              "      <td>None</td>\n",
              "      <td>0</td>\n",
              "      <td>0</td>\n",
              "      <td>0</td>\n",
              "      <td>0</td>\n",
              "      <td>0</td>\n",
              "      <td>0</td>\n",
              "      <td>0</td>\n",
              "      <td>0</td>\n",
              "      <td>0</td>\n",
              "      <td>0.0</td>\n",
              "      <td>0</td>\n",
              "    </tr>\n",
              "    <tr>\n",
              "      <th>3</th>\n",
              "      <td>17</td>\n",
              "      <td>6</td>\n",
              "      <td>ISO</td>\n",
              "      <td>nginx</td>\n",
              "      <td>162.0</td>\n",
              "      <td>US</td>\n",
              "      <td>Other</td>\n",
              "      <td>31</td>\n",
              "      <td>22</td>\n",
              "      <td>3</td>\n",
              "      <td>3812</td>\n",
              "      <td>39</td>\n",
              "      <td>37</td>\n",
              "      <td>18784</td>\n",
              "      <td>4380</td>\n",
              "      <td>39</td>\n",
              "      <td>8.0</td>\n",
              "      <td>0</td>\n",
              "    </tr>\n",
              "    <tr>\n",
              "      <th>4</th>\n",
              "      <td>17</td>\n",
              "      <td>6</td>\n",
              "      <td>UTF</td>\n",
              "      <td>None</td>\n",
              "      <td>124140.0</td>\n",
              "      <td>US</td>\n",
              "      <td>Other</td>\n",
              "      <td>57</td>\n",
              "      <td>2</td>\n",
              "      <td>5</td>\n",
              "      <td>4278</td>\n",
              "      <td>61</td>\n",
              "      <td>62</td>\n",
              "      <td>129889</td>\n",
              "      <td>4586</td>\n",
              "      <td>61</td>\n",
              "      <td>4.0</td>\n",
              "      <td>0</td>\n",
              "    </tr>\n",
              "  </tbody>\n",
              "</table>\n",
              "</div>\n",
              "    <div class=\"colab-df-buttons\">\n",
              "\n",
              "  <div class=\"colab-df-container\">\n",
              "    <button class=\"colab-df-convert\" onclick=\"convertToInteractive('df-f6675eeb-6ddd-48e7-aec5-7961b513ac4b')\"\n",
              "            title=\"Convert this dataframe to an interactive table.\"\n",
              "            style=\"display:none;\">\n",
              "\n",
              "  <svg xmlns=\"http://www.w3.org/2000/svg\" height=\"24px\" viewBox=\"0 -960 960 960\">\n",
              "    <path d=\"M120-120v-720h720v720H120Zm60-500h600v-160H180v160Zm220 220h160v-160H400v160Zm0 220h160v-160H400v160ZM180-400h160v-160H180v160Zm440 0h160v-160H620v160ZM180-180h160v-160H180v160Zm440 0h160v-160H620v160Z\"/>\n",
              "  </svg>\n",
              "    </button>\n",
              "\n",
              "  <style>\n",
              "    .colab-df-container {\n",
              "      display:flex;\n",
              "      gap: 12px;\n",
              "    }\n",
              "\n",
              "    .colab-df-convert {\n",
              "      background-color: #E8F0FE;\n",
              "      border: none;\n",
              "      border-radius: 50%;\n",
              "      cursor: pointer;\n",
              "      display: none;\n",
              "      fill: #1967D2;\n",
              "      height: 32px;\n",
              "      padding: 0 0 0 0;\n",
              "      width: 32px;\n",
              "    }\n",
              "\n",
              "    .colab-df-convert:hover {\n",
              "      background-color: #E2EBFA;\n",
              "      box-shadow: 0px 1px 2px rgba(60, 64, 67, 0.3), 0px 1px 3px 1px rgba(60, 64, 67, 0.15);\n",
              "      fill: #174EA6;\n",
              "    }\n",
              "\n",
              "    .colab-df-buttons div {\n",
              "      margin-bottom: 4px;\n",
              "    }\n",
              "\n",
              "    [theme=dark] .colab-df-convert {\n",
              "      background-color: #3B4455;\n",
              "      fill: #D2E3FC;\n",
              "    }\n",
              "\n",
              "    [theme=dark] .colab-df-convert:hover {\n",
              "      background-color: #434B5C;\n",
              "      box-shadow: 0px 1px 3px 1px rgba(0, 0, 0, 0.15);\n",
              "      filter: drop-shadow(0px 1px 2px rgba(0, 0, 0, 0.3));\n",
              "      fill: #FFFFFF;\n",
              "    }\n",
              "  </style>\n",
              "\n",
              "    <script>\n",
              "      const buttonEl =\n",
              "        document.querySelector('#df-f6675eeb-6ddd-48e7-aec5-7961b513ac4b button.colab-df-convert');\n",
              "      buttonEl.style.display =\n",
              "        google.colab.kernel.accessAllowed ? 'block' : 'none';\n",
              "\n",
              "      async function convertToInteractive(key) {\n",
              "        const element = document.querySelector('#df-f6675eeb-6ddd-48e7-aec5-7961b513ac4b');\n",
              "        const dataTable =\n",
              "          await google.colab.kernel.invokeFunction('convertToInteractive',\n",
              "                                                    [key], {});\n",
              "        if (!dataTable) return;\n",
              "\n",
              "        const docLinkHtml = 'Like what you see? Visit the ' +\n",
              "          '<a target=\"_blank\" href=https://colab.research.google.com/notebooks/data_table.ipynb>data table notebook</a>'\n",
              "          + ' to learn more about interactive tables.';\n",
              "        element.innerHTML = '';\n",
              "        dataTable['output_type'] = 'display_data';\n",
              "        await google.colab.output.renderOutput(dataTable, element);\n",
              "        const docLink = document.createElement('div');\n",
              "        docLink.innerHTML = docLinkHtml;\n",
              "        element.appendChild(docLink);\n",
              "      }\n",
              "    </script>\n",
              "  </div>\n",
              "\n",
              "\n",
              "<div id=\"df-6bd4f4dd-3309-4cc6-b7b8-898cdd471e02\">\n",
              "  <button class=\"colab-df-quickchart\" onclick=\"quickchart('df-6bd4f4dd-3309-4cc6-b7b8-898cdd471e02')\"\n",
              "            title=\"Suggest charts.\"\n",
              "            style=\"display:none;\">\n",
              "\n",
              "<svg xmlns=\"http://www.w3.org/2000/svg\" height=\"24px\"viewBox=\"0 0 24 24\"\n",
              "     width=\"24px\">\n",
              "    <g>\n",
              "        <path d=\"M19 3H5c-1.1 0-2 .9-2 2v14c0 1.1.9 2 2 2h14c1.1 0 2-.9 2-2V5c0-1.1-.9-2-2-2zM9 17H7v-7h2v7zm4 0h-2V7h2v10zm4 0h-2v-4h2v4z\"/>\n",
              "    </g>\n",
              "</svg>\n",
              "  </button>\n",
              "\n",
              "<style>\n",
              "  .colab-df-quickchart {\n",
              "      --bg-color: #E8F0FE;\n",
              "      --fill-color: #1967D2;\n",
              "      --hover-bg-color: #E2EBFA;\n",
              "      --hover-fill-color: #174EA6;\n",
              "      --disabled-fill-color: #AAA;\n",
              "      --disabled-bg-color: #DDD;\n",
              "  }\n",
              "\n",
              "  [theme=dark] .colab-df-quickchart {\n",
              "      --bg-color: #3B4455;\n",
              "      --fill-color: #D2E3FC;\n",
              "      --hover-bg-color: #434B5C;\n",
              "      --hover-fill-color: #FFFFFF;\n",
              "      --disabled-bg-color: #3B4455;\n",
              "      --disabled-fill-color: #666;\n",
              "  }\n",
              "\n",
              "  .colab-df-quickchart {\n",
              "    background-color: var(--bg-color);\n",
              "    border: none;\n",
              "    border-radius: 50%;\n",
              "    cursor: pointer;\n",
              "    display: none;\n",
              "    fill: var(--fill-color);\n",
              "    height: 32px;\n",
              "    padding: 0;\n",
              "    width: 32px;\n",
              "  }\n",
              "\n",
              "  .colab-df-quickchart:hover {\n",
              "    background-color: var(--hover-bg-color);\n",
              "    box-shadow: 0 1px 2px rgba(60, 64, 67, 0.3), 0 1px 3px 1px rgba(60, 64, 67, 0.15);\n",
              "    fill: var(--button-hover-fill-color);\n",
              "  }\n",
              "\n",
              "  .colab-df-quickchart-complete:disabled,\n",
              "  .colab-df-quickchart-complete:disabled:hover {\n",
              "    background-color: var(--disabled-bg-color);\n",
              "    fill: var(--disabled-fill-color);\n",
              "    box-shadow: none;\n",
              "  }\n",
              "\n",
              "  .colab-df-spinner {\n",
              "    border: 2px solid var(--fill-color);\n",
              "    border-color: transparent;\n",
              "    border-bottom-color: var(--fill-color);\n",
              "    animation:\n",
              "      spin 1s steps(1) infinite;\n",
              "  }\n",
              "\n",
              "  @keyframes spin {\n",
              "    0% {\n",
              "      border-color: transparent;\n",
              "      border-bottom-color: var(--fill-color);\n",
              "      border-left-color: var(--fill-color);\n",
              "    }\n",
              "    20% {\n",
              "      border-color: transparent;\n",
              "      border-left-color: var(--fill-color);\n",
              "      border-top-color: var(--fill-color);\n",
              "    }\n",
              "    30% {\n",
              "      border-color: transparent;\n",
              "      border-left-color: var(--fill-color);\n",
              "      border-top-color: var(--fill-color);\n",
              "      border-right-color: var(--fill-color);\n",
              "    }\n",
              "    40% {\n",
              "      border-color: transparent;\n",
              "      border-right-color: var(--fill-color);\n",
              "      border-top-color: var(--fill-color);\n",
              "    }\n",
              "    60% {\n",
              "      border-color: transparent;\n",
              "      border-right-color: var(--fill-color);\n",
              "    }\n",
              "    80% {\n",
              "      border-color: transparent;\n",
              "      border-right-color: var(--fill-color);\n",
              "      border-bottom-color: var(--fill-color);\n",
              "    }\n",
              "    90% {\n",
              "      border-color: transparent;\n",
              "      border-bottom-color: var(--fill-color);\n",
              "    }\n",
              "  }\n",
              "</style>\n",
              "\n",
              "  <script>\n",
              "    async function quickchart(key) {\n",
              "      const quickchartButtonEl =\n",
              "        document.querySelector('#' + key + ' button');\n",
              "      quickchartButtonEl.disabled = true;  // To prevent multiple clicks.\n",
              "      quickchartButtonEl.classList.add('colab-df-spinner');\n",
              "      try {\n",
              "        const charts = await google.colab.kernel.invokeFunction(\n",
              "            'suggestCharts', [key], {});\n",
              "      } catch (error) {\n",
              "        console.error('Error during call to suggestCharts:', error);\n",
              "      }\n",
              "      quickchartButtonEl.classList.remove('colab-df-spinner');\n",
              "      quickchartButtonEl.classList.add('colab-df-quickchart-complete');\n",
              "    }\n",
              "    (() => {\n",
              "      let quickchartButtonEl =\n",
              "        document.querySelector('#df-6bd4f4dd-3309-4cc6-b7b8-898cdd471e02 button');\n",
              "      quickchartButtonEl.style.display =\n",
              "        google.colab.kernel.accessAllowed ? 'block' : 'none';\n",
              "    })();\n",
              "  </script>\n",
              "</div>\n",
              "    </div>\n",
              "  </div>\n"
            ]
          },
          "metadata": {},
          "execution_count": 25
        }
      ]
    },
    {
      "cell_type": "code",
      "source": [
        "data = pd.get_dummies(data = df, columns = ['CHARSET','SERVER','WHOIS_COUNTRY','WHOIS_STATEPRO'], drop_first= True)"
      ],
      "metadata": {
        "id": "b9R1FURmWQRD"
      },
      "execution_count": null,
      "outputs": []
    },
    {
      "cell_type": "code",
      "source": [
        "data.info()"
      ],
      "metadata": {
        "colab": {
          "base_uri": "https://localhost:8080/"
        },
        "id": "jhaKdW_TWyci",
        "outputId": "bff6a4dc-2623-4f71-ab19-f049cedc0661"
      },
      "execution_count": null,
      "outputs": [
        {
          "output_type": "stream",
          "name": "stdout",
          "text": [
            "<class 'pandas.core.frame.DataFrame'>\n",
            "Int64Index: 1779 entries, 0 to 1780\n",
            "Data columns (total 32 columns):\n",
            " #   Column                     Non-Null Count  Dtype  \n",
            "---  ------                     --------------  -----  \n",
            " 0   URL_LENGTH                 1779 non-null   int64  \n",
            " 1   NUMBER_SPECIAL_CHARACTERS  1779 non-null   int64  \n",
            " 2   CONTENT_LENGTH             1779 non-null   float64\n",
            " 3   TCP_CONVERSATION_EXCHANGE  1779 non-null   int64  \n",
            " 4   DIST_REMOTE_TCP_PORT       1779 non-null   int64  \n",
            " 5   REMOTE_IPS                 1779 non-null   int64  \n",
            " 6   APP_BYTES                  1779 non-null   int64  \n",
            " 7   SOURCE_APP_PACKETS         1779 non-null   int64  \n",
            " 8   REMOTE_APP_PACKETS         1779 non-null   int64  \n",
            " 9   SOURCE_APP_BYTES           1779 non-null   int64  \n",
            " 10  REMOTE_APP_BYTES           1779 non-null   int64  \n",
            " 11  APP_PACKETS                1779 non-null   int64  \n",
            " 12  DNS_QUERY_TIMES            1779 non-null   float64\n",
            " 13  Type                       1779 non-null   int64  \n",
            " 14  CHARSET_Other              1779 non-null   uint8  \n",
            " 15  CHARSET_UTF                1779 non-null   uint8  \n",
            " 16  CHARSET_us-ascii           1779 non-null   uint8  \n",
            " 17  SERVER_GSE                 1779 non-null   uint8  \n",
            " 18  SERVER_Microsoft           1779 non-null   uint8  \n",
            " 19  SERVER_None                1779 non-null   uint8  \n",
            " 20  SERVER_Other               1779 non-null   uint8  \n",
            " 21  SERVER_nginx               1779 non-null   uint8  \n",
            " 22  WHOIS_COUNTRY_CA           1779 non-null   uint8  \n",
            " 23  WHOIS_COUNTRY_ES           1779 non-null   uint8  \n",
            " 24  WHOIS_COUNTRY_None         1779 non-null   uint8  \n",
            " 25  WHOIS_COUNTRY_Other        1779 non-null   uint8  \n",
            " 26  WHOIS_COUNTRY_US           1779 non-null   uint8  \n",
            " 27  WHOIS_STATEPRO_CA          1779 non-null   uint8  \n",
            " 28  WHOIS_STATEPRO_NY          1779 non-null   uint8  \n",
            " 29  WHOIS_STATEPRO_None        1779 non-null   uint8  \n",
            " 30  WHOIS_STATEPRO_Other       1779 non-null   uint8  \n",
            " 31  WHOIS_STATEPRO_WA          1779 non-null   uint8  \n",
            "dtypes: float64(2), int64(12), uint8(18)\n",
            "memory usage: 239.7 KB\n"
          ]
        }
      ]
    },
    {
      "cell_type": "markdown",
      "source": [
        "**Visualization**"
      ],
      "metadata": {
        "id": "vCspaOtVXu-Y"
      }
    },
    {
      "cell_type": "code",
      "source": [
        "df.info()"
      ],
      "metadata": {
        "colab": {
          "base_uri": "https://localhost:8080/"
        },
        "id": "Tup6_6uUXsgE",
        "outputId": "3937ab39-8bd6-4600-9996-ea7863b503a0"
      },
      "execution_count": null,
      "outputs": [
        {
          "output_type": "stream",
          "name": "stdout",
          "text": [
            "<class 'pandas.core.frame.DataFrame'>\n",
            "Int64Index: 1779 entries, 0 to 1780\n",
            "Data columns (total 18 columns):\n",
            " #   Column                     Non-Null Count  Dtype  \n",
            "---  ------                     --------------  -----  \n",
            " 0   URL_LENGTH                 1779 non-null   int64  \n",
            " 1   NUMBER_SPECIAL_CHARACTERS  1779 non-null   int64  \n",
            " 2   CHARSET                    1779 non-null   object \n",
            " 3   SERVER                     1779 non-null   object \n",
            " 4   CONTENT_LENGTH             1779 non-null   float64\n",
            " 5   WHOIS_COUNTRY              1779 non-null   object \n",
            " 6   WHOIS_STATEPRO             1779 non-null   object \n",
            " 7   TCP_CONVERSATION_EXCHANGE  1779 non-null   int64  \n",
            " 8   DIST_REMOTE_TCP_PORT       1779 non-null   int64  \n",
            " 9   REMOTE_IPS                 1779 non-null   int64  \n",
            " 10  APP_BYTES                  1779 non-null   int64  \n",
            " 11  SOURCE_APP_PACKETS         1779 non-null   int64  \n",
            " 12  REMOTE_APP_PACKETS         1779 non-null   int64  \n",
            " 13  SOURCE_APP_BYTES           1779 non-null   int64  \n",
            " 14  REMOTE_APP_BYTES           1779 non-null   int64  \n",
            " 15  APP_PACKETS                1779 non-null   int64  \n",
            " 16  DNS_QUERY_TIMES            1779 non-null   float64\n",
            " 17  Type                       1779 non-null   int64  \n",
            "dtypes: float64(2), int64(12), object(4)\n",
            "memory usage: 264.1+ KB\n"
          ]
        }
      ]
    },
    {
      "cell_type": "code",
      "source": [
        "sns.countplot(data = df, x = 'Type')"
      ],
      "metadata": {
        "colab": {
          "base_uri": "https://localhost:8080/",
          "height": 466
        },
        "id": "WTmOu2kIact_",
        "outputId": "4c86edfc-dfbc-4d32-df61-205218a5c628"
      },
      "execution_count": null,
      "outputs": [
        {
          "output_type": "execute_result",
          "data": {
            "text/plain": [
              "<Axes: xlabel='Type', ylabel='count'>"
            ]
          },
          "metadata": {},
          "execution_count": 29
        },
        {
          "output_type": "display_data",
          "data": {
            "text/plain": [
              "<Figure size 640x480 with 1 Axes>"
            ],
            "image/png": "[encoded data removed]"
          },
          "metadata": {}
        }
      ]
    },
    {
      "cell_type": "code",
      "source": [
        "sns.countplot(data = df, x = 'WHOIS_COUNTRY', hue = 'Type')"
      ],
      "metadata": {
        "colab": {
          "base_uri": "https://localhost:8080/",
          "height": 466
        },
        "id": "Jlrkry5IZLiv",
        "outputId": "eb18f5c8-a47b-4733-f0e2-e51951248f02"
      },
      "execution_count": null,
      "outputs": [
        {
          "output_type": "execute_result",
          "data": {
            "text/plain": [
              "<Axes: xlabel='WHOIS_COUNTRY', ylabel='count'>"
            ]
          },
          "metadata": {},
          "execution_count": 30
        },
        {
          "output_type": "display_data",
          "data": {
            "text/plain": [
              "<Figure size 640x480 with 1 Axes>"
            ],
            "image/png": "[encoded data removed]"
          },
          "metadata": {}
        }
      ]
    },
    {
      "cell_type": "code",
      "source": [
        "sns.countplot(data = df, x = 'SERVER', hue = 'Type')"
      ],
      "metadata": {
        "colab": {
          "base_uri": "https://localhost:8080/",
          "height": 466
        },
        "id": "lsQVYb9qZw5z",
        "outputId": "20a91430-fa02-4777-bfc5-5321a2029c05"
      },
      "execution_count": null,
      "outputs": [
        {
          "output_type": "execute_result",
          "data": {
            "text/plain": [
              "<Axes: xlabel='SERVER', ylabel='count'>"
            ]
          },
          "metadata": {},
          "execution_count": 31
        },
        {
          "output_type": "display_data",
          "data": {
            "text/plain": [
              "<Figure size 640x480 with 1 Axes>"
            ],
            "image/png": "[encoded data removed]"
          },
          "metadata": {}
        }
      ]
    },
    {
      "cell_type": "code",
      "source": [
        "sns.countplot(data = df, x = 'CHARSET', hue = 'Type')"
      ],
      "metadata": {
        "colab": {
          "base_uri": "https://localhost:8080/",
          "height": 466
        },
        "id": "CJejxmWbaQcZ",
        "outputId": "cc376bf3-cfd5-4367-bdb7-4969c59b1813"
      },
      "execution_count": null,
      "outputs": [
        {
          "output_type": "execute_result",
          "data": {
            "text/plain": [
              "<Axes: xlabel='CHARSET', ylabel='count'>"
            ]
          },
          "metadata": {},
          "execution_count": 32
        },
        {
          "output_type": "display_data",
          "data": {
            "text/plain": [
              "<Figure size 640x480 with 1 Axes>"
            ],
            "image/png": "[encoded data removed]"
          },
          "metadata": {}
        }
      ]
    },
    {
      "cell_type": "markdown",
      "source": [
        "**Розподіл даних**\n",
        "\n",
        "Використаємо досвід попереднього датасету та розіб'ємо з коеф. ~0.4"
      ],
      "metadata": {
        "id": "SbdMHk0RbRuc"
      }
    },
    {
      "cell_type": "code",
      "source": [
        "X_train, X_test, y_train, y_test = train_test_split(data.drop('Type', axis=1), data['Type'], test_size=0.4)"
      ],
      "metadata": {
        "id": "BqGOh-D2bLVu"
      },
      "execution_count": null,
      "outputs": []
    },
    {
      "cell_type": "markdown",
      "source": [
        "**Побудуємо дерево**"
      ],
      "metadata": {
        "id": "9jQMbblqdThe"
      }
    },
    {
      "cell_type": "code",
      "source": [
        "params = {'max_depth'       : range(2, 10, 2),\n",
        "             'min_samples_split': range(5, 31,5),\n",
        "             'min_samples_leaf' : range(10, 101, 10),\n",
        "             'max_leaf_nodes'   : range(2, 31, 2),\n",
        "             'max_features'     : range(5, 33, 5)}\n",
        "\n",
        "dtree = tree.DecisionTreeClassifier()\n",
        "dtree = RandomizedSearchCV(dtree, params, scoring='f1_weighted')\n",
        "dtree.fit(X_train, y_train)\n",
        "dtree = dtree.best_estimator_"
      ],
      "metadata": {
        "id": "L0Wuf5b5c4Vh"
      },
      "execution_count": null,
      "outputs": []
    },
    {
      "cell_type": "code",
      "source": [
        "predictions = dtree.predict(X_test)\n",
        "print(classification_report(y_test,predictions))"
      ],
      "metadata": {
        "colab": {
          "base_uri": "https://localhost:8080/"
        },
        "id": "rWTvXdKHeuCy",
        "outputId": "20e6f906-daf4-498f-b4f8-6e1574de113b"
      },
      "execution_count": null,
      "outputs": [
        {
          "output_type": "stream",
          "name": "stdout",
          "text": [
            "              precision    recall  f1-score   support\n",
            "\n",
            "           0       0.96      0.94      0.95       631\n",
            "           1       0.61      0.73      0.67        81\n",
            "\n",
            "    accuracy                           0.92       712\n",
            "   macro avg       0.79      0.83      0.81       712\n",
            "weighted avg       0.92      0.92      0.92       712\n",
            "\n"
          ]
        }
      ]
    },
    {
      "cell_type": "markdown",
      "source": [
        " Можна помітити проблему з класифікацією класу \"1\", але це скоріше за все через те, що його не не вистачає в датасеті."
      ],
      "metadata": {
        "id": "mM0mYDH4l6Cr"
      }
    },
    {
      "cell_type": "code",
      "source": [
        "tree.plot_tree(dtree, filled = True)"
      ],
      "metadata": {
        "id": "1xusC8igeNnd"
      },
      "execution_count": null,
      "outputs": []
    },
    {
      "cell_type": "markdown",
      "source": [
        "![image.png](data:image/png;base64,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)"
      ],
      "metadata": {
        "id": "-HldHZdepcsK"
      }
    },
    {
      "cell_type": "code",
      "source": [
        "coeff_df = pd.DataFrame(dtree.feature_importances_ ,data.drop('Type',axis=1).columns, columns=['Coefficient'])\n",
        "coeff_df"
      ],
      "metadata": {
        "colab": {
          "base_uri": "https://localhost:8080/",
          "height": 1000
        },
        "id": "rxHbAOVsnHPj",
        "outputId": "799f860a-30b9-4720-d31c-d28fa6bdf0b9"
      },
      "execution_count": null,
      "outputs": [
        {
          "output_type": "execute_result",
          "data": {
            "text/plain": [
              "                           Coefficient\n",
              "URL_LENGTH                    0.000000\n",
              "NUMBER_SPECIAL_CHARACTERS     0.171503\n",
              "CONTENT_LENGTH                0.000000\n",
              "TCP_CONVERSATION_EXCHANGE     0.000000\n",
              "DIST_REMOTE_TCP_PORT          0.354045\n",
              "REMOTE_IPS                    0.009611\n",
              "APP_BYTES                     0.004764\n",
              "SOURCE_APP_PACKETS            0.000000\n",
              "REMOTE_APP_PACKETS            0.117077\n",
              "SOURCE_APP_BYTES              0.091965\n",
              "REMOTE_APP_BYTES              0.001053\n",
              "APP_PACKETS                   0.032833\n",
              "DNS_QUERY_TIMES               0.000496\n",
              "CHARSET_Other                 0.000000\n",
              "CHARSET_UTF                   0.000000\n",
              "CHARSET_us-ascii              0.000000\n",
              "SERVER_GSE                    0.000000\n",
              "SERVER_Microsoft              0.000000\n",
              "SERVER_None                   0.000000\n",
              "SERVER_Other                  0.000000\n",
              "SERVER_nginx                  0.000000\n",
              "WHOIS_COUNTRY_CA              0.000000\n",
              "WHOIS_COUNTRY_ES              0.216652\n",
              "WHOIS_COUNTRY_None            0.000000\n",
              "WHOIS_COUNTRY_Other           0.000000\n",
              "WHOIS_COUNTRY_US              0.000000\n",
              "WHOIS_STATEPRO_CA             0.000000\n",
              "WHOIS_STATEPRO_NY             0.000000\n",
              "WHOIS_STATEPRO_None           0.000000\n",
              "WHOIS_STATEPRO_Other          0.000000\n",
              "WHOIS_STATEPRO_WA             0.000000"
            ],
            "text/html": [
              "\n",
              "  <div id=\"df-bf5ad805-16d3-4eb2-a642-b62efd2f5d76\" class=\"colab-df-container\">\n",
              "    <div>\n",
              "<style scoped>\n",
              "    .dataframe tbody tr th:only-of-type {\n",
              "        vertical-align: middle;\n",
              "    }\n",
              "\n",
              "    .dataframe tbody tr th {\n",
              "        vertical-align: top;\n",
              "    }\n",
              "\n",
              "    .dataframe thead th {\n",
              "        text-align: right;\n",
              "    }\n",
              "</style>\n",
              "<table border=\"1\" class=\"dataframe\">\n",
              "  <thead>\n",
              "    <tr style=\"text-align: right;\">\n",
              "      <th></th>\n",
              "      <th>Coefficient</th>\n",
              "    </tr>\n",
              "  </thead>\n",
              "  <tbody>\n",
              "    <tr>\n",
              "      <th>URL_LENGTH</th>\n",
              "      <td>0.000000</td>\n",
              "    </tr>\n",
              "    <tr>\n",
              "      <th>NUMBER_SPECIAL_CHARACTERS</th>\n",
              "      <td>0.171503</td>\n",
              "    </tr>\n",
              "    <tr>\n",
              "      <th>CONTENT_LENGTH</th>\n",
              "      <td>0.000000</td>\n",
              "    </tr>\n",
              "    <tr>\n",
              "      <th>TCP_CONVERSATION_EXCHANGE</th>\n",
              "      <td>0.000000</td>\n",
              "    </tr>\n",
              "    <tr>\n",
              "      <th>DIST_REMOTE_TCP_PORT</th>\n",
              "      <td>0.354045</td>\n",
              "    </tr>\n",
              "    <tr>\n",
              "      <th>REMOTE_IPS</th>\n",
              "      <td>0.009611</td>\n",
              "    </tr>\n",
              "    <tr>\n",
              "      <th>APP_BYTES</th>\n",
              "      <td>0.004764</td>\n",
              "    </tr>\n",
              "    <tr>\n",
              "      <th>SOURCE_APP_PACKETS</th>\n",
              "      <td>0.000000</td>\n",
              "    </tr>\n",
              "    <tr>\n",
              "      <th>REMOTE_APP_PACKETS</th>\n",
              "      <td>0.117077</td>\n",
              "    </tr>\n",
              "    <tr>\n",
              "      <th>SOURCE_APP_BYTES</th>\n",
              "      <td>0.091965</td>\n",
              "    </tr>\n",
              "    <tr>\n",
              "      <th>REMOTE_APP_BYTES</th>\n",
              "      <td>0.001053</td>\n",
              "    </tr>\n",
              "    <tr>\n",
              "      <th>APP_PACKETS</th>\n",
              "      <td>0.032833</td>\n",
              "    </tr>\n",
              "    <tr>\n",
              "      <th>DNS_QUERY_TIMES</th>\n",
              "      <td>0.000496</td>\n",
              "    </tr>\n",
              "    <tr>\n",
              "      <th>CHARSET_Other</th>\n",
              "      <td>0.000000</td>\n",
              "    </tr>\n",
              "    <tr>\n",
              "      <th>CHARSET_UTF</th>\n",
              "      <td>0.000000</td>\n",
              "    </tr>\n",
              "    <tr>\n",
              "      <th>CHARSET_us-ascii</th>\n",
              "      <td>0.000000</td>\n",
              "    </tr>\n",
              "    <tr>\n",
              "      <th>SERVER_GSE</th>\n",
              "      <td>0.000000</td>\n",
              "    </tr>\n",
              "    <tr>\n",
              "      <th>SERVER_Microsoft</th>\n",
              "      <td>0.000000</td>\n",
              "    </tr>\n",
              "    <tr>\n",
              "      <th>SERVER_None</th>\n",
              "      <td>0.000000</td>\n",
              "    </tr>\n",
              "    <tr>\n",
              "      <th>SERVER_Other</th>\n",
              "      <td>0.000000</td>\n",
              "    </tr>\n",
              "    <tr>\n",
              "      <th>SERVER_nginx</th>\n",
              "      <td>0.000000</td>\n",
              "    </tr>\n",
              "    <tr>\n",
              "      <th>WHOIS_COUNTRY_CA</th>\n",
              "      <td>0.000000</td>\n",
              "    </tr>\n",
              "    <tr>\n",
              "      <th>WHOIS_COUNTRY_ES</th>\n",
              "      <td>0.216652</td>\n",
              "    </tr>\n",
              "    <tr>\n",
              "      <th>WHOIS_COUNTRY_None</th>\n",
              "      <td>0.000000</td>\n",
              "    </tr>\n",
              "    <tr>\n",
              "      <th>WHOIS_COUNTRY_Other</th>\n",
              "      <td>0.000000</td>\n",
              "    </tr>\n",
              "    <tr>\n",
              "      <th>WHOIS_COUNTRY_US</th>\n",
              "      <td>0.000000</td>\n",
              "    </tr>\n",
              "    <tr>\n",
              "      <th>WHOIS_STATEPRO_CA</th>\n",
              "      <td>0.000000</td>\n",
              "    </tr>\n",
              "    <tr>\n",
              "      <th>WHOIS_STATEPRO_NY</th>\n",
              "      <td>0.000000</td>\n",
              "    </tr>\n",
              "    <tr>\n",
              "      <th>WHOIS_STATEPRO_None</th>\n",
              "      <td>0.000000</td>\n",
              "    </tr>\n",
              "    <tr>\n",
              "      <th>WHOIS_STATEPRO_Other</th>\n",
              "      <td>0.000000</td>\n",
              "    </tr>\n",
              "    <tr>\n",
              "      <th>WHOIS_STATEPRO_WA</th>\n",
              "      <td>0.000000</td>\n",
              "    </tr>\n",
              "  </tbody>\n",
              "</table>\n",
              "</div>\n",
              "    <div class=\"colab-df-buttons\">\n",
              "\n",
              "  <div class=\"colab-df-container\">\n",
              "    <button class=\"colab-df-convert\" onclick=\"convertToInteractive('df-bf5ad805-16d3-4eb2-a642-b62efd2f5d76')\"\n",
              "            title=\"Convert this dataframe to an interactive table.\"\n",
              "            style=\"display:none;\">\n",
              "\n",
              "  <svg xmlns=\"http://www.w3.org/2000/svg\" height=\"24px\" viewBox=\"0 -960 960 960\">\n",
              "    <path d=\"M120-120v-720h720v720H120Zm60-500h600v-160H180v160Zm220 220h160v-160H400v160Zm0 220h160v-160H400v160ZM180-400h160v-160H180v160Zm440 0h160v-160H620v160ZM180-180h160v-160H180v160Zm440 0h160v-160H620v160Z\"/>\n",
              "  </svg>\n",
              "    </button>\n",
              "\n",
              "  <style>\n",
              "    .colab-df-container {\n",
              "      display:flex;\n",
              "      gap: 12px;\n",
              "    }\n",
              "\n",
              "    .colab-df-convert {\n",
              "      background-color: #E8F0FE;\n",
              "      border: none;\n",
              "      border-radius: 50%;\n",
              "      cursor: pointer;\n",
              "      display: none;\n",
              "      fill: #1967D2;\n",
              "      height: 32px;\n",
              "      padding: 0 0 0 0;\n",
              "      width: 32px;\n",
              "    }\n",
              "\n",
              "    .colab-df-convert:hover {\n",
              "      background-color: #E2EBFA;\n",
              "      box-shadow: 0px 1px 2px rgba(60, 64, 67, 0.3), 0px 1px 3px 1px rgba(60, 64, 67, 0.15);\n",
              "      fill: #174EA6;\n",
              "    }\n",
              "\n",
              "    .colab-df-buttons div {\n",
              "      margin-bottom: 4px;\n",
              "    }\n",
              "\n",
              "    [theme=dark] .colab-df-convert {\n",
              "      background-color: #3B4455;\n",
              "      fill: #D2E3FC;\n",
              "    }\n",
              "\n",
              "    [theme=dark] .colab-df-convert:hover {\n",
              "      background-color: #434B5C;\n",
              "      box-shadow: 0px 1px 3px 1px rgba(0, 0, 0, 0.15);\n",
              "      filter: drop-shadow(0px 1px 2px rgba(0, 0, 0, 0.3));\n",
              "      fill: #FFFFFF;\n",
              "    }\n",
              "  </style>\n",
              "\n",
              "    <script>\n",
              "      const buttonEl =\n",
              "        document.querySelector('#df-bf5ad805-16d3-4eb2-a642-b62efd2f5d76 button.colab-df-convert');\n",
              "      buttonEl.style.display =\n",
              "        google.colab.kernel.accessAllowed ? 'block' : 'none';\n",
              "\n",
              "      async function convertToInteractive(key) {\n",
              "        const element = document.querySelector('#df-bf5ad805-16d3-4eb2-a642-b62efd2f5d76');\n",
              "        const dataTable =\n",
              "          await google.colab.kernel.invokeFunction('convertToInteractive',\n",
              "                                                    [key], {});\n",
              "        if (!dataTable) return;\n",
              "\n",
              "        const docLinkHtml = 'Like what you see? Visit the ' +\n",
              "          '<a target=\"_blank\" href=https://colab.research.google.com/notebooks/data_table.ipynb>data table notebook</a>'\n",
              "          + ' to learn more about interactive tables.';\n",
              "        element.innerHTML = '';\n",
              "        dataTable['output_type'] = 'display_data';\n",
              "        await google.colab.output.renderOutput(dataTable, element);\n",
              "        const docLink = document.createElement('div');\n",
              "        docLink.innerHTML = docLinkHtml;\n",
              "        element.appendChild(docLink);\n",
              "      }\n",
              "    </script>\n",
              "  </div>\n",
              "\n",
              "\n",
              "<div id=\"df-597aeeaf-4641-4d62-8402-6553bfb26d25\">\n",
              "  <button class=\"colab-df-quickchart\" onclick=\"quickchart('df-597aeeaf-4641-4d62-8402-6553bfb26d25')\"\n",
              "            title=\"Suggest charts.\"\n",
              "            style=\"display:none;\">\n",
              "\n",
              "<svg xmlns=\"http://www.w3.org/2000/svg\" height=\"24px\"viewBox=\"0 0 24 24\"\n",
              "     width=\"24px\">\n",
              "    <g>\n",
              "        <path d=\"M19 3H5c-1.1 0-2 .9-2 2v14c0 1.1.9 2 2 2h14c1.1 0 2-.9 2-2V5c0-1.1-.9-2-2-2zM9 17H7v-7h2v7zm4 0h-2V7h2v10zm4 0h-2v-4h2v4z\"/>\n",
              "    </g>\n",
              "</svg>\n",
              "  </button>\n",
              "\n",
              "<style>\n",
              "  .colab-df-quickchart {\n",
              "      --bg-color: #E8F0FE;\n",
              "      --fill-color: #1967D2;\n",
              "      --hover-bg-color: #E2EBFA;\n",
              "      --hover-fill-color: #174EA6;\n",
              "      --disabled-fill-color: #AAA;\n",
              "      --disabled-bg-color: #DDD;\n",
              "  }\n",
              "\n",
              "  [theme=dark] .colab-df-quickchart {\n",
              "      --bg-color: #3B4455;\n",
              "      --fill-color: #D2E3FC;\n",
              "      --hover-bg-color: #434B5C;\n",
              "      --hover-fill-color: #FFFFFF;\n",
              "      --disabled-bg-color: #3B4455;\n",
              "      --disabled-fill-color: #666;\n",
              "  }\n",
              "\n",
              "  .colab-df-quickchart {\n",
              "    background-color: var(--bg-color);\n",
              "    border: none;\n",
              "    border-radius: 50%;\n",
              "    cursor: pointer;\n",
              "    display: none;\n",
              "    fill: var(--fill-color);\n",
              "    height: 32px;\n",
              "    padding: 0;\n",
              "    width: 32px;\n",
              "  }\n",
              "\n",
              "  .colab-df-quickchart:hover {\n",
              "    background-color: var(--hover-bg-color);\n",
              "    box-shadow: 0 1px 2px rgba(60, 64, 67, 0.3), 0 1px 3px 1px rgba(60, 64, 67, 0.15);\n",
              "    fill: var(--button-hover-fill-color);\n",
              "  }\n",
              "\n",
              "  .colab-df-quickchart-complete:disabled,\n",
              "  .colab-df-quickchart-complete:disabled:hover {\n",
              "    background-color: var(--disabled-bg-color);\n",
              "    fill: var(--disabled-fill-color);\n",
              "    box-shadow: none;\n",
              "  }\n",
              "\n",
              "  .colab-df-spinner {\n",
              "    border: 2px solid var(--fill-color);\n",
              "    border-color: transparent;\n",
              "    border-bottom-color: var(--fill-color);\n",
              "    animation:\n",
              "      spin 1s steps(1) infinite;\n",
              "  }\n",
              "\n",
              "  @keyframes spin {\n",
              "    0% {\n",
              "      border-color: transparent;\n",
              "      border-bottom-color: var(--fill-color);\n",
              "      border-left-color: var(--fill-color);\n",
              "    }\n",
              "    20% {\n",
              "      border-color: transparent;\n",
              "      border-left-color: var(--fill-color);\n",
              "      border-top-color: var(--fill-color);\n",
              "    }\n",
              "    30% {\n",
              "      border-color: transparent;\n",
              "      border-left-color: var(--fill-color);\n",
              "      border-top-color: var(--fill-color);\n",
              "      border-right-color: var(--fill-color);\n",
              "    }\n",
              "    40% {\n",
              "      border-color: transparent;\n",
              "      border-right-color: var(--fill-color);\n",
              "      border-top-color: var(--fill-color);\n",
              "    }\n",
              "    60% {\n",
              "      border-color: transparent;\n",
              "      border-right-color: var(--fill-color);\n",
              "    }\n",
              "    80% {\n",
              "      border-color: transparent;\n",
              "      border-right-color: var(--fill-color);\n",
              "      border-bottom-color: var(--fill-color);\n",
              "    }\n",
              "    90% {\n",
              "      border-color: transparent;\n",
              "      border-bottom-color: var(--fill-color);\n",
              "    }\n",
              "  }\n",
              "</style>\n",
              "\n",
              "  <script>\n",
              "    async function quickchart(key) {\n",
              "      const quickchartButtonEl =\n",
              "        document.querySelector('#' + key + ' button');\n",
              "      quickchartButtonEl.disabled = true;  // To prevent multiple clicks.\n",
              "      quickchartButtonEl.classList.add('colab-df-spinner');\n",
              "      try {\n",
              "        const charts = await google.colab.kernel.invokeFunction(\n",
              "            'suggestCharts', [key], {});\n",
              "      } catch (error) {\n",
              "        console.error('Error during call to suggestCharts:', error);\n",
              "      }\n",
              "      quickchartButtonEl.classList.remove('colab-df-spinner');\n",
              "      quickchartButtonEl.classList.add('colab-df-quickchart-complete');\n",
              "    }\n",
              "    (() => {\n",
              "      let quickchartButtonEl =\n",
              "        document.querySelector('#df-597aeeaf-4641-4d62-8402-6553bfb26d25 button');\n",
              "      quickchartButtonEl.style.display =\n",
              "        google.colab.kernel.accessAllowed ? 'block' : 'none';\n",
              "    })();\n",
              "  </script>\n",
              "</div>\n",
              "    </div>\n",
              "  </div>\n"
            ]
          },
          "metadata": {},
          "execution_count": 37
        }
      ]
    },
    {
      "cell_type": "markdown",
      "source": [
        "**PR Curve**"
      ],
      "metadata": {
        "id": "piX0VvCGpjf4"
      }
    },
    {
      "cell_type": "code",
      "source": [
        "precision, recall, thresholds = precision_recall_curve(y_test, predictions)\n",
        "plt.plot(recall, precision, color='b', label='PR Curve')"
      ],
      "metadata": {
        "colab": {
          "base_uri": "https://localhost:8080/",
          "height": 447
        },
        "id": "3yAZgYMNpzdo",
        "outputId": "547027db-9579-4c1c-8f27-748bb066447a"
      },
      "execution_count": null,
      "outputs": [
        {
          "output_type": "execute_result",
          "data": {
            "text/plain": [
              "[<matplotlib.lines.Line2D at 0x79081ff612d0>]"
            ]
          },
          "metadata": {},
          "execution_count": 38
        },
        {
          "output_type": "display_data",
          "data": {
            "text/plain": [
              "<Figure size 640x480 with 1 Axes>"
            ],
            "image/png": "[encoded data removed]"
          },
          "metadata": {}
        }
      ]
    },
    {
      "cell_type": "markdown",
      "source": [
        "**ROC Curve**"
      ],
      "metadata": {
        "id": "crmArzYQpl8E"
      }
    },
    {
      "cell_type": "code",
      "source": [
        "fpr, tpr, thresholds = roc_curve(y_test, predictions)\n",
        "plt.plot(fpr, tpr, color='darkred',label='ROC curve')"
      ],
      "metadata": {
        "colab": {
          "base_uri": "https://localhost:8080/",
          "height": 447
        },
        "id": "ppfri1zLpz1R",
        "outputId": "7f0c4b2c-7220-4627-ed18-c217bb7b03b9"
      },
      "execution_count": null,
      "outputs": [
        {
          "output_type": "execute_result",
          "data": {
            "text/plain": [
              "[<matplotlib.lines.Line2D at 0x79081e5d5c00>]"
            ]
          },
          "metadata": {},
          "execution_count": 39
        },
        {
          "output_type": "display_data",
          "data": {
            "text/plain": [
              "<Figure size 640x480 with 1 Axes>"
            ],
            "image/png": "[encoded data removed]"
          },
          "metadata": {}
        }
      ]
    },
    {
      "cell_type": "markdown",
      "source": [
        "**AUC**"
      ],
      "metadata": {
        "id": "P35m5DXdpoqT"
      }
    },
    {
      "cell_type": "code",
      "source": [
        "roc_auc = auc(fpr, tpr)\n",
        "roc_auc"
      ],
      "metadata": {
        "colab": {
          "base_uri": "https://localhost:8080/"
        },
        "id": "4J8u6jkxp0Il",
        "outputId": "8bf85945-a3ce-4554-f49e-3493421b74fd"
      },
      "execution_count": null,
      "outputs": [
        {
          "output_type": "execute_result",
          "data": {
            "text/plain": [
              "0.8348789888673671"
            ]
          },
          "metadata": {},
          "execution_count": 40
        }
      ]
    },
    {
      "cell_type": "markdown",
      "source": [
        "**Результати**\n",
        "\n",
        "Ми отримали непогану модель, але класс \"1\" визначається досить середнє. З одного боку модель не сховає помилково \"безпечні сайти\", але пропустить деякі з \"шкідливих\". Для покращення на мою думку треба якісніше зробити етап препроцесінгу датасета."
      ],
      "metadata": {
        "id": "GWzOIVD5ptqn"
      }
    },
    {
      "cell_type": "markdown",
      "source": [
        "# Висновки\n",
        "В цій роботі я опанував на початковому рівні дерева рішень. Я також обробляв та підготавлював датасет перед обробкою, що є кроком можливо важливішим за сам етап побудови моделі. Перший датасет був штучним і для еього вийшло побудувати \"ідеальну модель\". Для другого датасету модель вийшла гірше. Точність виявлення \"шкідливих сатйів\" треба суттєво покращити для реального використання моделі. Частково на мою думку проблема в низький кількості екземплярів \"шкідливих сайтів\" в датасеті."
      ],
      "metadata": {
        "id": "oNmKQb-FlALv"
      }
    }
  ]
}