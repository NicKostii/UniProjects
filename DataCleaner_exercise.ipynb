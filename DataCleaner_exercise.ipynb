{
  "nbformat": 4,
  "nbformat_minor": 0,
  "metadata": {
    "colab": {
      "provenance": [],
      "include_colab_link": true
    },
    "kernelspec": {
      "name": "python3",
      "display_name": "Python 3"
    },
    "language_info": {
      "name": "python"
    }
  },
  "cells": [
    {
      "cell_type": "markdown",
      "metadata": {
        "id": "view-in-github",
        "colab_type": "text"
      },
      "source": [
        "<a href=\"https://colab.research.google.com/github/NicKostii/UniProjects/blob/main/DataCleaner_exercise.ipynb\" target=\"_parent\"><img src=\"https://colab.research.google.com/assets/colab-badge.svg\" alt=\"Open In Colab\"/></a>"
      ]
    },
    {
      "cell_type": "code",
      "source": [
        "\"\"\"\n",
        "Instructions:\n",
        "\n",
        "Fill in the methods of the DataCleaner class to produce the same printed results\n",
        "as in the comments below. Good luck, and have fun!\n",
        "\"\"\"\n",
        "from __future__ import annotations\n",
        "import os\n",
        "import numpy as np\n",
        "import pandas as pd\n",
        "import pickle\n",
        "\n",
        "class DataCleaner:\n",
        "    def __init__(self, df: pd.DataFrame):\n",
        "        self.history = [(\"Initial df\", df.copy())]\n",
        "        self.current = df.copy()\n",
        "\n",
        "    def __del__(self):\n",
        "        if os.path.exists(\"transactions.pkl\"):\n",
        "                os.remove(\"transactions.pkl\")\n",
        "\n",
        "    def adjust_dtype(self, dtypes: dict):\n",
        "        for column, dtype in dtypes.items():\n",
        "            if dtype == np.datetime64:\n",
        "                self.current[column] = pd.to_datetime(self.current[column])\n",
        "            else:\n",
        "                self.current[column] = self.current[column].astype(dtype)\n",
        "        self.history.append((f\"Adjusted dtypes using {dtypes}\", self.current.copy()))\n",
        "\n",
        "    def impute_missing(self, columns: list[str]):\n",
        "        for column in columns:\n",
        "            mean_value = self.current[column].mean()\n",
        "            self.current[column].fillna(mean_value, inplace=True)\n",
        "        self.history.append((f\"Imputed missing in {columns}\", self.current.copy()))\n",
        "\n",
        "\n",
        "    def save(self, filename: str):\n",
        "        with open(f\"{filename}.pkl\", \"wb\") as f:\n",
        "            pickle.dump(self, f)\n",
        "\n",
        "    def load(filename: str) -> DataCleaner:\n",
        "        with open(f\"{filename}.pkl\", \"rb\") as f:\n",
        "            return pickle.load(f)\n",
        "\n",
        "    def revert(self):\n",
        "        if len(self.history) > 1:\n",
        "            self.history.pop()\n",
        "            self.current = self.history[-1][1].copy()\n",
        "\n",
        "\n",
        "transactions = pd.DataFrame(\n",
        "    {\n",
        "        \"customer_id\": [10, 10, 13, 10, 11, 11, 10],\n",
        "        \"amount\": [1.00, 1.31, 20.5, 0.5, 0.2, 0.2, np.nan],\n",
        "        \"timestamp\": [\n",
        "            \"2020-10-08 11:32:01\",\n",
        "            \"2020-10-08 13:45:00\",\n",
        "            \"2020-10-07 05:10:30\",\n",
        "            \"2020-10-08 12:30:00\",\n",
        "            \"2020-10-07 01:29:33\",\n",
        "            \"2020-10-08 13:45:00\",\n",
        "            \"2020-10-09 02:05:21\",\n",
        "        ]\n",
        "    }\n",
        ")\n",
        "transactions_dc = DataCleaner(transactions)"
      ],
      "metadata": {
        "id": "blxC48w1PTNq"
      },
      "execution_count": 1,
      "outputs": []
    },
    {
      "cell_type": "code",
      "source": [
        "print(f\"Current dataframe:\\n{transactions_dc.current}\")"
      ],
      "metadata": {
        "colab": {
          "base_uri": "https://localhost:8080/"
        },
        "id": "1IAUBbWhPVQa",
        "outputId": "df81c31e-56a1-465f-a560-740f4d2ed783"
      },
      "execution_count": 2,
      "outputs": [
        {
          "output_type": "stream",
          "name": "stdout",
          "text": [
            "Current dataframe:\n",
            "   customer_id  amount            timestamp\n",
            "0           10    1.00  2020-10-08 11:32:01\n",
            "1           10    1.31  2020-10-08 13:45:00\n",
            "2           13   20.50  2020-10-07 05:10:30\n",
            "3           10    0.50  2020-10-08 12:30:00\n",
            "4           11    0.20  2020-10-07 01:29:33\n",
            "5           11    0.20  2020-10-08 13:45:00\n",
            "6           10     NaN  2020-10-09 02:05:21\n"
          ]
        }
      ]
    },
    {
      "cell_type": "code",
      "source": [
        "print(f\"Current dtypes:\\n{transactions_dc.current.dtypes}\")"
      ],
      "metadata": {
        "colab": {
          "base_uri": "https://localhost:8080/"
        },
        "id": "tfpsN394Phbx",
        "outputId": "dc8cb8ee-4554-4a22-9539-6eb4fbd1d2d3"
      },
      "execution_count": 3,
      "outputs": [
        {
          "output_type": "stream",
          "name": "stdout",
          "text": [
            "Current dtypes:\n",
            "customer_id      int64\n",
            "amount         float64\n",
            "timestamp       object\n",
            "dtype: object\n"
          ]
        }
      ]
    },
    {
      "cell_type": "code",
      "source": [
        "transactions_dc.adjust_dtype({\"timestamp\": np.datetime64})\n",
        "\n",
        "print(f\"Changed dtypes to:\\n{transactions_dc.current.dtypes}\")"
      ],
      "metadata": {
        "colab": {
          "base_uri": "https://localhost:8080/"
        },
        "id": "JfkHz8JFPkJ_",
        "outputId": "1f16b777-ef16-4a31-c944-0f66d28aa85e"
      },
      "execution_count": 4,
      "outputs": [
        {
          "output_type": "stream",
          "name": "stdout",
          "text": [
            "Changed dtypes to:\n",
            "customer_id             int64\n",
            "amount                float64\n",
            "timestamp      datetime64[ns]\n",
            "dtype: object\n"
          ]
        }
      ]
    },
    {
      "cell_type": "code",
      "source": [
        "transactions_dc.impute_missing(columns=[\"amount\"])\n",
        "\n",
        "print(f\"Imputed missing as overall mean:\\n{transactions_dc.current}\")"
      ],
      "metadata": {
        "colab": {
          "base_uri": "https://localhost:8080/"
        },
        "id": "snCSfT3WPnE_",
        "outputId": "6c9353ad-7ebe-4626-f5a8-168bc4df581d"
      },
      "execution_count": 5,
      "outputs": [
        {
          "output_type": "stream",
          "name": "stdout",
          "text": [
            "Imputed missing as overall mean:\n",
            "   customer_id     amount           timestamp\n",
            "0           10   1.000000 2020-10-08 11:32:01\n",
            "1           10   1.310000 2020-10-08 13:45:00\n",
            "2           13  20.500000 2020-10-07 05:10:30\n",
            "3           10   0.500000 2020-10-08 12:30:00\n",
            "4           11   0.200000 2020-10-07 01:29:33\n",
            "5           11   0.200000 2020-10-08 13:45:00\n",
            "6           10   3.951667 2020-10-09 02:05:21\n"
          ]
        },
        {
          "output_type": "stream",
          "name": "stderr",
          "text": [
            "/tmp/ipython-input-1-1770572536.py:33: FutureWarning: A value is trying to be set on a copy of a DataFrame or Series through chained assignment using an inplace method.\n",
            "The behavior will change in pandas 3.0. This inplace method will never work because the intermediate object on which we are setting values always behaves as a copy.\n",
            "\n",
            "For example, when doing 'df[col].method(value, inplace=True)', try using 'df.method({col: value}, inplace=True)' or df[col] = df[col].method(value) instead, to perform the operation inplace on the original object.\n",
            "\n",
            "\n",
            "  self.current[column].fillna(mean_value, inplace=True)\n"
          ]
        }
      ]
    },
    {
      "cell_type": "code",
      "source": [
        "print(f\"History of changes:\\n{transactions_dc.history}\")"
      ],
      "metadata": {
        "colab": {
          "base_uri": "https://localhost:8080/"
        },
        "id": "ZUW8VEgiPtR9",
        "outputId": "4a4e3b93-1259-45d8-ce91-116d65b48843"
      },
      "execution_count": 7,
      "outputs": [
        {
          "output_type": "stream",
          "name": "stdout",
          "text": [
            "History of changes:\n",
            "[('Initial df',    customer_id  amount            timestamp\n",
            "0           10    1.00  2020-10-08 11:32:01\n",
            "1           10    1.31  2020-10-08 13:45:00\n",
            "2           13   20.50  2020-10-07 05:10:30\n",
            "3           10    0.50  2020-10-08 12:30:00\n",
            "4           11    0.20  2020-10-07 01:29:33\n",
            "5           11    0.20  2020-10-08 13:45:00\n",
            "6           10     NaN  2020-10-09 02:05:21), (\"Adjusted dtypes using {'timestamp': <class 'numpy.datetime64'>}\",    customer_id  amount           timestamp\n",
            "0           10    1.00 2020-10-08 11:32:01\n",
            "1           10    1.31 2020-10-08 13:45:00\n",
            "2           13   20.50 2020-10-07 05:10:30\n",
            "3           10    0.50 2020-10-08 12:30:00\n",
            "4           11    0.20 2020-10-07 01:29:33\n",
            "5           11    0.20 2020-10-08 13:45:00\n",
            "6           10     NaN 2020-10-09 02:05:21)]\n"
          ]
        }
      ]
    },
    {
      "cell_type": "code",
      "source": [
        "transactions_dc.save(\"transactions\")\n",
        "loaded_dc = DataCleaner.load(\"transactions\")\n",
        "print(f\"Loaded DataCleaner current df:\\n{loaded_dc.current}\")"
      ],
      "metadata": {
        "colab": {
          "base_uri": "https://localhost:8080/"
        },
        "id": "giAqpqA0Pwfx",
        "outputId": "6ec8650c-d53e-45a3-ddd5-fbb06b97fe2d"
      },
      "execution_count": 9,
      "outputs": [
        {
          "output_type": "stream",
          "name": "stdout",
          "text": [
            "Loaded DataCleaner current df:\n",
            "   customer_id  amount            timestamp\n",
            "0           10    1.00  2020-10-08 11:32:01\n",
            "1           10    1.31  2020-10-08 13:45:00\n",
            "2           13   20.50  2020-10-07 05:10:30\n",
            "3           10    0.50  2020-10-08 12:30:00\n",
            "4           11    0.20  2020-10-07 01:29:33\n",
            "5           11    0.20  2020-10-08 13:45:00\n",
            "6           10     NaN  2020-10-09 02:05:21\n"
          ]
        }
      ]
    },
    {
      "cell_type": "code",
      "source": [
        "transactions_dc.revert()\n",
        "print(f\"Reverting missing value imputation:\\n{transactions_dc.current}\")"
      ],
      "metadata": {
        "colab": {
          "base_uri": "https://localhost:8080/"
        },
        "id": "bDfAn-AxPyJr",
        "outputId": "441c3536-9794-4248-dd69-5f00e471a16d"
      },
      "execution_count": 11,
      "outputs": [
        {
          "output_type": "stream",
          "name": "stdout",
          "text": [
            "Reverting missing value imputation:\n",
            "   customer_id  amount            timestamp\n",
            "0           10    1.00  2020-10-08 11:32:01\n",
            "1           10    1.31  2020-10-08 13:45:00\n",
            "2           13   20.50  2020-10-07 05:10:30\n",
            "3           10    0.50  2020-10-08 12:30:00\n",
            "4           11    0.20  2020-10-07 01:29:33\n",
            "5           11    0.20  2020-10-08 13:45:00\n",
            "6           10     NaN  2020-10-09 02:05:21\n"
          ]
        }
      ]
    },
    {
      "cell_type": "code",
      "source": [
        "def solution(transactions):\n",
        "    \"\"\"Do not change. Could be:\n",
        "    \"timestamp\": np.datetime64 or \"timestamp\": \"datetime64[ns]\"\n",
        "    depends on realisation\n",
        "    \"\"\"\n",
        "    rez = []\n",
        "\n",
        "    transactions_dc = DataCleaner(transactions)\n",
        "    rez.append(f\"Current dataframe:\\n{transactions_dc.current}\")\n",
        "    rez.append(f\"Current dtypes:\\n{transactions_dc.current.dtypes}\")\n",
        "    # transactions_dc.adjust_dtype({\"timestamp\": np.datetime64})\n",
        "    transactions_dc.adjust_dtype({\"timestamp\": \"datetime64[ns]\"})\n",
        "    rez.append(f\"Changed dtypes to:\\n{transactions_dc.current.dtypes}\")\n",
        "\n",
        "    transactions_dc.impute_missing(columns=[\"amount\"])\n",
        "    rez.append(f\"Changed dtypes to:\\n{transactions_dc.current.dtypes}\")\n",
        "    rez.append(f\"Imputed missing as overall mean:\\n{transactions_dc.current}\")\n",
        "    rez.append(f\"History of changes:\\n{transactions_dc.history}\")\n",
        "\n",
        "    transactions_dc.save(\"transactions\")\n",
        "    loaded_dc = DataCleaner.load(\"transactions\")\n",
        "    rez.append(f\"Loaded DataCleaner current df:\\n{loaded_dc.current}\")\n",
        "\n",
        "    transactions_dc.revert()\n",
        "    rez.append(\n",
        "        f\"Reverting missing value imputation:\\n{transactions_dc.current}\"\n",
        "    )\n",
        "    return rez\n",
        "\n",
        "\n",
        "if __name__ == \"__main__\":\n",
        "    pass"
      ],
      "metadata": {
        "id": "07q0oiiltqUk"
      },
      "execution_count": 12,
      "outputs": []
    }
  ]
}